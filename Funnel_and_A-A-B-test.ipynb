{
 "cells": [
  {
   "cell_type": "markdown",
   "metadata": {},
   "source": [
    "# Анализ воронки событий и А/А/В-теста"
   ]
  },
  {
   "cell_type": "markdown",
   "metadata": {},
   "source": [
    "# Введение"
   ]
  },
  {
   "cell_type": "markdown",
   "metadata": {},
   "source": [
    "В данном исследовании мы изучим поведение пользователей мобильного приложения, составим и проанализируем воронку событий, а так же определимся с результатами А/А/В-теста \\\n",
    "\\\n",
    "Определим несколько **целей** данного исследования: \n",
    "1) Составить и изучить воронку событий, определив конверсию на каждом шаге \n",
    "2) Изучить и проанализировать результата А/А/В-теста \n",
    "\\\n",
    "В нашем распоряжении данные о всех событиях, через которые проходят пользователи. Также в данных хранится информация какой пользователей принадлежит к какой контрольной группе \n",
    "\\\n",
    "**План работы:** \n",
    "1) Изучить и обработать данные, избавившись от проблем и ошибок в данных и подготовить их к дальнейшему анализу \n",
    "2) Посчитать, сколько пользователей совершали какое-либо из событий \n",
    "3) Определить долю пользователей, перешедших на каждый последующий шаг воронки событий \n",
    "4) Проверить, равны ли группы А/А между собой \n",
    "5) Найти статистически значимые различия или их отсутствие между группой с измененным шрифтом и двумя другими контрольными группами"
   ]
  },
  {
   "cell_type": "markdown",
   "metadata": {},
   "source": [
    "# Предобработка данных"
   ]
  },
  {
   "cell_type": "code",
   "execution_count": 1,
   "metadata": {},
   "outputs": [],
   "source": [
    "import pandas as pd\n",
    "import matplotlib.pyplot as plt\n",
    "from scipy import stats as st\n",
    "import numpy as np\n",
    "import math as mth\n",
    "import plotly.express as px"
   ]
  },
  {
   "cell_type": "code",
   "execution_count": 3,
   "metadata": {},
   "outputs": [
    {
     "data": {
      "text/html": [
       "<div>\n",
       "<style scoped>\n",
       "    .dataframe tbody tr th:only-of-type {\n",
       "        vertical-align: middle;\n",
       "    }\n",
       "\n",
       "    .dataframe tbody tr th {\n",
       "        vertical-align: top;\n",
       "    }\n",
       "\n",
       "    .dataframe thead th {\n",
       "        text-align: right;\n",
       "    }\n",
       "</style>\n",
       "<table border=\"1\" class=\"dataframe\">\n",
       "  <thead>\n",
       "    <tr style=\"text-align: right;\">\n",
       "      <th></th>\n",
       "      <th>EventName</th>\n",
       "      <th>DeviceIDHash</th>\n",
       "      <th>EventTimestamp</th>\n",
       "      <th>ExpId</th>\n",
       "    </tr>\n",
       "  </thead>\n",
       "  <tbody>\n",
       "    <tr>\n",
       "      <th>0</th>\n",
       "      <td>MainScreenAppear</td>\n",
       "      <td>4575588528974610257</td>\n",
       "      <td>1564029816</td>\n",
       "      <td>246</td>\n",
       "    </tr>\n",
       "    <tr>\n",
       "      <th>1</th>\n",
       "      <td>MainScreenAppear</td>\n",
       "      <td>7416695313311560658</td>\n",
       "      <td>1564053102</td>\n",
       "      <td>246</td>\n",
       "    </tr>\n",
       "    <tr>\n",
       "      <th>2</th>\n",
       "      <td>PaymentScreenSuccessful</td>\n",
       "      <td>3518123091307005509</td>\n",
       "      <td>1564054127</td>\n",
       "      <td>248</td>\n",
       "    </tr>\n",
       "    <tr>\n",
       "      <th>3</th>\n",
       "      <td>CartScreenAppear</td>\n",
       "      <td>3518123091307005509</td>\n",
       "      <td>1564054127</td>\n",
       "      <td>248</td>\n",
       "    </tr>\n",
       "    <tr>\n",
       "      <th>4</th>\n",
       "      <td>PaymentScreenSuccessful</td>\n",
       "      <td>6217807653094995999</td>\n",
       "      <td>1564055322</td>\n",
       "      <td>248</td>\n",
       "    </tr>\n",
       "    <tr>\n",
       "      <th>...</th>\n",
       "      <td>...</td>\n",
       "      <td>...</td>\n",
       "      <td>...</td>\n",
       "      <td>...</td>\n",
       "    </tr>\n",
       "    <tr>\n",
       "      <th>244121</th>\n",
       "      <td>MainScreenAppear</td>\n",
       "      <td>4599628364049201812</td>\n",
       "      <td>1565212345</td>\n",
       "      <td>247</td>\n",
       "    </tr>\n",
       "    <tr>\n",
       "      <th>244122</th>\n",
       "      <td>MainScreenAppear</td>\n",
       "      <td>5849806612437486590</td>\n",
       "      <td>1565212439</td>\n",
       "      <td>246</td>\n",
       "    </tr>\n",
       "    <tr>\n",
       "      <th>244123</th>\n",
       "      <td>MainScreenAppear</td>\n",
       "      <td>5746969938801999050</td>\n",
       "      <td>1565212483</td>\n",
       "      <td>246</td>\n",
       "    </tr>\n",
       "    <tr>\n",
       "      <th>244124</th>\n",
       "      <td>MainScreenAppear</td>\n",
       "      <td>5746969938801999050</td>\n",
       "      <td>1565212498</td>\n",
       "      <td>246</td>\n",
       "    </tr>\n",
       "    <tr>\n",
       "      <th>244125</th>\n",
       "      <td>OffersScreenAppear</td>\n",
       "      <td>5746969938801999050</td>\n",
       "      <td>1565212517</td>\n",
       "      <td>246</td>\n",
       "    </tr>\n",
       "  </tbody>\n",
       "</table>\n",
       "<p>244126 rows × 4 columns</p>\n",
       "</div>"
      ],
      "text/plain": [
       "                      EventName         DeviceIDHash  EventTimestamp  ExpId\n",
       "0              MainScreenAppear  4575588528974610257      1564029816    246\n",
       "1              MainScreenAppear  7416695313311560658      1564053102    246\n",
       "2       PaymentScreenSuccessful  3518123091307005509      1564054127    248\n",
       "3              CartScreenAppear  3518123091307005509      1564054127    248\n",
       "4       PaymentScreenSuccessful  6217807653094995999      1564055322    248\n",
       "...                         ...                  ...             ...    ...\n",
       "244121         MainScreenAppear  4599628364049201812      1565212345    247\n",
       "244122         MainScreenAppear  5849806612437486590      1565212439    246\n",
       "244123         MainScreenAppear  5746969938801999050      1565212483    246\n",
       "244124         MainScreenAppear  5746969938801999050      1565212498    246\n",
       "244125       OffersScreenAppear  5746969938801999050      1565212517    246\n",
       "\n",
       "[244126 rows x 4 columns]"
      ]
     },
     "execution_count": 3,
     "metadata": {},
     "output_type": "execute_result"
    }
   ],
   "source": [
    "data"
   ]
  },
  {
   "cell_type": "code",
   "execution_count": 4,
   "metadata": {},
   "outputs": [],
   "source": [
    "data.columns = (['event_name', 'device_id_hash', 'events_timestamp', 'exp_id']) # переименование столбцов"
   ]
  },
  {
   "cell_type": "code",
   "execution_count": 5,
   "metadata": {},
   "outputs": [
    {
     "name": "stdout",
     "output_type": "stream",
     "text": [
      "<class 'pandas.core.frame.DataFrame'>\n",
      "RangeIndex: 244126 entries, 0 to 244125\n",
      "Data columns (total 4 columns):\n",
      " #   Column            Non-Null Count   Dtype \n",
      "---  ------            --------------   ----- \n",
      " 0   event_name        244126 non-null  object\n",
      " 1   device_id_hash    244126 non-null  int64 \n",
      " 2   events_timestamp  244126 non-null  int64 \n",
      " 3   exp_id            244126 non-null  int64 \n",
      "dtypes: int64(3), object(1)\n",
      "memory usage: 7.5+ MB\n"
     ]
    }
   ],
   "source": [
    "data.info()"
   ]
  },
  {
   "cell_type": "markdown",
   "metadata": {},
   "source": [
    "Тип данных во всех столбцах верный. Столбец `events_timestamp` отражает число секунд по стандарту UTC"
   ]
  },
  {
   "cell_type": "code",
   "execution_count": 6,
   "metadata": {},
   "outputs": [
    {
     "data": {
      "text/plain": [
       "event_name          0\n",
       "device_id_hash      0\n",
       "events_timestamp    0\n",
       "exp_id              0\n",
       "dtype: int64"
      ]
     },
     "execution_count": 6,
     "metadata": {},
     "output_type": "execute_result"
    }
   ],
   "source": [
    "data.isna().sum()"
   ]
  },
  {
   "cell_type": "markdown",
   "metadata": {},
   "source": [
    "Пропусков в данных нет"
   ]
  },
  {
   "cell_type": "markdown",
   "metadata": {},
   "source": [
    "Добавим столбец с датой и временем, переведя их из формата UTC столбца `events_timestamp`"
   ]
  },
  {
   "cell_type": "code",
   "execution_count": 7,
   "metadata": {},
   "outputs": [],
   "source": [
    "data['date_time'] = pd.to_datetime(data['events_timestamp'], unit='s')\n",
    "data['date'] = data['date_time'].dt.date\n",
    "data['date'] = pd.to_datetime(data['date'], format='%Y.%m.%d') # приводим столбец к формату datetime"
   ]
  },
  {
   "cell_type": "code",
   "execution_count": 8,
   "metadata": {},
   "outputs": [
    {
     "data": {
      "text/html": [
       "<div>\n",
       "<style scoped>\n",
       "    .dataframe tbody tr th:only-of-type {\n",
       "        vertical-align: middle;\n",
       "    }\n",
       "\n",
       "    .dataframe tbody tr th {\n",
       "        vertical-align: top;\n",
       "    }\n",
       "\n",
       "    .dataframe thead th {\n",
       "        text-align: right;\n",
       "    }\n",
       "</style>\n",
       "<table border=\"1\" class=\"dataframe\">\n",
       "  <thead>\n",
       "    <tr style=\"text-align: right;\">\n",
       "      <th></th>\n",
       "      <th>event_name</th>\n",
       "      <th>device_id_hash</th>\n",
       "      <th>events_timestamp</th>\n",
       "      <th>exp_id</th>\n",
       "      <th>date_time</th>\n",
       "      <th>date</th>\n",
       "    </tr>\n",
       "  </thead>\n",
       "  <tbody>\n",
       "    <tr>\n",
       "      <th>0</th>\n",
       "      <td>MainScreenAppear</td>\n",
       "      <td>4575588528974610257</td>\n",
       "      <td>1564029816</td>\n",
       "      <td>246</td>\n",
       "      <td>2019-07-25 04:43:36</td>\n",
       "      <td>2019-07-25</td>\n",
       "    </tr>\n",
       "    <tr>\n",
       "      <th>1</th>\n",
       "      <td>MainScreenAppear</td>\n",
       "      <td>7416695313311560658</td>\n",
       "      <td>1564053102</td>\n",
       "      <td>246</td>\n",
       "      <td>2019-07-25 11:11:42</td>\n",
       "      <td>2019-07-25</td>\n",
       "    </tr>\n",
       "    <tr>\n",
       "      <th>2</th>\n",
       "      <td>PaymentScreenSuccessful</td>\n",
       "      <td>3518123091307005509</td>\n",
       "      <td>1564054127</td>\n",
       "      <td>248</td>\n",
       "      <td>2019-07-25 11:28:47</td>\n",
       "      <td>2019-07-25</td>\n",
       "    </tr>\n",
       "    <tr>\n",
       "      <th>3</th>\n",
       "      <td>CartScreenAppear</td>\n",
       "      <td>3518123091307005509</td>\n",
       "      <td>1564054127</td>\n",
       "      <td>248</td>\n",
       "      <td>2019-07-25 11:28:47</td>\n",
       "      <td>2019-07-25</td>\n",
       "    </tr>\n",
       "    <tr>\n",
       "      <th>4</th>\n",
       "      <td>PaymentScreenSuccessful</td>\n",
       "      <td>6217807653094995999</td>\n",
       "      <td>1564055322</td>\n",
       "      <td>248</td>\n",
       "      <td>2019-07-25 11:48:42</td>\n",
       "      <td>2019-07-25</td>\n",
       "    </tr>\n",
       "  </tbody>\n",
       "</table>\n",
       "</div>"
      ],
      "text/plain": [
       "                event_name       device_id_hash  events_timestamp  exp_id  \\\n",
       "0         MainScreenAppear  4575588528974610257        1564029816     246   \n",
       "1         MainScreenAppear  7416695313311560658        1564053102     246   \n",
       "2  PaymentScreenSuccessful  3518123091307005509        1564054127     248   \n",
       "3         CartScreenAppear  3518123091307005509        1564054127     248   \n",
       "4  PaymentScreenSuccessful  6217807653094995999        1564055322     248   \n",
       "\n",
       "            date_time       date  \n",
       "0 2019-07-25 04:43:36 2019-07-25  \n",
       "1 2019-07-25 11:11:42 2019-07-25  \n",
       "2 2019-07-25 11:28:47 2019-07-25  \n",
       "3 2019-07-25 11:28:47 2019-07-25  \n",
       "4 2019-07-25 11:48:42 2019-07-25  "
      ]
     },
     "execution_count": 8,
     "metadata": {},
     "output_type": "execute_result"
    }
   ],
   "source": [
    "data.head()"
   ]
  },
  {
   "cell_type": "code",
   "execution_count": 9,
   "metadata": {},
   "outputs": [
    {
     "data": {
      "text/plain": [
       "413"
      ]
     },
     "execution_count": 9,
     "metadata": {},
     "output_type": "execute_result"
    }
   ],
   "source": [
    "data.duplicated().sum()"
   ]
  },
  {
   "cell_type": "markdown",
   "metadata": {},
   "source": [
    "В данных обнаружились 413 дубликатов. Поскольку с одного устройства в один момент времени участник одной и той же группы не может совершить несколько одинаковых событий, дубликаты являются нарушениями данных и нуждаются в удалении"
   ]
  },
  {
   "cell_type": "code",
   "execution_count": 10,
   "metadata": {},
   "outputs": [],
   "source": [
    "data = data.drop_duplicates().reset_index(drop= True)"
   ]
  },
  {
   "cell_type": "code",
   "execution_count": 11,
   "metadata": {},
   "outputs": [
    {
     "data": {
      "text/plain": [
       "0"
      ]
     },
     "execution_count": 11,
     "metadata": {},
     "output_type": "execute_result"
    }
   ],
   "source": [
    "data.duplicated().sum()"
   ]
  },
  {
   "cell_type": "markdown",
   "metadata": {},
   "source": [
    "Мы избавились от дубликатов"
   ]
  },
  {
   "cell_type": "code",
   "execution_count": 12,
   "metadata": {},
   "outputs": [
    {
     "data": {
      "text/plain": [
       "array([246, 248, 247], dtype=int64)"
      ]
     },
     "execution_count": 12,
     "metadata": {},
     "output_type": "execute_result"
    }
   ],
   "source": [
    "data['exp_id'].unique()"
   ]
  },
  {
   "cell_type": "markdown",
   "metadata": {},
   "source": [
    "Контрольных групп в данных всего три, как и должно быть в нашем А/А/В-тесте"
   ]
  },
  {
   "cell_type": "markdown",
   "metadata": {},
   "source": [
    "# Основная часть"
   ]
  },
  {
   "cell_type": "markdown",
   "metadata": {},
   "source": [
    "## Изучение и проверка данных"
   ]
  },
  {
   "cell_type": "markdown",
   "metadata": {},
   "source": [
    "### Сколько всего событий в логе?"
   ]
  },
  {
   "cell_type": "code",
   "execution_count": 13,
   "metadata": {},
   "outputs": [
    {
     "name": "stdout",
     "output_type": "stream",
     "text": [
      "243713\n"
     ]
    },
    {
     "data": {
      "text/html": [
       "<div>\n",
       "<style scoped>\n",
       "    .dataframe tbody tr th:only-of-type {\n",
       "        vertical-align: middle;\n",
       "    }\n",
       "\n",
       "    .dataframe tbody tr th {\n",
       "        vertical-align: top;\n",
       "    }\n",
       "\n",
       "    .dataframe thead th {\n",
       "        text-align: right;\n",
       "    }\n",
       "</style>\n",
       "<table border=\"1\" class=\"dataframe\">\n",
       "  <thead>\n",
       "    <tr style=\"text-align: right;\">\n",
       "      <th></th>\n",
       "      <th>0</th>\n",
       "    </tr>\n",
       "  </thead>\n",
       "  <tbody>\n",
       "    <tr>\n",
       "      <th>0</th>\n",
       "      <td>MainScreenAppear</td>\n",
       "    </tr>\n",
       "    <tr>\n",
       "      <th>1</th>\n",
       "      <td>PaymentScreenSuccessful</td>\n",
       "    </tr>\n",
       "    <tr>\n",
       "      <th>2</th>\n",
       "      <td>CartScreenAppear</td>\n",
       "    </tr>\n",
       "    <tr>\n",
       "      <th>3</th>\n",
       "      <td>OffersScreenAppear</td>\n",
       "    </tr>\n",
       "    <tr>\n",
       "      <th>4</th>\n",
       "      <td>Tutorial</td>\n",
       "    </tr>\n",
       "  </tbody>\n",
       "</table>\n",
       "</div>"
      ],
      "text/plain": [
       "                         0\n",
       "0         MainScreenAppear\n",
       "1  PaymentScreenSuccessful\n",
       "2         CartScreenAppear\n",
       "3       OffersScreenAppear\n",
       "4                 Tutorial"
      ]
     },
     "execution_count": 13,
     "metadata": {},
     "output_type": "execute_result"
    }
   ],
   "source": [
    "print(data['event_name'].count())\n",
    "pd.DataFrame(data['event_name'].unique())"
   ]
  },
  {
   "cell_type": "markdown",
   "metadata": {},
   "source": [
    "Всего в данных хранится информация о 243 713 событиях, которые поделены на 5 типов"
   ]
  },
  {
   "cell_type": "markdown",
   "metadata": {},
   "source": [
    "### Сколько всего пользователей в логе?"
   ]
  },
  {
   "cell_type": "code",
   "execution_count": 14,
   "metadata": {},
   "outputs": [
    {
     "data": {
      "text/html": [
       "<div>\n",
       "<style scoped>\n",
       "    .dataframe tbody tr th:only-of-type {\n",
       "        vertical-align: middle;\n",
       "    }\n",
       "\n",
       "    .dataframe tbody tr th {\n",
       "        vertical-align: top;\n",
       "    }\n",
       "\n",
       "    .dataframe thead th {\n",
       "        text-align: right;\n",
       "    }\n",
       "</style>\n",
       "<table border=\"1\" class=\"dataframe\">\n",
       "  <thead>\n",
       "    <tr style=\"text-align: right;\">\n",
       "      <th></th>\n",
       "      <th>0</th>\n",
       "    </tr>\n",
       "  </thead>\n",
       "  <tbody>\n",
       "    <tr>\n",
       "      <th>0</th>\n",
       "      <td>4575588528974610257</td>\n",
       "    </tr>\n",
       "    <tr>\n",
       "      <th>1</th>\n",
       "      <td>7416695313311560658</td>\n",
       "    </tr>\n",
       "    <tr>\n",
       "      <th>2</th>\n",
       "      <td>3518123091307005509</td>\n",
       "    </tr>\n",
       "    <tr>\n",
       "      <th>3</th>\n",
       "      <td>6217807653094995999</td>\n",
       "    </tr>\n",
       "    <tr>\n",
       "      <th>4</th>\n",
       "      <td>8351860793733343758</td>\n",
       "    </tr>\n",
       "    <tr>\n",
       "      <th>...</th>\n",
       "      <td>...</td>\n",
       "    </tr>\n",
       "    <tr>\n",
       "      <th>7546</th>\n",
       "      <td>5811573131275421338</td>\n",
       "    </tr>\n",
       "    <tr>\n",
       "      <th>7547</th>\n",
       "      <td>5365227480683749189</td>\n",
       "    </tr>\n",
       "    <tr>\n",
       "      <th>7548</th>\n",
       "      <td>6660805781687343085</td>\n",
       "    </tr>\n",
       "    <tr>\n",
       "      <th>7549</th>\n",
       "      <td>7823752606740475984</td>\n",
       "    </tr>\n",
       "    <tr>\n",
       "      <th>7550</th>\n",
       "      <td>3454683894921357834</td>\n",
       "    </tr>\n",
       "  </tbody>\n",
       "</table>\n",
       "<p>7551 rows × 1 columns</p>\n",
       "</div>"
      ],
      "text/plain": [
       "                        0\n",
       "0     4575588528974610257\n",
       "1     7416695313311560658\n",
       "2     3518123091307005509\n",
       "3     6217807653094995999\n",
       "4     8351860793733343758\n",
       "...                   ...\n",
       "7546  5811573131275421338\n",
       "7547  5365227480683749189\n",
       "7548  6660805781687343085\n",
       "7549  7823752606740475984\n",
       "7550  3454683894921357834\n",
       "\n",
       "[7551 rows x 1 columns]"
      ]
     },
     "execution_count": 14,
     "metadata": {},
     "output_type": "execute_result"
    }
   ],
   "source": [
    "pd.DataFrame(data['device_id_hash'].unique())"
   ]
  },
  {
   "cell_type": "code",
   "execution_count": 15,
   "metadata": {},
   "outputs": [
    {
     "data": {
      "text/plain": [
       "exp_id    0\n",
       "dtype: int64"
      ]
     },
     "execution_count": 15,
     "metadata": {},
     "output_type": "execute_result"
    }
   ],
   "source": [
    "data.groupby('device_id_hash').agg({'exp_id' : 'nunique'}).query('exp_id>1').count()"
   ]
  },
  {
   "cell_type": "markdown",
   "metadata": {},
   "source": [
    "В данных 7551 уникальных хэш устройств, что можно считать уникальными пользователями, поскольку с помощью дополнительной проверки мы убедились, что ни одно устройство не было в двух или более группах эксперимента одновременно."
   ]
  },
  {
   "cell_type": "markdown",
   "metadata": {},
   "source": [
    "### Сколько в среднем событий приходится на пользователя?"
   ]
  },
  {
   "cell_type": "code",
   "execution_count": 16,
   "metadata": {},
   "outputs": [
    {
     "data": {
      "text/plain": [
       "0    32.275593\n",
       "dtype: float64"
      ]
     },
     "execution_count": 16,
     "metadata": {},
     "output_type": "execute_result"
    }
   ],
   "source": [
    "data['event_name'].count() / pd.DataFrame(data['device_id_hash'].unique()).count()"
   ]
  },
  {
   "cell_type": "markdown",
   "metadata": {},
   "source": [
    "В среднем на одного пользователя приходится чуть больше 32 событий"
   ]
  },
  {
   "cell_type": "markdown",
   "metadata": {},
   "source": [
    "### Данными за какой период мы располагаем?"
   ]
  },
  {
   "cell_type": "code",
   "execution_count": 17,
   "metadata": {},
   "outputs": [
    {
     "name": "stdout",
     "output_type": "stream",
     "text": [
      "Начало периода: 2019-07-25 00:00:00\n",
      "Конец периода: 2019-08-07 00:00:00\n"
     ]
    }
   ],
   "source": [
    "print(\"Начало периода:\", data['date'].min())\n",
    "print('Конец периода:', data['date'].max())"
   ]
  },
  {
   "cell_type": "markdown",
   "metadata": {},
   "source": [
    "В данных содержится информация о периоде с 25-го июня по 7-е августа 2019 года (14 дней)"
   ]
  },
  {
   "cell_type": "code",
   "execution_count": 18,
   "metadata": {},
   "outputs": [
    {
     "data": {
      "image/png": "[encoded data removed]",
      "text/plain": [
       "<Figure size 1000x600 with 1 Axes>"
      ]
     },
     "metadata": {},
     "output_type": "display_data"
    }
   ],
   "source": [
    "plt.figure(figsize=(10, 6))\n",
    "data['date'].hist(bins=13)\n",
    "plt.title('Количество событий на каждую дату')\n",
    "plt.xlabel('Дата')\n",
    "plt.ylabel('Количество событий')\n",
    "plt.xticks(rotation=45, ha='right')\n",
    "plt.show()"
   ]
  },
  {
   "cell_type": "markdown",
   "metadata": {},
   "source": [
    "Как мы видим. в данных почти остутсвует информация о событиях за первую неделю периода (с 25 по 31 июля), поэтому для дальнейшего анализа мы будем использовать только период с 1 по 7 августа"
   ]
  },
  {
   "cell_type": "code",
   "execution_count": 19,
   "metadata": {},
   "outputs": [],
   "source": [
    "original_data = data"
   ]
  },
  {
   "cell_type": "code",
   "execution_count": 20,
   "metadata": {},
   "outputs": [
    {
     "data": {
      "text/html": [
       "<div>\n",
       "<style scoped>\n",
       "    .dataframe tbody tr th:only-of-type {\n",
       "        vertical-align: middle;\n",
       "    }\n",
       "\n",
       "    .dataframe tbody tr th {\n",
       "        vertical-align: top;\n",
       "    }\n",
       "\n",
       "    .dataframe thead th {\n",
       "        text-align: right;\n",
       "    }\n",
       "</style>\n",
       "<table border=\"1\" class=\"dataframe\">\n",
       "  <thead>\n",
       "    <tr style=\"text-align: right;\">\n",
       "      <th></th>\n",
       "      <th>event_name</th>\n",
       "      <th>device_id_hash</th>\n",
       "      <th>events_timestamp</th>\n",
       "      <th>exp_id</th>\n",
       "      <th>date_time</th>\n",
       "      <th>date</th>\n",
       "    </tr>\n",
       "  </thead>\n",
       "  <tbody>\n",
       "    <tr>\n",
       "      <th>2826</th>\n",
       "      <td>Tutorial</td>\n",
       "      <td>3737462046622621720</td>\n",
       "      <td>1564618048</td>\n",
       "      <td>246</td>\n",
       "      <td>2019-08-01 00:07:28</td>\n",
       "      <td>2019-08-01</td>\n",
       "    </tr>\n",
       "    <tr>\n",
       "      <th>2827</th>\n",
       "      <td>MainScreenAppear</td>\n",
       "      <td>3737462046622621720</td>\n",
       "      <td>1564618080</td>\n",
       "      <td>246</td>\n",
       "      <td>2019-08-01 00:08:00</td>\n",
       "      <td>2019-08-01</td>\n",
       "    </tr>\n",
       "    <tr>\n",
       "      <th>2828</th>\n",
       "      <td>MainScreenAppear</td>\n",
       "      <td>3737462046622621720</td>\n",
       "      <td>1564618135</td>\n",
       "      <td>246</td>\n",
       "      <td>2019-08-01 00:08:55</td>\n",
       "      <td>2019-08-01</td>\n",
       "    </tr>\n",
       "    <tr>\n",
       "      <th>2829</th>\n",
       "      <td>OffersScreenAppear</td>\n",
       "      <td>3737462046622621720</td>\n",
       "      <td>1564618138</td>\n",
       "      <td>246</td>\n",
       "      <td>2019-08-01 00:08:58</td>\n",
       "      <td>2019-08-01</td>\n",
       "    </tr>\n",
       "    <tr>\n",
       "      <th>2830</th>\n",
       "      <td>MainScreenAppear</td>\n",
       "      <td>1433840883824088890</td>\n",
       "      <td>1564618139</td>\n",
       "      <td>247</td>\n",
       "      <td>2019-08-01 00:08:59</td>\n",
       "      <td>2019-08-01</td>\n",
       "    </tr>\n",
       "    <tr>\n",
       "      <th>...</th>\n",
       "      <td>...</td>\n",
       "      <td>...</td>\n",
       "      <td>...</td>\n",
       "      <td>...</td>\n",
       "      <td>...</td>\n",
       "      <td>...</td>\n",
       "    </tr>\n",
       "    <tr>\n",
       "      <th>243708</th>\n",
       "      <td>MainScreenAppear</td>\n",
       "      <td>4599628364049201812</td>\n",
       "      <td>1565212345</td>\n",
       "      <td>247</td>\n",
       "      <td>2019-08-07 21:12:25</td>\n",
       "      <td>2019-08-07</td>\n",
       "    </tr>\n",
       "    <tr>\n",
       "      <th>243709</th>\n",
       "      <td>MainScreenAppear</td>\n",
       "      <td>5849806612437486590</td>\n",
       "      <td>1565212439</td>\n",
       "      <td>246</td>\n",
       "      <td>2019-08-07 21:13:59</td>\n",
       "      <td>2019-08-07</td>\n",
       "    </tr>\n",
       "    <tr>\n",
       "      <th>243710</th>\n",
       "      <td>MainScreenAppear</td>\n",
       "      <td>5746969938801999050</td>\n",
       "      <td>1565212483</td>\n",
       "      <td>246</td>\n",
       "      <td>2019-08-07 21:14:43</td>\n",
       "      <td>2019-08-07</td>\n",
       "    </tr>\n",
       "    <tr>\n",
       "      <th>243711</th>\n",
       "      <td>MainScreenAppear</td>\n",
       "      <td>5746969938801999050</td>\n",
       "      <td>1565212498</td>\n",
       "      <td>246</td>\n",
       "      <td>2019-08-07 21:14:58</td>\n",
       "      <td>2019-08-07</td>\n",
       "    </tr>\n",
       "    <tr>\n",
       "      <th>243712</th>\n",
       "      <td>OffersScreenAppear</td>\n",
       "      <td>5746969938801999050</td>\n",
       "      <td>1565212517</td>\n",
       "      <td>246</td>\n",
       "      <td>2019-08-07 21:15:17</td>\n",
       "      <td>2019-08-07</td>\n",
       "    </tr>\n",
       "  </tbody>\n",
       "</table>\n",
       "<p>240887 rows × 6 columns</p>\n",
       "</div>"
      ],
      "text/plain": [
       "                event_name       device_id_hash  events_timestamp  exp_id  \\\n",
       "2826              Tutorial  3737462046622621720        1564618048     246   \n",
       "2827      MainScreenAppear  3737462046622621720        1564618080     246   \n",
       "2828      MainScreenAppear  3737462046622621720        1564618135     246   \n",
       "2829    OffersScreenAppear  3737462046622621720        1564618138     246   \n",
       "2830      MainScreenAppear  1433840883824088890        1564618139     247   \n",
       "...                    ...                  ...               ...     ...   \n",
       "243708    MainScreenAppear  4599628364049201812        1565212345     247   \n",
       "243709    MainScreenAppear  5849806612437486590        1565212439     246   \n",
       "243710    MainScreenAppear  5746969938801999050        1565212483     246   \n",
       "243711    MainScreenAppear  5746969938801999050        1565212498     246   \n",
       "243712  OffersScreenAppear  5746969938801999050        1565212517     246   \n",
       "\n",
       "                 date_time       date  \n",
       "2826   2019-08-01 00:07:28 2019-08-01  \n",
       "2827   2019-08-01 00:08:00 2019-08-01  \n",
       "2828   2019-08-01 00:08:55 2019-08-01  \n",
       "2829   2019-08-01 00:08:58 2019-08-01  \n",
       "2830   2019-08-01 00:08:59 2019-08-01  \n",
       "...                    ...        ...  \n",
       "243708 2019-08-07 21:12:25 2019-08-07  \n",
       "243709 2019-08-07 21:13:59 2019-08-07  \n",
       "243710 2019-08-07 21:14:43 2019-08-07  \n",
       "243711 2019-08-07 21:14:58 2019-08-07  \n",
       "243712 2019-08-07 21:15:17 2019-08-07  \n",
       "\n",
       "[240887 rows x 6 columns]"
      ]
     },
     "execution_count": 20,
     "metadata": {},
     "output_type": "execute_result"
    }
   ],
   "source": [
    "data = data.query('date >= \"2019-08-01\"')\n",
    "data"
   ]
  },
  {
   "cell_type": "code",
   "execution_count": 21,
   "metadata": {},
   "outputs": [
    {
     "name": "stdout",
     "output_type": "stream",
     "text": [
      "Потеряно пользователей после очистки: 1451\n",
      "Процент потерянных пользователей: 19.25935757897531\n"
     ]
    }
   ],
   "source": [
    "deleted_data = original_data.loc[~original_data.index.isin(data.index)]\n",
    "print('Потеряно пользователей после очистки:', deleted_data['device_id_hash'].nunique())\n",
    "print('Процент потерянных пользователей:', (deleted_data['device_id_hash'].nunique() / data['device_id_hash'].nunique() * 100))"
   ]
  },
  {
   "cell_type": "code",
   "execution_count": 22,
   "metadata": {},
   "outputs": [
    {
     "name": "stdout",
     "output_type": "stream",
     "text": [
      "Событий было:  243713\n",
      "Пользователей было:  7551\n",
      "Событий после того как отбросили данные:  240887\n",
      "Пользователей после того как отбросили данные:  7534\n",
      "Изменение количества событий: -1.2%\n",
      "Изменение количества пользователей: -0.2%\n"
     ]
    }
   ],
   "source": [
    "# код ревьюера\n",
    "print('Событий было: ', original_data.shape[0])\n",
    "print('Пользователей было: ',original_data['device_id_hash'].nunique())\n",
    "print('Событий после того как отбросили данные: ', data.shape[0])\n",
    "print('Пользователей после того как отбросили данные: ',data['device_id_hash'].nunique())\n",
    "print('Изменение количества событий: ''{:.1%}'.format((data.shape[0]-original_data.shape[0])/original_data.shape[0]))\n",
    "print('Изменение количества пользователей: ''{:.1%}'.format((data['device_id_hash'].nunique()-original_data['device_id_hash'].nunique())/original_data['device_id_hash'].nunique()))\n",
    "\n",
    "\n",
    "\n"
   ]
  },
  {
   "cell_type": "code",
   "execution_count": 23,
   "metadata": {},
   "outputs": [
    {
     "name": "stdout",
     "output_type": "stream",
     "text": [
      "Потеряно строк при очистке: 2826\n",
      "Процент потерянных строк: 1.1731641807154392\n",
      "Потери строк по категориям событий:\n"
     ]
    },
    {
     "data": {
      "text/html": [
       "<div>\n",
       "<style scoped>\n",
       "    .dataframe tbody tr th:only-of-type {\n",
       "        vertical-align: middle;\n",
       "    }\n",
       "\n",
       "    .dataframe tbody tr th {\n",
       "        vertical-align: top;\n",
       "    }\n",
       "\n",
       "    .dataframe thead th {\n",
       "        text-align: right;\n",
       "    }\n",
       "</style>\n",
       "<table border=\"1\" class=\"dataframe\">\n",
       "  <thead>\n",
       "    <tr style=\"text-align: right;\">\n",
       "      <th></th>\n",
       "      <th>device_id_hash</th>\n",
       "    </tr>\n",
       "    <tr>\n",
       "      <th>event_name</th>\n",
       "      <th></th>\n",
       "    </tr>\n",
       "  </thead>\n",
       "  <tbody>\n",
       "    <tr>\n",
       "      <th>MainScreenAppear</th>\n",
       "      <td>1773</td>\n",
       "    </tr>\n",
       "    <tr>\n",
       "      <th>OffersScreenAppear</th>\n",
       "      <td>475</td>\n",
       "    </tr>\n",
       "    <tr>\n",
       "      <th>CartScreenAppear</th>\n",
       "      <td>365</td>\n",
       "    </tr>\n",
       "    <tr>\n",
       "      <th>PaymentScreenSuccessful</th>\n",
       "      <td>200</td>\n",
       "    </tr>\n",
       "    <tr>\n",
       "      <th>Tutorial</th>\n",
       "      <td>13</td>\n",
       "    </tr>\n",
       "  </tbody>\n",
       "</table>\n",
       "</div>"
      ],
      "text/plain": [
       "                         device_id_hash\n",
       "event_name                             \n",
       "MainScreenAppear                   1773\n",
       "OffersScreenAppear                  475\n",
       "CartScreenAppear                    365\n",
       "PaymentScreenSuccessful             200\n",
       "Tutorial                             13"
      ]
     },
     "execution_count": 23,
     "metadata": {},
     "output_type": "execute_result"
    }
   ],
   "source": [
    "print('Потеряно строк при очистке:', deleted_data['device_id_hash'].count())\n",
    "print('Процент потерянных строк:', deleted_data['device_id_hash'].count() / data['device_id_hash'].count() * 100)\n",
    "print('Потери строк по категориям событий:')\n",
    "pd.DataFrame(deleted_data.groupby('event_name')['device_id_hash'].count()).sort_values(by='device_id_hash', ascending=False)"
   ]
  },
  {
   "cell_type": "markdown",
   "metadata": {},
   "source": [
    "После очистки данных, мы потеряли 2826 записей о событиях (примерно 1,2% от изначального объема), среди которых было 1451 уникальный пользователь (примерно 19% изначального количества)"
   ]
  },
  {
   "cell_type": "markdown",
   "metadata": {},
   "source": [
    "### Проверка наличия пользователей из всех трез групп"
   ]
  },
  {
   "cell_type": "code",
   "execution_count": 24,
   "metadata": {},
   "outputs": [
    {
     "data": {
      "text/html": [
       "<div>\n",
       "<style scoped>\n",
       "    .dataframe tbody tr th:only-of-type {\n",
       "        vertical-align: middle;\n",
       "    }\n",
       "\n",
       "    .dataframe tbody tr th {\n",
       "        vertical-align: top;\n",
       "    }\n",
       "\n",
       "    .dataframe thead th {\n",
       "        text-align: right;\n",
       "    }\n",
       "</style>\n",
       "<table border=\"1\" class=\"dataframe\">\n",
       "  <thead>\n",
       "    <tr style=\"text-align: right;\">\n",
       "      <th></th>\n",
       "      <th>device_id_hash</th>\n",
       "      <th>ratio in %</th>\n",
       "    </tr>\n",
       "    <tr>\n",
       "      <th>exp_id</th>\n",
       "      <th></th>\n",
       "      <th></th>\n",
       "    </tr>\n",
       "  </thead>\n",
       "  <tbody>\n",
       "    <tr>\n",
       "      <th>246</th>\n",
       "      <td>2484</td>\n",
       "      <td>32.97</td>\n",
       "    </tr>\n",
       "    <tr>\n",
       "      <th>247</th>\n",
       "      <td>2513</td>\n",
       "      <td>33.36</td>\n",
       "    </tr>\n",
       "    <tr>\n",
       "      <th>248</th>\n",
       "      <td>2537</td>\n",
       "      <td>33.67</td>\n",
       "    </tr>\n",
       "  </tbody>\n",
       "</table>\n",
       "</div>"
      ],
      "text/plain": [
       "        device_id_hash  ratio in %\n",
       "exp_id                            \n",
       "246               2484       32.97\n",
       "247               2513       33.36\n",
       "248               2537       33.67"
      ]
     },
     "execution_count": 24,
     "metadata": {},
     "output_type": "execute_result"
    }
   ],
   "source": [
    "groups_total = pd.DataFrame(data.groupby('exp_id')['device_id_hash'].agg('nunique'))\n",
    "groups_total['ratio in %'] = ((groups_total['device_id_hash'] / groups_total['device_id_hash'].sum()) * 100).round(2)\n",
    "groups_total"
   ]
  },
  {
   "cell_type": "markdown",
   "metadata": {},
   "source": [
    "В данных присутствуют пользователи из всех трех групп, причем распределены они равномерно"
   ]
  },
  {
   "cell_type": "markdown",
   "metadata": {},
   "source": [
    "## Изучение воронки событий"
   ]
  },
  {
   "cell_type": "markdown",
   "metadata": {},
   "source": [
    "### Изучение событий в логах и их частоту"
   ]
  },
  {
   "cell_type": "code",
   "execution_count": 25,
   "metadata": {},
   "outputs": [
    {
     "data": {
      "text/html": [
       "<div>\n",
       "<style scoped>\n",
       "    .dataframe tbody tr th:only-of-type {\n",
       "        vertical-align: middle;\n",
       "    }\n",
       "\n",
       "    .dataframe tbody tr th {\n",
       "        vertical-align: top;\n",
       "    }\n",
       "\n",
       "    .dataframe thead th {\n",
       "        text-align: right;\n",
       "    }\n",
       "</style>\n",
       "<table border=\"1\" class=\"dataframe\">\n",
       "  <thead>\n",
       "    <tr style=\"text-align: right;\">\n",
       "      <th></th>\n",
       "      <th>device_id_hash</th>\n",
       "    </tr>\n",
       "    <tr>\n",
       "      <th>event_name</th>\n",
       "      <th></th>\n",
       "    </tr>\n",
       "  </thead>\n",
       "  <tbody>\n",
       "    <tr>\n",
       "      <th>MainScreenAppear</th>\n",
       "      <td>117328</td>\n",
       "    </tr>\n",
       "    <tr>\n",
       "      <th>OffersScreenAppear</th>\n",
       "      <td>46333</td>\n",
       "    </tr>\n",
       "    <tr>\n",
       "      <th>CartScreenAppear</th>\n",
       "      <td>42303</td>\n",
       "    </tr>\n",
       "    <tr>\n",
       "      <th>PaymentScreenSuccessful</th>\n",
       "      <td>33918</td>\n",
       "    </tr>\n",
       "    <tr>\n",
       "      <th>Tutorial</th>\n",
       "      <td>1005</td>\n",
       "    </tr>\n",
       "  </tbody>\n",
       "</table>\n",
       "</div>"
      ],
      "text/plain": [
       "                         device_id_hash\n",
       "event_name                             \n",
       "MainScreenAppear                 117328\n",
       "OffersScreenAppear                46333\n",
       "CartScreenAppear                  42303\n",
       "PaymentScreenSuccessful           33918\n",
       "Tutorial                           1005"
      ]
     },
     "execution_count": 25,
     "metadata": {},
     "output_type": "execute_result"
    }
   ],
   "source": [
    "pd.DataFrame(data.groupby('event_name')['device_id_hash'].count()).sort_values(by='device_id_hash', ascending=False)"
   ]
  },
  {
   "cell_type": "markdown",
   "metadata": {},
   "source": [
    "В данных присутствует 5 типов событий: чаще всего происходит событие \"Появление главного экрана\", после него идут соответсвенно \"Экран с предложениями\", \"Корзина\", \"Экран успешной оплаты\" и \"Обучение\". "
   ]
  },
  {
   "cell_type": "markdown",
   "metadata": {},
   "source": [
    "### Подсчет количества пользователей, совершавших каждое из действий"
   ]
  },
  {
   "cell_type": "code",
   "execution_count": 26,
   "metadata": {},
   "outputs": [
    {
     "data": {
      "text/html": [
       "<div>\n",
       "<style scoped>\n",
       "    .dataframe tbody tr th:only-of-type {\n",
       "        vertical-align: middle;\n",
       "    }\n",
       "\n",
       "    .dataframe tbody tr th {\n",
       "        vertical-align: top;\n",
       "    }\n",
       "\n",
       "    .dataframe thead th {\n",
       "        text-align: right;\n",
       "    }\n",
       "</style>\n",
       "<table border=\"1\" class=\"dataframe\">\n",
       "  <thead>\n",
       "    <tr style=\"text-align: right;\">\n",
       "      <th></th>\n",
       "      <th>device_id_hash</th>\n",
       "      <th>conversion in %</th>\n",
       "    </tr>\n",
       "    <tr>\n",
       "      <th>event_name</th>\n",
       "      <th></th>\n",
       "      <th></th>\n",
       "    </tr>\n",
       "  </thead>\n",
       "  <tbody>\n",
       "    <tr>\n",
       "      <th>MainScreenAppear</th>\n",
       "      <td>7419</td>\n",
       "      <td>98.47</td>\n",
       "    </tr>\n",
       "    <tr>\n",
       "      <th>OffersScreenAppear</th>\n",
       "      <td>4593</td>\n",
       "      <td>60.96</td>\n",
       "    </tr>\n",
       "    <tr>\n",
       "      <th>CartScreenAppear</th>\n",
       "      <td>3734</td>\n",
       "      <td>49.56</td>\n",
       "    </tr>\n",
       "    <tr>\n",
       "      <th>PaymentScreenSuccessful</th>\n",
       "      <td>3539</td>\n",
       "      <td>46.97</td>\n",
       "    </tr>\n",
       "    <tr>\n",
       "      <th>Tutorial</th>\n",
       "      <td>840</td>\n",
       "      <td>11.15</td>\n",
       "    </tr>\n",
       "  </tbody>\n",
       "</table>\n",
       "</div>"
      ],
      "text/plain": [
       "                         device_id_hash  conversion in %\n",
       "event_name                                              \n",
       "MainScreenAppear                   7419            98.47\n",
       "OffersScreenAppear                 4593            60.96\n",
       "CartScreenAppear                   3734            49.56\n",
       "PaymentScreenSuccessful            3539            46.97\n",
       "Tutorial                            840            11.15"
      ]
     },
     "execution_count": 26,
     "metadata": {},
     "output_type": "execute_result"
    }
   ],
   "source": [
    "events_table = pd.DataFrame(data.groupby('event_name')['device_id_hash'].agg('nunique')).sort_values(by='device_id_hash', ascending=False)\n",
    "events_table['conversion in %'] = (events_table['device_id_hash'] / data['device_id_hash'].agg('nunique') * 100).round(2)\n",
    "events_table"
   ]
  },
  {
   "cell_type": "markdown",
   "metadata": {},
   "source": [
    "Обучение прошли всего 11 процентов всех пользователей, поэтому его мы точно определяем вне воронки событий. \\\n",
    "Остальные события входят в последовательную ворону: Гравный экран -> Экран с предложениями -> Корзина -> Экран успешной оплаты \\\n",
    "Стоит отметить, что конверсия на первом шаге воронки в 98,4% отражает наличие в данных остатков после фильтрации, а именно пользователей, которые зашли в приложение до 1 августа, а совершили дальшейние действия после"
   ]
  },
  {
   "cell_type": "code",
   "execution_count": 27,
   "metadata": {},
   "outputs": [
    {
     "data": {
      "text/html": [
       "<div>\n",
       "<style scoped>\n",
       "    .dataframe tbody tr th:only-of-type {\n",
       "        vertical-align: middle;\n",
       "    }\n",
       "\n",
       "    .dataframe tbody tr th {\n",
       "        vertical-align: top;\n",
       "    }\n",
       "\n",
       "    .dataframe thead th {\n",
       "        text-align: right;\n",
       "    }\n",
       "</style>\n",
       "<table border=\"1\" class=\"dataframe\">\n",
       "  <thead>\n",
       "    <tr style=\"text-align: right;\">\n",
       "      <th></th>\n",
       "      <th>device_id_hash</th>\n",
       "      <th>conversion in %</th>\n",
       "    </tr>\n",
       "    <tr>\n",
       "      <th>event_name</th>\n",
       "      <th></th>\n",
       "      <th></th>\n",
       "    </tr>\n",
       "  </thead>\n",
       "  <tbody>\n",
       "    <tr>\n",
       "      <th>MainScreenAppear</th>\n",
       "      <td>7419</td>\n",
       "      <td>98.47</td>\n",
       "    </tr>\n",
       "    <tr>\n",
       "      <th>OffersScreenAppear</th>\n",
       "      <td>4593</td>\n",
       "      <td>60.96</td>\n",
       "    </tr>\n",
       "    <tr>\n",
       "      <th>CartScreenAppear</th>\n",
       "      <td>3734</td>\n",
       "      <td>49.56</td>\n",
       "    </tr>\n",
       "    <tr>\n",
       "      <th>PaymentScreenSuccessful</th>\n",
       "      <td>3539</td>\n",
       "      <td>46.97</td>\n",
       "    </tr>\n",
       "  </tbody>\n",
       "</table>\n",
       "</div>"
      ],
      "text/plain": [
       "                         device_id_hash  conversion in %\n",
       "event_name                                              \n",
       "MainScreenAppear                   7419            98.47\n",
       "OffersScreenAppear                 4593            60.96\n",
       "CartScreenAppear                   3734            49.56\n",
       "PaymentScreenSuccessful            3539            46.97"
      ]
     },
     "execution_count": 27,
     "metadata": {},
     "output_type": "execute_result"
    }
   ],
   "source": [
    "funnel_events = events_table.query('event_name != \"Tutorial\"')\n",
    "funnel_events"
   ]
  },
  {
   "cell_type": "markdown",
   "metadata": {},
   "source": [
    "### Подсчет доли пользователей, проходящих на следующий шаг воронки"
   ]
  },
  {
   "cell_type": "code",
   "execution_count": 28,
   "metadata": {},
   "outputs": [
    {
     "data": {
      "text/html": [
       "<div>\n",
       "<style scoped>\n",
       "    .dataframe tbody tr th:only-of-type {\n",
       "        vertical-align: middle;\n",
       "    }\n",
       "\n",
       "    .dataframe tbody tr th {\n",
       "        vertical-align: top;\n",
       "    }\n",
       "\n",
       "    .dataframe thead th {\n",
       "        text-align: right;\n",
       "    }\n",
       "</style>\n",
       "<table border=\"1\" class=\"dataframe\">\n",
       "  <thead>\n",
       "    <tr style=\"text-align: right;\">\n",
       "      <th></th>\n",
       "      <th>device_id_hash</th>\n",
       "      <th>conversion in %</th>\n",
       "      <th>conversion_by_step in %</th>\n",
       "    </tr>\n",
       "    <tr>\n",
       "      <th>event_name</th>\n",
       "      <th></th>\n",
       "      <th></th>\n",
       "      <th></th>\n",
       "    </tr>\n",
       "  </thead>\n",
       "  <tbody>\n",
       "    <tr>\n",
       "      <th>MainScreenAppear</th>\n",
       "      <td>7419</td>\n",
       "      <td>98.47</td>\n",
       "      <td>100.00</td>\n",
       "    </tr>\n",
       "    <tr>\n",
       "      <th>OffersScreenAppear</th>\n",
       "      <td>4593</td>\n",
       "      <td>60.96</td>\n",
       "      <td>61.91</td>\n",
       "    </tr>\n",
       "    <tr>\n",
       "      <th>CartScreenAppear</th>\n",
       "      <td>3734</td>\n",
       "      <td>49.56</td>\n",
       "      <td>81.30</td>\n",
       "    </tr>\n",
       "    <tr>\n",
       "      <th>PaymentScreenSuccessful</th>\n",
       "      <td>3539</td>\n",
       "      <td>46.97</td>\n",
       "      <td>94.78</td>\n",
       "    </tr>\n",
       "  </tbody>\n",
       "</table>\n",
       "</div>"
      ],
      "text/plain": [
       "                         device_id_hash  conversion in %  \\\n",
       "event_name                                                 \n",
       "MainScreenAppear                   7419            98.47   \n",
       "OffersScreenAppear                 4593            60.96   \n",
       "CartScreenAppear                   3734            49.56   \n",
       "PaymentScreenSuccessful            3539            46.97   \n",
       "\n",
       "                         conversion_by_step in %  \n",
       "event_name                                        \n",
       "MainScreenAppear                          100.00  \n",
       "OffersScreenAppear                         61.91  \n",
       "CartScreenAppear                           81.30  \n",
       "PaymentScreenSuccessful                    94.78  "
      ]
     },
     "execution_count": 28,
     "metadata": {},
     "output_type": "execute_result"
    }
   ],
   "source": [
    "pd.options.mode.chained_assignment = None # отключаем показ предупреждения\n",
    "conversion_funnel = []\n",
    "conversion_funnel.append(100)\n",
    "for i in range(1, len(funnel_events)):\n",
    "    conversion = ((funnel_events['device_id_hash'].iloc[i] / funnel_events['device_id_hash'].iloc[i-1]) * 100).round(2)\n",
    "    conversion_funnel.append(conversion)\n",
    "funnel_events['conversion_by_step in %'] = conversion_funnel\n",
    "funnel_events"
   ]
  },
  {
   "cell_type": "markdown",
   "metadata": {},
   "source": [
    "61,9% пользователей переходят с Главного экрана на экран Предложений. Из них 81% переходит в Корзину, и уже 94% из перешедших в Корзину успешно совершают оплату. \\\n",
    "Больше всего пользователей мы теряем на этапе перехода с Главного экрана на экран Предложений \\\n",
    "В целом почти 47% пользователей проходят все шаги воронки от попадания на Главный экран до совершения оплаты"
   ]
  },
  {
   "cell_type": "markdown",
   "metadata": {},
   "source": [
    "## Анализ результатов эксперимента"
   ]
  },
  {
   "cell_type": "markdown",
   "metadata": {},
   "source": [
    "### Сколько пользователей в каждой экспериментальной группе?"
   ]
  },
  {
   "cell_type": "code",
   "execution_count": 30,
   "metadata": {},
   "outputs": [
    {
     "data": {
      "text/html": [
       "<div>\n",
       "<style scoped>\n",
       "    .dataframe tbody tr th:only-of-type {\n",
       "        vertical-align: middle;\n",
       "    }\n",
       "\n",
       "    .dataframe tbody tr th {\n",
       "        vertical-align: top;\n",
       "    }\n",
       "\n",
       "    .dataframe thead th {\n",
       "        text-align: right;\n",
       "    }\n",
       "</style>\n",
       "<table border=\"1\" class=\"dataframe\">\n",
       "  <thead>\n",
       "    <tr style=\"text-align: right;\">\n",
       "      <th></th>\n",
       "      <th>device_id_hash</th>\n",
       "      <th>ratio in %</th>\n",
       "    </tr>\n",
       "    <tr>\n",
       "      <th>exp_id</th>\n",
       "      <th></th>\n",
       "      <th></th>\n",
       "    </tr>\n",
       "  </thead>\n",
       "  <tbody>\n",
       "    <tr>\n",
       "      <th>246</th>\n",
       "      <td>2484</td>\n",
       "      <td>32.97</td>\n",
       "    </tr>\n",
       "    <tr>\n",
       "      <th>247</th>\n",
       "      <td>2513</td>\n",
       "      <td>33.36</td>\n",
       "    </tr>\n",
       "    <tr>\n",
       "      <th>248</th>\n",
       "      <td>2537</td>\n",
       "      <td>33.67</td>\n",
       "    </tr>\n",
       "  </tbody>\n",
       "</table>\n",
       "</div>"
      ],
      "text/plain": [
       "        device_id_hash  ratio in %\n",
       "exp_id                            \n",
       "246               2484       32.97\n",
       "247               2513       33.36\n",
       "248               2537       33.67"
      ]
     },
     "execution_count": 30,
     "metadata": {},
     "output_type": "execute_result"
    }
   ],
   "source": [
    "groups_total"
   ]
  },
  {
   "cell_type": "markdown",
   "metadata": {},
   "source": [
    "Как уже упоминалось ранее, число пользователей в трех группах практически одинаково"
   ]
  },
  {
   "cell_type": "markdown",
   "metadata": {},
   "source": [
    "### Находят ли статистические критерии разницу между выборками 246 и 247"
   ]
  },
  {
   "cell_type": "markdown",
   "metadata": {},
   "source": [
    "В качестве **нулевой гипотезы** предположим, что группы равны \\\n",
    "Таким образом **альтернативная гипотеза** будет заключаться в том, что группы не равны между собой"
   ]
  },
  {
   "cell_type": "markdown",
   "metadata": {},
   "source": [
    "В качестве критического уровня статистической значимости (alpha), мы использовали поправку по методу Шидака, определив alpha по формуле **1-(1-0.05)^(1/16)**, поскольку нам предстоит совершить проверку 16-ти гипотез при сравнении групп 246, 247, 248 между собой и группу 248 со скомбинированными данными по 246 и 247 группе по каждому из событий (их 4)"
   ]
  },
  {
   "cell_type": "code",
   "execution_count": 31,
   "metadata": {},
   "outputs": [],
   "source": [
    "def compare_groups(original_data, event, group_1, group_2, group_3):\n",
    "    alpha = 1-(1-0.05)**(1/16)\n",
    "    if group_3 != 248:\n",
    "        successes_1 = original_data.query('exp_id == @group_1 and event_name == @event')['device_id_hash'].nunique()\n",
    "        successes_2 = original_data.query('exp_id == @group_2 and event_name == @event')['device_id_hash'].nunique()\n",
    "        successes = np.array([successes_1, successes_2])\n",
    "        trials_1 = original_data.query('exp_id == @group_1')['device_id_hash'].nunique()\n",
    "        trials_2 = original_data.query('exp_id == @group_2')['device_id_hash'].nunique()\n",
    "        trials = np.array([trials_1, trials_2])\n",
    "    else:\n",
    "        successes_1 = original_data.query('exp_id != @group_3 and event_name == @event')['device_id_hash'].nunique()\n",
    "        successes_2 = original_data.query('exp_id == @group_3 and event_name == @event')['device_id_hash'].nunique()\n",
    "        successes = np.array([successes_1, successes_2])\n",
    "        trials_1 = original_data.query('exp_id != @group_3')['device_id_hash'].nunique()\n",
    "        trials_2 = original_data.query('exp_id == @group_3')['device_id_hash'].nunique()\n",
    "        trials = np.array([trials_1, trials_2])\n",
    "    \n",
    "    # пропорция успехов в первой группе:\n",
    "    p1 = successes[0] / trials[0]\n",
    "\n",
    "    # пропорция успехов во второй группе:\n",
    "    p2 = successes[1] / trials[1]\n",
    "\n",
    "    # пропорция успехов в комбинированном датасете:\n",
    "    p_combined = (successes[0] + successes[1]) / (trials[0] + trials[1])\n",
    "\n",
    "    # разница пропорций в датасетах\n",
    "    difference = p1 - p2 \n",
    "\n",
    "    # считаем статистику в ст.отклонениях стандартного нормального распределения\n",
    "    z_value = difference / np.sqrt(p_combined * (1 - p_combined) * (1 / trials[0] + 1 / trials[1]))\n",
    "\n",
    "    # задаем стандартное нормальное распределение (среднее 0, ст.отклонение 1)\n",
    "    distr = st.norm(0, 1) \n",
    "\n",
    "    p_value = (1 - distr.cdf(abs(z_value))) * 2\n",
    "    \n",
    "    if group_3 != 248:\n",
    "        print('Сравнение группы', group_1, 'и группы', group_2)\n",
    "        print('По событию', event)\n",
    "        print('p-значение:', p_value)\n",
    "    else:\n",
    "        print('Сравнение объединенной группы', 'и группы', group_3)\n",
    "        print('По событию', event)\n",
    "        print('p-значение:', p_value)\n",
    "    \n",
    "\n",
    "    if p_value < alpha:\n",
    "        print('Отвергаем нулевую гипотезу: между долями есть значимая разница')\n",
    "    else:\n",
    "        print('Не получилось отвергнуть нулевую гипотезу, нет оснований считать доли разными')"
   ]
  },
  {
   "cell_type": "code",
   "execution_count": 32,
   "metadata": {},
   "outputs": [
    {
     "name": "stdout",
     "output_type": "stream",
     "text": [
      "Сравнение группы 246 и группы 247\n",
      "По событию OffersScreenAppear\n",
      "p-значение: 0.2480954578522181\n",
      "Не получилось отвергнуть нулевую гипотезу, нет оснований считать доли разными\n",
      "\n",
      "Сравнение группы 246 и группы 247\n",
      "По событию CartScreenAppear\n",
      "p-значение: 0.22883372237997213\n",
      "Не получилось отвергнуть нулевую гипотезу, нет оснований считать доли разными\n",
      "\n",
      "Сравнение группы 246 и группы 247\n",
      "По событию PaymentScreenSuccessful\n",
      "p-значение: 0.11456679313141849\n",
      "Не получилось отвергнуть нулевую гипотезу, нет оснований считать доли разными\n",
      "\n",
      "Сравнение группы 246 и группы 247\n",
      "По событию Tutorial\n",
      "p-значение: 0.9376996189257114\n",
      "Не получилось отвергнуть нулевую гипотезу, нет оснований считать доли разными\n"
     ]
    }
   ],
   "source": [
    "compare_groups(data, 'OffersScreenAppear', 246, 247, 0)\n",
    "print()\n",
    "compare_groups(data, 'CartScreenAppear', 246, 247, 0)\n",
    "print()\n",
    "compare_groups(data, 'PaymentScreenSuccessful', 246, 247, 0)\n",
    "print()\n",
    "compare_groups(data, 'Tutorial', 246, 247, 0)"
   ]
  },
  {
   "cell_type": "markdown",
   "metadata": {},
   "source": [
    "Результаты сравнения двух групп по каждому из событий (кроме MainScreenAppear, поскольку у всех групп показатель конверсии этого события 100%) на предмет существования статистически значимых различий, позволяют нам сделать вывод, что нулевая гипотеза об отсутствии статистически важных различий между этими двумя группами, верна. \\\n",
    "Таким образом, мы убедились, что А/А группы (246 и 247) разбиты корректно и не имеют значимых различий между друг другом ни по одному из событий"
   ]
  },
  {
   "cell_type": "markdown",
   "metadata": {},
   "source": [
    "### Сравнение результатов с каждой из контрольных групп в отдельности по каждому событию"
   ]
  },
  {
   "cell_type": "code",
   "execution_count": 33,
   "metadata": {},
   "outputs": [
    {
     "name": "stdout",
     "output_type": "stream",
     "text": [
      "Сравнение группы 248 и группы 246\n",
      "По событию OffersScreenAppear\n",
      "p-значение: 0.20836205402738917\n",
      "Не получилось отвергнуть нулевую гипотезу, нет оснований считать доли разными\n",
      "\n",
      "Сравнение группы 248 и группы 246\n",
      "По событию CartScreenAppear\n",
      "p-значение: 0.07842923237520116\n",
      "Не получилось отвергнуть нулевую гипотезу, нет оснований считать доли разными\n",
      "\n",
      "Сравнение группы 248 и группы 246\n",
      "По событию PaymentScreenSuccessful\n",
      "p-значение: 0.2122553275697796\n",
      "Не получилось отвергнуть нулевую гипотезу, нет оснований считать доли разными\n",
      "\n",
      "Сравнение группы 248 и группы 246\n",
      "По событию Tutorial\n",
      "p-значение: 0.8264294010087645\n",
      "Не получилось отвергнуть нулевую гипотезу, нет оснований считать доли разными\n"
     ]
    }
   ],
   "source": [
    "compare_groups(data, 'OffersScreenAppear', 248, 246, 0)\n",
    "print()\n",
    "compare_groups(data, 'CartScreenAppear', 248, 246, 0)\n",
    "print()\n",
    "compare_groups(data, 'PaymentScreenSuccessful', 248, 246, 0)\n",
    "print()\n",
    "compare_groups(data, 'Tutorial', 248, 246, 0)"
   ]
  },
  {
   "cell_type": "code",
   "execution_count": 34,
   "metadata": {},
   "outputs": [
    {
     "name": "stdout",
     "output_type": "stream",
     "text": [
      "Сравнение группы 248 и группы 247\n",
      "По событию OffersScreenAppear\n",
      "p-значение: 0.9197817830592261\n",
      "Не получилось отвергнуть нулевую гипотезу, нет оснований считать доли разными\n",
      "\n",
      "Сравнение группы 248 и группы 247\n",
      "По событию CartScreenAppear\n",
      "p-значение: 0.5786197879539783\n",
      "Не получилось отвергнуть нулевую гипотезу, нет оснований считать доли разными\n",
      "\n",
      "Сравнение группы 248 и группы 247\n",
      "По событию PaymentScreenSuccessful\n",
      "p-значение: 0.7373415053803964\n",
      "Не получилось отвергнуть нулевую гипотезу, нет оснований считать доли разными\n",
      "\n",
      "Сравнение группы 248 и группы 247\n",
      "По событию Tutorial\n",
      "p-значение: 0.765323922474501\n",
      "Не получилось отвергнуть нулевую гипотезу, нет оснований считать доли разными\n"
     ]
    }
   ],
   "source": [
    "compare_groups(data, 'OffersScreenAppear', 248, 247, 0)\n",
    "print()\n",
    "compare_groups(data, 'CartScreenAppear', 248, 247, 0)\n",
    "print()\n",
    "compare_groups(data, 'PaymentScreenSuccessful', 248, 247, 0)\n",
    "print()\n",
    "compare_groups(data, 'Tutorial', 248, 247, 0)"
   ]
  },
  {
   "cell_type": "markdown",
   "metadata": {},
   "source": [
    "Сравнив группу 248 с группами 246 и 247 по отдельности, мы обнаружили, что между ними так же нет статистически важных различий ни по одному из событий"
   ]
  },
  {
   "cell_type": "code",
   "execution_count": 35,
   "metadata": {},
   "outputs": [
    {
     "name": "stdout",
     "output_type": "stream",
     "text": [
      "Сравнение объединенной группы и группы 248\n",
      "По событию OffersScreenAppear\n",
      "p-значение: 0.43425549655188256\n",
      "Не получилось отвергнуть нулевую гипотезу, нет оснований считать доли разными\n",
      "\n",
      "Сравнение объединенной группы и группы 248\n",
      "По событию CartScreenAppear\n",
      "p-значение: 0.18175875284404386\n",
      "Не получилось отвергнуть нулевую гипотезу, нет оснований считать доли разными\n",
      "\n",
      "Сравнение объединенной группы и группы 248\n",
      "По событию PaymentScreenSuccessful\n",
      "p-значение: 0.6004294282308704\n",
      "Не получилось отвергнуть нулевую гипотезу, нет оснований считать доли разными\n",
      "\n",
      "Сравнение объединенной группы и группы 248\n",
      "По событию Tutorial\n",
      "p-значение: 0.764862472531507\n",
      "Не получилось отвергнуть нулевую гипотезу, нет оснований считать доли разными\n"
     ]
    }
   ],
   "source": [
    "compare_groups(data, 'OffersScreenAppear', 0, 0, 248)\n",
    "print()\n",
    "compare_groups(data, 'CartScreenAppear', 0, 0, 248)\n",
    "print()\n",
    "compare_groups(data, 'PaymentScreenSuccessful', 0, 0, 248)\n",
    "print()\n",
    "compare_groups(data, 'Tutorial', 0, 0, 248)"
   ]
  },
  {
   "cell_type": "markdown",
   "metadata": {},
   "source": [
    "После дополнительного сравнения между объединенной контрольной группой и группой с измененным шрифтом, мы окончательно можем убедиться в том, что статистически значимых различий между ними нет. \\\n",
    "Всего мы провели 16 проверок статистических гипотез,использовав при расчете критического уровня статистической значимости проправшку Шидака. \\\n",
    "Это приводит нас к выводу, что изменение шрифта в мобильном приложении не отразилось на поведении пользователей ни в положительную ни в отрицательную сторону, поэтому опасения менеджеров о том, что пользователям с новым шрифтом будет непривычно, не оправдались."
   ]
  },
  {
   "cell_type": "markdown",
   "metadata": {},
   "source": [
    "# Вывод"
   ]
  },
  {
   "cell_type": "markdown",
   "metadata": {},
   "source": [
    "В данном исследовании мы изучили поведение пользователей мобильного приложения, составили и проанализировали воронку событий, а так же определились с результатами А/А/В-теста \\\n",
    "\\\n",
    "Исследовав воронку событий, мы установили несколько фактов:\n",
    "1) Прохождение обучения не входит в воронку событий, а пользователей, прошедших обучение, всего 11% \\\n",
    "2) 40% пользователей теряется на этапе Главного экрана, не доходя до экрана с предложениями \\\n",
    "3) Конечная конверсия пользователей в покупателей составляет 46% \\\n",
    "\\\n",
    "Исследовав результаты А/А/В-теста, мы пришли к выводу, что изменение шрифта в мобильном приложении не отразилось на поведении пользователей ни в положительную ни в отрицательную сторону, поскольку нет никаких статистически значимых различий между группой с измененным шрифтом и двумя другими контрольными группами ни по одному из событий. В качестве вывода можно зафиксировать, что изменение шрифта в мобильном приложении не отразилось негативным образом на пользователях, так что опасения менеджеров с высокой долей вероятности можно считать неоправданными"
   ]
  }
 ],
 "metadata": {
  "ExecuteTimeLog": [
   {
    "duration": 430,
    "start_time": "2023-05-22T10:16:28.644Z"
   },
   {
    "duration": 994,
    "start_time": "2023-05-22T10:16:49.290Z"
   },
   {
    "duration": 24,
    "start_time": "2023-05-22T10:16:52.482Z"
   },
   {
    "duration": 95,
    "start_time": "2023-05-22T10:34:55.096Z"
   },
   {
    "duration": 9,
    "start_time": "2023-05-22T10:34:55.462Z"
   },
   {
    "duration": 102,
    "start_time": "2023-05-22T10:41:24.012Z"
   },
   {
    "duration": 80,
    "start_time": "2023-05-22T10:41:29.216Z"
   },
   {
    "duration": 182,
    "start_time": "2023-05-22T10:41:40.423Z"
   },
   {
    "duration": 14,
    "start_time": "2023-05-22T10:41:42.019Z"
   },
   {
    "duration": 3,
    "start_time": "2023-05-22T10:45:52.452Z"
   },
   {
    "duration": 11,
    "start_time": "2023-05-22T10:45:56.483Z"
   },
   {
    "duration": 30,
    "start_time": "2023-05-22T10:46:10.214Z"
   },
   {
    "duration": 16,
    "start_time": "2023-05-22T10:47:04.193Z"
   },
   {
    "duration": 76,
    "start_time": "2023-05-22T10:53:54.723Z"
   },
   {
    "duration": 3,
    "start_time": "2023-05-22T10:57:38.213Z"
   },
   {
    "duration": 84,
    "start_time": "2023-05-22T10:58:49.657Z"
   },
   {
    "duration": 9,
    "start_time": "2023-05-22T10:59:01.941Z"
   },
   {
    "duration": 8,
    "start_time": "2023-05-22T10:59:54.853Z"
   },
   {
    "duration": 4,
    "start_time": "2023-05-22T11:04:24.013Z"
   },
   {
    "duration": 12,
    "start_time": "2023-05-22T11:04:33.587Z"
   },
   {
    "duration": 88,
    "start_time": "2023-05-22T11:05:34.520Z"
   },
   {
    "duration": 10,
    "start_time": "2023-05-22T11:05:39.360Z"
   },
   {
    "duration": 8,
    "start_time": "2023-05-22T11:07:17.950Z"
   },
   {
    "duration": 15,
    "start_time": "2023-05-22T11:07:18.662Z"
   },
   {
    "duration": 86,
    "start_time": "2023-05-22T11:18:22.007Z"
   },
   {
    "duration": 14,
    "start_time": "2023-05-22T11:18:23.298Z"
   },
   {
    "duration": 103,
    "start_time": "2023-05-22T11:18:56.002Z"
   },
   {
    "duration": 139,
    "start_time": "2023-05-22T11:20:31.361Z"
   },
   {
    "duration": 136,
    "start_time": "2023-05-22T11:20:38.142Z"
   },
   {
    "duration": 7,
    "start_time": "2023-05-22T11:21:52.350Z"
   },
   {
    "duration": 32,
    "start_time": "2023-05-22T11:21:57.696Z"
   },
   {
    "duration": 21,
    "start_time": "2023-05-22T11:22:05.602Z"
   },
   {
    "duration": 124,
    "start_time": "2023-05-22T11:22:31.951Z"
   },
   {
    "duration": 9,
    "start_time": "2023-05-22T11:22:41.006Z"
   },
   {
    "duration": 118,
    "start_time": "2023-05-22T11:23:05.883Z"
   },
   {
    "duration": 2,
    "start_time": "2023-05-22T11:23:15.754Z"
   },
   {
    "duration": 221,
    "start_time": "2023-05-22T11:23:15.758Z"
   },
   {
    "duration": 11,
    "start_time": "2023-05-22T11:23:15.981Z"
   },
   {
    "duration": 7,
    "start_time": "2023-05-22T11:23:15.993Z"
   },
   {
    "duration": 47,
    "start_time": "2023-05-22T11:23:16.002Z"
   },
   {
    "duration": 27,
    "start_time": "2023-05-22T11:23:16.050Z"
   },
   {
    "duration": 158,
    "start_time": "2023-05-22T11:23:16.079Z"
   },
   {
    "duration": 10,
    "start_time": "2023-05-22T11:23:16.248Z"
   },
   {
    "duration": 91,
    "start_time": "2023-05-22T11:23:16.259Z"
   },
   {
    "duration": 125,
    "start_time": "2023-05-22T11:23:16.352Z"
   },
   {
    "duration": 82,
    "start_time": "2023-05-22T11:23:26.618Z"
   },
   {
    "duration": 85,
    "start_time": "2023-05-22T11:28:21.167Z"
   },
   {
    "duration": 2,
    "start_time": "2023-05-22T11:28:29.021Z"
   },
   {
    "duration": 165,
    "start_time": "2023-05-22T11:28:29.030Z"
   },
   {
    "duration": 10,
    "start_time": "2023-05-22T11:28:29.197Z"
   },
   {
    "duration": 6,
    "start_time": "2023-05-22T11:28:29.209Z"
   },
   {
    "duration": 39,
    "start_time": "2023-05-22T11:28:29.217Z"
   },
   {
    "duration": 16,
    "start_time": "2023-05-22T11:28:29.257Z"
   },
   {
    "duration": 132,
    "start_time": "2023-05-22T11:28:29.274Z"
   },
   {
    "duration": 10,
    "start_time": "2023-05-22T11:28:29.408Z"
   },
   {
    "duration": 84,
    "start_time": "2023-05-22T11:28:29.425Z"
   },
   {
    "duration": 128,
    "start_time": "2023-05-22T11:28:29.511Z"
   },
   {
    "duration": 95,
    "start_time": "2023-05-22T11:28:29.642Z"
   },
   {
    "duration": 2,
    "start_time": "2023-05-22T11:28:41.780Z"
   },
   {
    "duration": 198,
    "start_time": "2023-05-22T11:28:41.784Z"
   },
   {
    "duration": 9,
    "start_time": "2023-05-22T11:28:41.984Z"
   },
   {
    "duration": 20,
    "start_time": "2023-05-22T11:28:41.995Z"
   },
   {
    "duration": 48,
    "start_time": "2023-05-22T11:28:42.017Z"
   },
   {
    "duration": 17,
    "start_time": "2023-05-22T11:28:42.067Z"
   },
   {
    "duration": 128,
    "start_time": "2023-05-22T11:28:42.086Z"
   },
   {
    "duration": 9,
    "start_time": "2023-05-22T11:28:42.215Z"
   },
   {
    "duration": 118,
    "start_time": "2023-05-22T11:28:42.229Z"
   },
   {
    "duration": 99,
    "start_time": "2023-05-22T11:28:42.350Z"
   },
   {
    "duration": 83,
    "start_time": "2023-05-22T11:28:42.454Z"
   },
   {
    "duration": 49,
    "start_time": "2023-05-23T09:33:09.963Z"
   },
   {
    "duration": 407,
    "start_time": "2023-05-23T09:33:13.512Z"
   },
   {
    "duration": 474,
    "start_time": "2023-05-23T09:33:13.921Z"
   },
   {
    "duration": 16,
    "start_time": "2023-05-23T09:33:14.397Z"
   },
   {
    "duration": 4,
    "start_time": "2023-05-23T09:33:14.415Z"
   },
   {
    "duration": 32,
    "start_time": "2023-05-23T09:33:14.422Z"
   },
   {
    "duration": 30,
    "start_time": "2023-05-23T09:33:14.456Z"
   },
   {
    "duration": 127,
    "start_time": "2023-05-23T09:33:14.488Z"
   },
   {
    "duration": 9,
    "start_time": "2023-05-23T09:33:14.617Z"
   },
   {
    "duration": 76,
    "start_time": "2023-05-23T09:33:14.627Z"
   },
   {
    "duration": 83,
    "start_time": "2023-05-23T09:33:14.717Z"
   },
   {
    "duration": 74,
    "start_time": "2023-05-23T09:33:14.802Z"
   },
   {
    "duration": 5,
    "start_time": "2023-05-23T09:33:14.877Z"
   },
   {
    "duration": 53,
    "start_time": "2023-05-23T09:35:28.102Z"
   },
   {
    "duration": 27,
    "start_time": "2023-05-23T09:35:41.506Z"
   },
   {
    "duration": 7,
    "start_time": "2023-05-23T09:36:10.288Z"
   },
   {
    "duration": 6,
    "start_time": "2023-05-23T09:36:34.310Z"
   },
   {
    "duration": 3,
    "start_time": "2023-05-23T09:37:00.643Z"
   },
   {
    "duration": 2,
    "start_time": "2023-05-23T09:37:04.292Z"
   },
   {
    "duration": 157,
    "start_time": "2023-05-23T09:37:04.296Z"
   },
   {
    "duration": 9,
    "start_time": "2023-05-23T09:37:04.454Z"
   },
   {
    "duration": 5,
    "start_time": "2023-05-23T09:37:04.465Z"
   },
   {
    "duration": 29,
    "start_time": "2023-05-23T09:37:04.472Z"
   },
   {
    "duration": 19,
    "start_time": "2023-05-23T09:37:04.502Z"
   },
   {
    "duration": 141,
    "start_time": "2023-05-23T09:37:04.522Z"
   },
   {
    "duration": 10,
    "start_time": "2023-05-23T09:37:04.665Z"
   },
   {
    "duration": 85,
    "start_time": "2023-05-23T09:37:04.677Z"
   },
   {
    "duration": 107,
    "start_time": "2023-05-23T09:37:04.764Z"
   },
   {
    "duration": 77,
    "start_time": "2023-05-23T09:37:04.873Z"
   },
   {
    "duration": 6,
    "start_time": "2023-05-23T09:37:04.952Z"
   },
   {
    "duration": 28,
    "start_time": "2023-05-23T09:37:04.960Z"
   },
   {
    "duration": 26,
    "start_time": "2023-05-23T09:37:17.069Z"
   },
   {
    "duration": 26,
    "start_time": "2023-05-23T09:37:22.879Z"
   },
   {
    "duration": 17,
    "start_time": "2023-05-23T09:37:38.513Z"
   },
   {
    "duration": 15,
    "start_time": "2023-05-23T09:37:42.440Z"
   },
   {
    "duration": 2,
    "start_time": "2023-05-23T09:37:54.301Z"
   },
   {
    "duration": 155,
    "start_time": "2023-05-23T09:37:54.305Z"
   },
   {
    "duration": 12,
    "start_time": "2023-05-23T09:37:54.462Z"
   },
   {
    "duration": 25,
    "start_time": "2023-05-23T09:37:54.476Z"
   },
   {
    "duration": 33,
    "start_time": "2023-05-23T09:37:54.504Z"
   },
   {
    "duration": 21,
    "start_time": "2023-05-23T09:37:54.538Z"
   },
   {
    "duration": 115,
    "start_time": "2023-05-23T09:37:54.561Z"
   },
   {
    "duration": 9,
    "start_time": "2023-05-23T09:37:54.678Z"
   },
   {
    "duration": 77,
    "start_time": "2023-05-23T09:37:54.688Z"
   },
   {
    "duration": 83,
    "start_time": "2023-05-23T09:37:54.766Z"
   },
   {
    "duration": 71,
    "start_time": "2023-05-23T09:37:54.850Z"
   },
   {
    "duration": 4,
    "start_time": "2023-05-23T09:37:54.922Z"
   },
   {
    "duration": 27,
    "start_time": "2023-05-23T09:37:54.927Z"
   },
   {
    "duration": 5,
    "start_time": "2023-05-23T09:40:03.049Z"
   },
   {
    "duration": 9,
    "start_time": "2023-05-23T09:40:09.796Z"
   },
   {
    "duration": 13,
    "start_time": "2023-05-23T09:40:22.953Z"
   },
   {
    "duration": 7,
    "start_time": "2023-05-23T09:41:21.105Z"
   },
   {
    "duration": 8,
    "start_time": "2023-05-23T09:45:32.211Z"
   },
   {
    "duration": 29,
    "start_time": "2023-05-23T09:46:11.375Z"
   },
   {
    "duration": 39,
    "start_time": "2023-05-23T09:52:40.332Z"
   },
   {
    "duration": 49,
    "start_time": "2023-05-23T09:52:44.676Z"
   },
   {
    "duration": 40,
    "start_time": "2023-05-23T09:53:54.890Z"
   },
   {
    "duration": 16,
    "start_time": "2023-05-23T09:57:18.160Z"
   },
   {
    "duration": 6,
    "start_time": "2023-05-23T10:01:17.442Z"
   },
   {
    "duration": 46,
    "start_time": "2023-05-23T10:02:35.170Z"
   },
   {
    "duration": 5,
    "start_time": "2023-05-23T10:02:40.183Z"
   },
   {
    "duration": 679,
    "start_time": "2023-05-23T10:05:17.210Z"
   },
   {
    "duration": 191,
    "start_time": "2023-05-23T10:05:24.645Z"
   },
   {
    "duration": 183,
    "start_time": "2023-05-23T10:05:58.724Z"
   },
   {
    "duration": 217,
    "start_time": "2023-05-23T10:06:07.309Z"
   },
   {
    "duration": 157,
    "start_time": "2023-05-23T10:06:41.960Z"
   },
   {
    "duration": 112,
    "start_time": "2023-05-23T10:08:14.075Z"
   },
   {
    "duration": 118,
    "start_time": "2023-05-23T10:08:54.579Z"
   },
   {
    "duration": 136,
    "start_time": "2023-05-23T10:09:48.896Z"
   },
   {
    "duration": 179,
    "start_time": "2023-05-23T10:09:57.490Z"
   },
   {
    "duration": 3,
    "start_time": "2023-05-23T10:20:23.169Z"
   },
   {
    "duration": 176,
    "start_time": "2023-05-23T10:20:53.997Z"
   },
   {
    "duration": 174,
    "start_time": "2023-05-23T10:21:47.056Z"
   },
   {
    "duration": 181,
    "start_time": "2023-05-23T10:21:54.012Z"
   },
   {
    "duration": 177,
    "start_time": "2023-05-23T10:21:59.389Z"
   },
   {
    "duration": 176,
    "start_time": "2023-05-23T10:23:26.943Z"
   },
   {
    "duration": 182,
    "start_time": "2023-05-23T10:23:49.044Z"
   },
   {
    "duration": 180,
    "start_time": "2023-05-23T10:24:28.169Z"
   },
   {
    "duration": 196,
    "start_time": "2023-05-23T10:24:50.102Z"
   },
   {
    "duration": 13,
    "start_time": "2023-05-23T10:29:32.297Z"
   },
   {
    "duration": 13,
    "start_time": "2023-05-23T10:29:35.338Z"
   },
   {
    "duration": 23,
    "start_time": "2023-05-23T10:30:35.298Z"
   },
   {
    "duration": 76,
    "start_time": "2023-05-23T10:30:35.960Z"
   },
   {
    "duration": 22,
    "start_time": "2023-05-23T10:30:49.249Z"
   },
   {
    "duration": 13,
    "start_time": "2023-05-23T10:30:49.766Z"
   },
   {
    "duration": 2,
    "start_time": "2023-05-23T10:31:22.880Z"
   },
   {
    "duration": 153,
    "start_time": "2023-05-23T10:31:22.884Z"
   },
   {
    "duration": 9,
    "start_time": "2023-05-23T10:31:23.039Z"
   },
   {
    "duration": 5,
    "start_time": "2023-05-23T10:31:23.049Z"
   },
   {
    "duration": 19,
    "start_time": "2023-05-23T10:31:23.056Z"
   },
   {
    "duration": 13,
    "start_time": "2023-05-23T10:31:23.077Z"
   },
   {
    "duration": 120,
    "start_time": "2023-05-23T10:31:23.091Z"
   },
   {
    "duration": 14,
    "start_time": "2023-05-23T10:31:23.213Z"
   },
   {
    "duration": 74,
    "start_time": "2023-05-23T10:31:23.230Z"
   },
   {
    "duration": 95,
    "start_time": "2023-05-23T10:31:23.305Z"
   },
   {
    "duration": 78,
    "start_time": "2023-05-23T10:31:23.401Z"
   },
   {
    "duration": 7,
    "start_time": "2023-05-23T10:31:23.481Z"
   },
   {
    "duration": 60,
    "start_time": "2023-05-23T10:31:23.489Z"
   },
   {
    "duration": 9,
    "start_time": "2023-05-23T10:31:23.553Z"
   },
   {
    "duration": 65,
    "start_time": "2023-05-23T10:31:23.563Z"
   },
   {
    "duration": 17,
    "start_time": "2023-05-23T10:31:23.630Z"
   },
   {
    "duration": 5,
    "start_time": "2023-05-23T10:31:23.648Z"
   },
   {
    "duration": 215,
    "start_time": "2023-05-23T10:31:23.655Z"
   },
   {
    "duration": 16,
    "start_time": "2023-05-23T10:31:23.872Z"
   },
   {
    "duration": 12,
    "start_time": "2023-05-23T10:31:23.889Z"
   },
   {
    "duration": 21,
    "start_time": "2023-05-23T10:34:59.738Z"
   },
   {
    "duration": 16,
    "start_time": "2023-05-23T10:35:12.637Z"
   },
   {
    "duration": 23,
    "start_time": "2023-05-23T10:49:00.467Z"
   },
   {
    "duration": 5,
    "start_time": "2023-05-23T10:49:03.785Z"
   },
   {
    "duration": 6,
    "start_time": "2023-05-23T10:49:12.744Z"
   },
   {
    "duration": 24,
    "start_time": "2023-05-23T10:49:37.162Z"
   },
   {
    "duration": 5,
    "start_time": "2023-05-23T10:49:37.615Z"
   },
   {
    "duration": 4,
    "start_time": "2023-05-23T10:49:44.774Z"
   },
   {
    "duration": 633,
    "start_time": "2023-05-23T10:50:26.984Z"
   },
   {
    "duration": 4,
    "start_time": "2023-05-23T10:50:34.809Z"
   },
   {
    "duration": 5,
    "start_time": "2023-05-23T10:50:38.424Z"
   },
   {
    "duration": 5,
    "start_time": "2023-05-23T10:51:01.485Z"
   },
   {
    "duration": 5,
    "start_time": "2023-05-23T10:51:07.479Z"
   },
   {
    "duration": 790,
    "start_time": "2023-05-23T10:52:24.574Z"
   },
   {
    "duration": 0,
    "start_time": "2023-05-23T10:52:25.366Z"
   },
   {
    "duration": 13,
    "start_time": "2023-05-23T10:52:55.253Z"
   },
   {
    "duration": 6,
    "start_time": "2023-05-23T10:52:55.886Z"
   },
   {
    "duration": 5,
    "start_time": "2023-05-23T10:53:27.369Z"
   },
   {
    "duration": 6,
    "start_time": "2023-05-23T10:53:29.466Z"
   },
   {
    "duration": 5,
    "start_time": "2023-05-23T10:54:04.439Z"
   },
   {
    "duration": 8,
    "start_time": "2023-05-23T10:54:04.838Z"
   },
   {
    "duration": 4,
    "start_time": "2023-05-23T10:54:12.359Z"
   },
   {
    "duration": 6,
    "start_time": "2023-05-23T10:54:12.738Z"
   },
   {
    "duration": 15,
    "start_time": "2023-05-23T10:54:16.697Z"
   },
   {
    "duration": 4,
    "start_time": "2023-05-23T10:54:17.105Z"
   },
   {
    "duration": 7,
    "start_time": "2023-05-23T10:54:17.449Z"
   },
   {
    "duration": 34,
    "start_time": "2023-05-23T10:58:24.512Z"
   },
   {
    "duration": 1275,
    "start_time": "2023-05-23T10:58:25.237Z"
   },
   {
    "duration": 4,
    "start_time": "2023-05-23T10:58:32.167Z"
   },
   {
    "duration": 7,
    "start_time": "2023-05-23T10:58:33.169Z"
   },
   {
    "duration": 4,
    "start_time": "2023-05-23T10:58:57.555Z"
   },
   {
    "duration": 7,
    "start_time": "2023-05-23T10:58:58.141Z"
   },
   {
    "duration": 30,
    "start_time": "2023-05-23T11:24:54.783Z"
   },
   {
    "duration": 27,
    "start_time": "2023-05-23T11:25:08.279Z"
   },
   {
    "duration": 32,
    "start_time": "2023-05-23T11:25:33.304Z"
   },
   {
    "duration": 26,
    "start_time": "2023-05-23T11:25:51.436Z"
   },
   {
    "duration": 63,
    "start_time": "2023-05-23T11:37:08.233Z"
   },
   {
    "duration": 84,
    "start_time": "2023-05-23T11:39:06.757Z"
   },
   {
    "duration": 5,
    "start_time": "2023-05-23T11:43:02.701Z"
   },
   {
    "duration": 6,
    "start_time": "2023-05-23T11:43:05.584Z"
   },
   {
    "duration": 5,
    "start_time": "2023-05-23T11:43:11.324Z"
   },
   {
    "duration": 7,
    "start_time": "2023-05-23T11:43:11.717Z"
   },
   {
    "duration": 3,
    "start_time": "2023-05-23T11:43:43.603Z"
   },
   {
    "duration": 156,
    "start_time": "2023-05-23T11:43:43.607Z"
   },
   {
    "duration": 10,
    "start_time": "2023-05-23T11:43:43.764Z"
   },
   {
    "duration": 5,
    "start_time": "2023-05-23T11:43:43.775Z"
   },
   {
    "duration": 22,
    "start_time": "2023-05-23T11:43:43.781Z"
   },
   {
    "duration": 28,
    "start_time": "2023-05-23T11:43:43.805Z"
   },
   {
    "duration": 125,
    "start_time": "2023-05-23T11:43:43.835Z"
   },
   {
    "duration": 10,
    "start_time": "2023-05-23T11:43:43.961Z"
   },
   {
    "duration": 80,
    "start_time": "2023-05-23T11:43:43.972Z"
   },
   {
    "duration": 89,
    "start_time": "2023-05-23T11:43:44.054Z"
   },
   {
    "duration": 77,
    "start_time": "2023-05-23T11:43:44.146Z"
   },
   {
    "duration": 10,
    "start_time": "2023-05-23T11:43:44.224Z"
   },
   {
    "duration": 40,
    "start_time": "2023-05-23T11:43:44.236Z"
   },
   {
    "duration": 9,
    "start_time": "2023-05-23T11:43:44.278Z"
   },
   {
    "duration": 60,
    "start_time": "2023-05-23T11:43:44.288Z"
   },
   {
    "duration": 14,
    "start_time": "2023-05-23T11:43:44.351Z"
   },
   {
    "duration": 6,
    "start_time": "2023-05-23T11:43:44.367Z"
   },
   {
    "duration": 286,
    "start_time": "2023-05-23T11:43:44.374Z"
   },
   {
    "duration": 19,
    "start_time": "2023-05-23T11:43:44.662Z"
   },
   {
    "duration": 16,
    "start_time": "2023-05-23T11:43:44.683Z"
   },
   {
    "duration": 55,
    "start_time": "2023-05-23T11:43:44.700Z"
   },
   {
    "duration": 5,
    "start_time": "2023-05-23T11:43:44.759Z"
   },
   {
    "duration": 17,
    "start_time": "2023-05-23T11:43:44.765Z"
   },
   {
    "duration": 27,
    "start_time": "2023-05-23T11:43:44.783Z"
   },
   {
    "duration": 61,
    "start_time": "2023-05-23T11:43:44.812Z"
   },
   {
    "duration": 4,
    "start_time": "2023-05-23T11:43:44.875Z"
   },
   {
    "duration": 12,
    "start_time": "2023-05-23T11:43:44.880Z"
   },
   {
    "duration": 5,
    "start_time": "2023-05-23T11:44:21.190Z"
   },
   {
    "duration": 7,
    "start_time": "2023-05-23T11:44:21.573Z"
   },
   {
    "duration": 54,
    "start_time": "2023-05-23T11:46:35.534Z"
   },
   {
    "duration": 9,
    "start_time": "2023-05-23T11:46:41.953Z"
   },
   {
    "duration": 61,
    "start_time": "2023-05-23T11:47:02.266Z"
   },
   {
    "duration": 10,
    "start_time": "2023-05-23T11:47:04.401Z"
   },
   {
    "duration": 1327,
    "start_time": "2023-05-23T11:50:18.820Z"
   },
   {
    "duration": 1301,
    "start_time": "2023-05-23T11:50:28.512Z"
   },
   {
    "duration": 1243,
    "start_time": "2023-05-23T11:53:12.349Z"
   },
   {
    "duration": 1137,
    "start_time": "2023-05-23T11:53:25.622Z"
   },
   {
    "duration": 1541,
    "start_time": "2023-05-23T12:05:25.029Z"
   },
   {
    "duration": 1662,
    "start_time": "2023-05-23T12:05:37.205Z"
   },
   {
    "duration": 6,
    "start_time": "2023-05-23T12:06:28.278Z"
   },
   {
    "duration": 864,
    "start_time": "2023-05-23T12:06:53.237Z"
   },
   {
    "duration": 2042,
    "start_time": "2023-05-23T12:07:02.251Z"
   },
   {
    "duration": 4,
    "start_time": "2023-05-23T12:07:22.914Z"
   },
   {
    "duration": 2082,
    "start_time": "2023-05-23T12:09:45.107Z"
   },
   {
    "duration": 4,
    "start_time": "2023-05-23T12:09:58.948Z"
   },
   {
    "duration": 1902,
    "start_time": "2023-05-23T12:12:04.398Z"
   },
   {
    "duration": 10,
    "start_time": "2023-05-23T12:13:39.239Z"
   },
   {
    "duration": 75,
    "start_time": "2023-05-23T12:15:31.424Z"
   },
   {
    "duration": 9,
    "start_time": "2023-05-23T12:16:29.470Z"
   },
   {
    "duration": 4,
    "start_time": "2023-05-23T12:16:34.175Z"
   },
   {
    "duration": 1718,
    "start_time": "2023-05-23T12:19:10.674Z"
   },
   {
    "duration": 7,
    "start_time": "2023-05-23T12:19:18.815Z"
   },
   {
    "duration": 1104,
    "start_time": "2023-05-23T12:19:22.751Z"
   },
   {
    "duration": 1753,
    "start_time": "2023-05-23T12:19:34.685Z"
   },
   {
    "duration": 5,
    "start_time": "2023-05-23T12:21:37.658Z"
   },
   {
    "duration": 5,
    "start_time": "2023-05-23T12:22:12.991Z"
   },
   {
    "duration": 5,
    "start_time": "2023-05-23T12:22:17.724Z"
   },
   {
    "duration": 4,
    "start_time": "2023-05-23T12:22:22.542Z"
   },
   {
    "duration": 1121,
    "start_time": "2023-05-23T12:24:43.012Z"
   },
   {
    "duration": 13,
    "start_time": "2023-05-23T12:25:35.976Z"
   },
   {
    "duration": 10,
    "start_time": "2023-05-23T12:26:46.690Z"
   },
   {
    "duration": 13,
    "start_time": "2023-05-23T12:27:38.087Z"
   },
   {
    "duration": 3,
    "start_time": "2023-05-23T12:30:30.001Z"
   },
   {
    "duration": 191,
    "start_time": "2023-05-23T12:30:30.006Z"
   },
   {
    "duration": 10,
    "start_time": "2023-05-23T12:30:30.199Z"
   },
   {
    "duration": 36,
    "start_time": "2023-05-23T12:30:30.212Z"
   },
   {
    "duration": 58,
    "start_time": "2023-05-23T12:30:30.251Z"
   },
   {
    "duration": 59,
    "start_time": "2023-05-23T12:30:30.311Z"
   },
   {
    "duration": 157,
    "start_time": "2023-05-23T12:30:30.372Z"
   },
   {
    "duration": 10,
    "start_time": "2023-05-23T12:30:30.530Z"
   },
   {
    "duration": 123,
    "start_time": "2023-05-23T12:30:30.541Z"
   },
   {
    "duration": 87,
    "start_time": "2023-05-23T12:30:30.666Z"
   },
   {
    "duration": 109,
    "start_time": "2023-05-23T12:30:30.755Z"
   },
   {
    "duration": 11,
    "start_time": "2023-05-23T12:30:30.869Z"
   },
   {
    "duration": 88,
    "start_time": "2023-05-23T12:30:30.882Z"
   },
   {
    "duration": 44,
    "start_time": "2023-05-23T12:30:30.974Z"
   },
   {
    "duration": 103,
    "start_time": "2023-05-23T12:30:31.020Z"
   },
   {
    "duration": 26,
    "start_time": "2023-05-23T12:30:31.124Z"
   },
   {
    "duration": 37,
    "start_time": "2023-05-23T12:30:31.152Z"
   },
   {
    "duration": 247,
    "start_time": "2023-05-23T12:30:31.191Z"
   },
   {
    "duration": 16,
    "start_time": "2023-05-23T12:30:31.440Z"
   },
   {
    "duration": 30,
    "start_time": "2023-05-23T12:30:31.458Z"
   },
   {
    "duration": 39,
    "start_time": "2023-05-23T12:30:31.490Z"
   },
   {
    "duration": 4,
    "start_time": "2023-05-23T12:30:31.531Z"
   },
   {
    "duration": 33,
    "start_time": "2023-05-23T12:30:31.536Z"
   },
   {
    "duration": 56,
    "start_time": "2023-05-23T12:30:31.571Z"
   },
   {
    "duration": 91,
    "start_time": "2023-05-23T12:30:31.629Z"
   },
   {
    "duration": 9,
    "start_time": "2023-05-23T12:30:31.722Z"
   },
   {
    "duration": 31,
    "start_time": "2023-05-23T12:30:31.733Z"
   },
   {
    "duration": 25,
    "start_time": "2023-05-23T12:30:31.767Z"
   },
   {
    "duration": 10,
    "start_time": "2023-05-23T12:31:26.823Z"
   },
   {
    "duration": 11,
    "start_time": "2023-05-23T12:31:57.848Z"
   },
   {
    "duration": 15,
    "start_time": "2023-05-23T12:32:31.877Z"
   },
   {
    "duration": 13,
    "start_time": "2023-05-23T12:32:49.644Z"
   },
   {
    "duration": 13,
    "start_time": "2023-05-23T12:33:11.672Z"
   },
   {
    "duration": 4,
    "start_time": "2023-05-23T12:33:20.449Z"
   },
   {
    "duration": 187,
    "start_time": "2023-05-23T12:33:20.455Z"
   },
   {
    "duration": 11,
    "start_time": "2023-05-23T12:33:20.644Z"
   },
   {
    "duration": 16,
    "start_time": "2023-05-23T12:33:20.656Z"
   },
   {
    "duration": 25,
    "start_time": "2023-05-23T12:33:20.675Z"
   },
   {
    "duration": 44,
    "start_time": "2023-05-23T12:33:20.702Z"
   },
   {
    "duration": 192,
    "start_time": "2023-05-23T12:33:20.748Z"
   },
   {
    "duration": 14,
    "start_time": "2023-05-23T12:33:20.942Z"
   },
   {
    "duration": 142,
    "start_time": "2023-05-23T12:33:20.958Z"
   },
   {
    "duration": 115,
    "start_time": "2023-05-23T12:33:21.102Z"
   },
   {
    "duration": 80,
    "start_time": "2023-05-23T12:33:21.219Z"
   },
   {
    "duration": 19,
    "start_time": "2023-05-23T12:33:21.300Z"
   },
   {
    "duration": 39,
    "start_time": "2023-05-23T12:33:21.320Z"
   },
   {
    "duration": 9,
    "start_time": "2023-05-23T12:33:21.362Z"
   },
   {
    "duration": 49,
    "start_time": "2023-05-23T12:33:21.372Z"
   },
   {
    "duration": 17,
    "start_time": "2023-05-23T12:33:21.422Z"
   },
   {
    "duration": 5,
    "start_time": "2023-05-23T12:33:21.441Z"
   },
   {
    "duration": 253,
    "start_time": "2023-05-23T12:33:21.448Z"
   },
   {
    "duration": 26,
    "start_time": "2023-05-23T12:33:21.703Z"
   },
   {
    "duration": 12,
    "start_time": "2023-05-23T12:33:21.731Z"
   },
   {
    "duration": 42,
    "start_time": "2023-05-23T12:33:21.744Z"
   },
   {
    "duration": 6,
    "start_time": "2023-05-23T12:33:21.787Z"
   },
   {
    "duration": 30,
    "start_time": "2023-05-23T12:33:21.795Z"
   },
   {
    "duration": 63,
    "start_time": "2023-05-23T12:33:21.826Z"
   },
   {
    "duration": 57,
    "start_time": "2023-05-23T12:33:21.890Z"
   },
   {
    "duration": 8,
    "start_time": "2023-05-23T12:33:21.949Z"
   },
   {
    "duration": 41,
    "start_time": "2023-05-23T12:33:21.959Z"
   },
   {
    "duration": 13,
    "start_time": "2023-05-23T12:34:50.551Z"
   },
   {
    "duration": 14,
    "start_time": "2023-05-23T12:34:56.852Z"
   },
   {
    "duration": 13,
    "start_time": "2023-05-23T12:36:34.883Z"
   },
   {
    "duration": 2,
    "start_time": "2023-05-23T12:36:39.643Z"
   },
   {
    "duration": 145,
    "start_time": "2023-05-23T12:36:39.648Z"
   },
   {
    "duration": 13,
    "start_time": "2023-05-23T12:36:39.795Z"
   },
   {
    "duration": 5,
    "start_time": "2023-05-23T12:36:39.818Z"
   },
   {
    "duration": 28,
    "start_time": "2023-05-23T12:36:39.826Z"
   },
   {
    "duration": 14,
    "start_time": "2023-05-23T12:36:39.855Z"
   },
   {
    "duration": 111,
    "start_time": "2023-05-23T12:36:39.871Z"
   },
   {
    "duration": 9,
    "start_time": "2023-05-23T12:36:39.984Z"
   },
   {
    "duration": 87,
    "start_time": "2023-05-23T12:36:39.995Z"
   },
   {
    "duration": 123,
    "start_time": "2023-05-23T12:36:40.084Z"
   },
   {
    "duration": 70,
    "start_time": "2023-05-23T12:36:40.209Z"
   },
   {
    "duration": 6,
    "start_time": "2023-05-23T12:36:40.280Z"
   },
   {
    "duration": 46,
    "start_time": "2023-05-23T12:36:40.287Z"
   },
   {
    "duration": 11,
    "start_time": "2023-05-23T12:36:40.336Z"
   },
   {
    "duration": 54,
    "start_time": "2023-05-23T12:36:40.349Z"
   },
   {
    "duration": 21,
    "start_time": "2023-05-23T12:36:40.405Z"
   },
   {
    "duration": 12,
    "start_time": "2023-05-23T12:36:40.427Z"
   },
   {
    "duration": 211,
    "start_time": "2023-05-23T12:36:40.440Z"
   },
   {
    "duration": 19,
    "start_time": "2023-05-23T12:36:40.653Z"
   },
   {
    "duration": 28,
    "start_time": "2023-05-23T12:36:40.673Z"
   },
   {
    "duration": 39,
    "start_time": "2023-05-23T12:36:40.703Z"
   },
   {
    "duration": 5,
    "start_time": "2023-05-23T12:36:40.744Z"
   },
   {
    "duration": 10,
    "start_time": "2023-05-23T12:36:40.751Z"
   },
   {
    "duration": 30,
    "start_time": "2023-05-23T12:36:40.763Z"
   },
   {
    "duration": 104,
    "start_time": "2023-05-23T12:36:40.794Z"
   },
   {
    "duration": 28,
    "start_time": "2023-05-23T12:36:40.901Z"
   },
   {
    "duration": 24,
    "start_time": "2023-05-23T12:36:40.931Z"
   },
   {
    "duration": 7,
    "start_time": "2023-05-23T12:39:09.044Z"
   },
   {
    "duration": 5,
    "start_time": "2023-05-23T12:39:13.412Z"
   },
   {
    "duration": 3,
    "start_time": "2023-05-23T12:53:09.760Z"
   },
   {
    "duration": 171,
    "start_time": "2023-05-23T12:53:09.766Z"
   },
   {
    "duration": 11,
    "start_time": "2023-05-23T12:53:09.939Z"
   },
   {
    "duration": 20,
    "start_time": "2023-05-23T12:53:09.951Z"
   },
   {
    "duration": 18,
    "start_time": "2023-05-23T12:53:10.224Z"
   },
   {
    "duration": 26,
    "start_time": "2023-05-23T12:53:10.244Z"
   },
   {
    "duration": 115,
    "start_time": "2023-05-23T12:53:10.271Z"
   },
   {
    "duration": 9,
    "start_time": "2023-05-23T12:53:10.388Z"
   },
   {
    "duration": 81,
    "start_time": "2023-05-23T12:53:10.399Z"
   },
   {
    "duration": 77,
    "start_time": "2023-05-23T12:53:10.481Z"
   },
   {
    "duration": 75,
    "start_time": "2023-05-23T12:53:10.559Z"
   },
   {
    "duration": 4,
    "start_time": "2023-05-23T12:53:10.635Z"
   },
   {
    "duration": 53,
    "start_time": "2023-05-23T12:53:10.640Z"
   },
   {
    "duration": 8,
    "start_time": "2023-05-23T12:53:10.694Z"
   },
   {
    "duration": 43,
    "start_time": "2023-05-23T12:53:10.704Z"
   },
   {
    "duration": 15,
    "start_time": "2023-05-23T12:53:10.748Z"
   },
   {
    "duration": 5,
    "start_time": "2023-05-23T12:53:10.766Z"
   },
   {
    "duration": 242,
    "start_time": "2023-05-23T12:53:10.773Z"
   },
   {
    "duration": 19,
    "start_time": "2023-05-23T12:53:11.017Z"
   },
   {
    "duration": 12,
    "start_time": "2023-05-23T12:53:11.037Z"
   },
   {
    "duration": 41,
    "start_time": "2023-05-23T12:53:11.051Z"
   },
   {
    "duration": 6,
    "start_time": "2023-05-23T12:53:11.093Z"
   },
   {
    "duration": 33,
    "start_time": "2023-05-23T12:53:11.100Z"
   },
   {
    "duration": 46,
    "start_time": "2023-05-23T12:53:11.135Z"
   },
   {
    "duration": 56,
    "start_time": "2023-05-23T12:53:11.182Z"
   },
   {
    "duration": 8,
    "start_time": "2023-05-23T12:53:11.239Z"
   },
   {
    "duration": 10,
    "start_time": "2023-05-23T12:53:11.249Z"
   },
   {
    "duration": 8,
    "start_time": "2023-05-23T12:53:11.260Z"
   },
   {
    "duration": 2,
    "start_time": "2023-05-23T12:54:57.545Z"
   },
   {
    "duration": 144,
    "start_time": "2023-05-23T12:54:57.549Z"
   },
   {
    "duration": 9,
    "start_time": "2023-05-23T12:54:57.695Z"
   },
   {
    "duration": 17,
    "start_time": "2023-05-23T12:54:57.706Z"
   },
   {
    "duration": 29,
    "start_time": "2023-05-23T12:54:57.725Z"
   },
   {
    "duration": 14,
    "start_time": "2023-05-23T12:54:57.755Z"
   },
   {
    "duration": 102,
    "start_time": "2023-05-23T12:54:57.771Z"
   },
   {
    "duration": 8,
    "start_time": "2023-05-23T12:54:57.932Z"
   },
   {
    "duration": 74,
    "start_time": "2023-05-23T12:54:57.942Z"
   },
   {
    "duration": 77,
    "start_time": "2023-05-23T12:54:58.018Z"
   },
   {
    "duration": 82,
    "start_time": "2023-05-23T12:54:58.097Z"
   },
   {
    "duration": 5,
    "start_time": "2023-05-23T12:54:58.182Z"
   },
   {
    "duration": 45,
    "start_time": "2023-05-23T12:54:58.189Z"
   },
   {
    "duration": 8,
    "start_time": "2023-05-23T12:54:58.235Z"
   },
   {
    "duration": 37,
    "start_time": "2023-05-23T12:54:58.245Z"
   },
   {
    "duration": 34,
    "start_time": "2023-05-23T12:54:58.284Z"
   },
   {
    "duration": 5,
    "start_time": "2023-05-23T12:54:58.984Z"
   },
   {
    "duration": 208,
    "start_time": "2023-05-23T12:54:58.991Z"
   },
   {
    "duration": 20,
    "start_time": "2023-05-23T12:54:59.201Z"
   },
   {
    "duration": 12,
    "start_time": "2023-05-23T12:54:59.222Z"
   },
   {
    "duration": 29,
    "start_time": "2023-05-23T12:54:59.235Z"
   },
   {
    "duration": 4,
    "start_time": "2023-05-23T12:54:59.265Z"
   },
   {
    "duration": 7,
    "start_time": "2023-05-23T12:54:59.271Z"
   },
   {
    "duration": 46,
    "start_time": "2023-05-23T12:54:59.280Z"
   },
   {
    "duration": 55,
    "start_time": "2023-05-23T12:54:59.327Z"
   },
   {
    "duration": 8,
    "start_time": "2023-05-23T12:54:59.383Z"
   },
   {
    "duration": 27,
    "start_time": "2023-05-23T12:54:59.393Z"
   },
   {
    "duration": 2,
    "start_time": "2023-05-23T13:04:25.999Z"
   },
   {
    "duration": 153,
    "start_time": "2023-05-23T13:04:26.003Z"
   },
   {
    "duration": 9,
    "start_time": "2023-05-23T13:04:26.158Z"
   },
   {
    "duration": 3,
    "start_time": "2023-05-23T13:04:26.276Z"
   },
   {
    "duration": 26,
    "start_time": "2023-05-23T13:04:26.281Z"
   },
   {
    "duration": 30,
    "start_time": "2023-05-23T13:04:26.309Z"
   },
   {
    "duration": 97,
    "start_time": "2023-05-23T13:04:26.341Z"
   },
   {
    "duration": 8,
    "start_time": "2023-05-23T13:04:26.440Z"
   },
   {
    "duration": 94,
    "start_time": "2023-05-23T13:04:26.449Z"
   },
   {
    "duration": 85,
    "start_time": "2023-05-23T13:04:26.544Z"
   },
   {
    "duration": 68,
    "start_time": "2023-05-23T13:04:26.630Z"
   },
   {
    "duration": 19,
    "start_time": "2023-05-23T13:04:26.699Z"
   },
   {
    "duration": 29,
    "start_time": "2023-05-23T13:04:26.720Z"
   },
   {
    "duration": 9,
    "start_time": "2023-05-23T13:04:26.750Z"
   },
   {
    "duration": 58,
    "start_time": "2023-05-23T13:04:26.760Z"
   },
   {
    "duration": 15,
    "start_time": "2023-05-23T13:04:28.348Z"
   },
   {
    "duration": 15,
    "start_time": "2023-05-23T13:04:28.365Z"
   },
   {
    "duration": 193,
    "start_time": "2023-05-23T13:04:28.381Z"
   },
   {
    "duration": 17,
    "start_time": "2023-05-23T13:04:28.576Z"
   },
   {
    "duration": 24,
    "start_time": "2023-05-23T13:04:28.594Z"
   },
   {
    "duration": 33,
    "start_time": "2023-05-23T13:04:28.620Z"
   },
   {
    "duration": 23,
    "start_time": "2023-05-23T13:04:28.655Z"
   },
   {
    "duration": 76,
    "start_time": "2023-05-23T13:04:28.680Z"
   },
   {
    "duration": 8,
    "start_time": "2023-05-23T13:04:28.758Z"
   },
   {
    "duration": 11,
    "start_time": "2023-05-23T13:04:28.767Z"
   },
   {
    "duration": 39,
    "start_time": "2023-05-23T13:09:17.284Z"
   },
   {
    "duration": 3,
    "start_time": "2023-05-23T13:09:44.362Z"
   },
   {
    "duration": 178,
    "start_time": "2023-05-23T13:09:44.367Z"
   },
   {
    "duration": 12,
    "start_time": "2023-05-23T13:09:44.547Z"
   },
   {
    "duration": 46,
    "start_time": "2023-05-23T13:09:44.562Z"
   },
   {
    "duration": 27,
    "start_time": "2023-05-23T13:09:44.611Z"
   },
   {
    "duration": 18,
    "start_time": "2023-05-23T13:09:44.640Z"
   },
   {
    "duration": 132,
    "start_time": "2023-05-23T13:09:44.660Z"
   },
   {
    "duration": 9,
    "start_time": "2023-05-23T13:09:44.793Z"
   },
   {
    "duration": 79,
    "start_time": "2023-05-23T13:09:44.804Z"
   },
   {
    "duration": 83,
    "start_time": "2023-05-23T13:09:45.006Z"
   },
   {
    "duration": 70,
    "start_time": "2023-05-23T13:09:45.092Z"
   },
   {
    "duration": 5,
    "start_time": "2023-05-23T13:09:45.164Z"
   },
   {
    "duration": 47,
    "start_time": "2023-05-23T13:09:45.170Z"
   },
   {
    "duration": 8,
    "start_time": "2023-05-23T13:09:45.219Z"
   },
   {
    "duration": 49,
    "start_time": "2023-05-23T13:09:45.229Z"
   },
   {
    "duration": 15,
    "start_time": "2023-05-23T13:09:45.280Z"
   },
   {
    "duration": 28,
    "start_time": "2023-05-23T13:09:45.296Z"
   },
   {
    "duration": 217,
    "start_time": "2023-05-23T13:09:45.325Z"
   },
   {
    "duration": 18,
    "start_time": "2023-05-23T13:09:45.543Z"
   },
   {
    "duration": 21,
    "start_time": "2023-05-23T13:09:45.562Z"
   },
   {
    "duration": 56,
    "start_time": "2023-05-23T13:09:45.584Z"
   },
   {
    "duration": 35,
    "start_time": "2023-05-23T13:09:45.641Z"
   },
   {
    "duration": 24,
    "start_time": "2023-05-23T13:09:45.678Z"
   },
   {
    "duration": 61,
    "start_time": "2023-05-23T13:09:45.724Z"
   },
   {
    "duration": 8,
    "start_time": "2023-05-23T13:09:45.786Z"
   },
   {
    "duration": 10,
    "start_time": "2023-05-23T13:09:46.025Z"
   },
   {
    "duration": 2,
    "start_time": "2023-05-23T13:09:59.474Z"
   },
   {
    "duration": 159,
    "start_time": "2023-05-23T13:09:59.478Z"
   },
   {
    "duration": 9,
    "start_time": "2023-05-23T13:09:59.638Z"
   },
   {
    "duration": 6,
    "start_time": "2023-05-23T13:09:59.649Z"
   },
   {
    "duration": 18,
    "start_time": "2023-05-23T13:09:59.731Z"
   },
   {
    "duration": 13,
    "start_time": "2023-05-23T13:09:59.752Z"
   },
   {
    "duration": 104,
    "start_time": "2023-05-23T13:09:59.768Z"
   },
   {
    "duration": 9,
    "start_time": "2023-05-23T13:09:59.874Z"
   },
   {
    "duration": 77,
    "start_time": "2023-05-23T13:09:59.885Z"
   },
   {
    "duration": 90,
    "start_time": "2023-05-23T13:09:59.964Z"
   },
   {
    "duration": 82,
    "start_time": "2023-05-23T13:10:00.056Z"
   },
   {
    "duration": 5,
    "start_time": "2023-05-23T13:10:00.140Z"
   },
   {
    "duration": 73,
    "start_time": "2023-05-23T13:10:00.147Z"
   },
   {
    "duration": 35,
    "start_time": "2023-05-23T13:10:00.221Z"
   },
   {
    "duration": 90,
    "start_time": "2023-05-23T13:10:00.258Z"
   },
   {
    "duration": 16,
    "start_time": "2023-05-23T13:10:00.350Z"
   },
   {
    "duration": 21,
    "start_time": "2023-05-23T13:10:00.368Z"
   },
   {
    "duration": 221,
    "start_time": "2023-05-23T13:10:00.391Z"
   },
   {
    "duration": 21,
    "start_time": "2023-05-23T13:10:00.613Z"
   },
   {
    "duration": 13,
    "start_time": "2023-05-23T13:10:00.636Z"
   },
   {
    "duration": 70,
    "start_time": "2023-05-23T13:10:00.650Z"
   },
   {
    "duration": 53,
    "start_time": "2023-05-23T13:10:00.722Z"
   },
   {
    "duration": 51,
    "start_time": "2023-05-23T13:10:00.777Z"
   },
   {
    "duration": 134,
    "start_time": "2023-05-23T13:10:00.830Z"
   },
   {
    "duration": 9,
    "start_time": "2023-05-23T13:10:00.966Z"
   },
   {
    "duration": 36,
    "start_time": "2023-05-23T13:10:00.977Z"
   },
   {
    "duration": 44,
    "start_time": "2023-05-23T13:10:51.735Z"
   },
   {
    "duration": 2,
    "start_time": "2023-05-23T13:14:49.331Z"
   },
   {
    "duration": 149,
    "start_time": "2023-05-23T13:14:49.335Z"
   },
   {
    "duration": 9,
    "start_time": "2023-05-23T13:14:49.486Z"
   },
   {
    "duration": 19,
    "start_time": "2023-05-23T13:14:49.496Z"
   },
   {
    "duration": 18,
    "start_time": "2023-05-23T13:14:49.776Z"
   },
   {
    "duration": 13,
    "start_time": "2023-05-23T13:14:49.795Z"
   },
   {
    "duration": 95,
    "start_time": "2023-05-23T13:14:49.809Z"
   },
   {
    "duration": 8,
    "start_time": "2023-05-23T13:14:49.906Z"
   },
   {
    "duration": 68,
    "start_time": "2023-05-23T13:14:49.918Z"
   },
   {
    "duration": 86,
    "start_time": "2023-05-23T13:14:49.987Z"
   },
   {
    "duration": 76,
    "start_time": "2023-05-23T13:14:50.076Z"
   },
   {
    "duration": 6,
    "start_time": "2023-05-23T13:14:50.154Z"
   },
   {
    "duration": 56,
    "start_time": "2023-05-23T13:14:50.161Z"
   },
   {
    "duration": 9,
    "start_time": "2023-05-23T13:14:50.219Z"
   },
   {
    "duration": 38,
    "start_time": "2023-05-23T13:14:50.229Z"
   },
   {
    "duration": 15,
    "start_time": "2023-05-23T13:14:50.269Z"
   },
   {
    "duration": 32,
    "start_time": "2023-05-23T13:14:50.286Z"
   },
   {
    "duration": 202,
    "start_time": "2023-05-23T13:14:50.321Z"
   },
   {
    "duration": 13,
    "start_time": "2023-05-23T13:14:50.524Z"
   },
   {
    "duration": 43,
    "start_time": "2023-05-23T13:14:50.538Z"
   },
   {
    "duration": 51,
    "start_time": "2023-05-23T13:14:50.582Z"
   },
   {
    "duration": 25,
    "start_time": "2023-05-23T13:14:50.635Z"
   },
   {
    "duration": 75,
    "start_time": "2023-05-23T13:14:50.661Z"
   },
   {
    "duration": 8,
    "start_time": "2023-05-23T13:14:50.737Z"
   },
   {
    "duration": 26,
    "start_time": "2023-05-23T13:14:50.747Z"
   },
   {
    "duration": 1070,
    "start_time": "2023-05-24T10:28:03.224Z"
   },
   {
    "duration": 821,
    "start_time": "2023-05-24T10:28:04.297Z"
   },
   {
    "duration": 28,
    "start_time": "2023-05-24T10:28:05.120Z"
   },
   {
    "duration": 4,
    "start_time": "2023-05-24T10:28:05.154Z"
   },
   {
    "duration": 46,
    "start_time": "2023-05-24T10:28:05.161Z"
   },
   {
    "duration": 42,
    "start_time": "2023-05-24T10:28:05.209Z"
   },
   {
    "duration": 164,
    "start_time": "2023-05-24T10:28:05.254Z"
   },
   {
    "duration": 11,
    "start_time": "2023-05-24T10:28:05.420Z"
   },
   {
    "duration": 121,
    "start_time": "2023-05-24T10:28:05.433Z"
   },
   {
    "duration": 132,
    "start_time": "2023-05-24T10:28:05.556Z"
   },
   {
    "duration": 103,
    "start_time": "2023-05-24T10:28:05.690Z"
   },
   {
    "duration": 7,
    "start_time": "2023-05-24T10:28:05.795Z"
   },
   {
    "duration": 62,
    "start_time": "2023-05-24T10:28:05.806Z"
   },
   {
    "duration": 13,
    "start_time": "2023-05-24T10:28:05.871Z"
   },
   {
    "duration": 80,
    "start_time": "2023-05-24T10:28:05.886Z"
   },
   {
    "duration": 31,
    "start_time": "2023-05-24T10:28:05.968Z"
   },
   {
    "duration": 19,
    "start_time": "2023-05-24T10:28:06.001Z"
   },
   {
    "duration": 384,
    "start_time": "2023-05-24T10:28:06.024Z"
   },
   {
    "duration": 34,
    "start_time": "2023-05-24T10:28:06.410Z"
   },
   {
    "duration": 70,
    "start_time": "2023-05-24T10:28:06.447Z"
   },
   {
    "duration": 45,
    "start_time": "2023-05-24T10:28:06.519Z"
   },
   {
    "duration": 26,
    "start_time": "2023-05-24T10:28:06.566Z"
   },
   {
    "duration": 118,
    "start_time": "2023-05-24T10:28:06.594Z"
   },
   {
    "duration": 21,
    "start_time": "2023-05-24T10:28:06.715Z"
   },
   {
    "duration": 27,
    "start_time": "2023-05-24T10:28:06.738Z"
   },
   {
    "duration": 8,
    "start_time": "2023-05-24T10:29:30.776Z"
   },
   {
    "duration": 639,
    "start_time": "2023-05-24T10:51:51.086Z"
   },
   {
    "duration": 5,
    "start_time": "2023-05-24T10:54:01.268Z"
   },
   {
    "duration": 75,
    "start_time": "2023-05-24T10:54:08.899Z"
   },
   {
    "duration": 14,
    "start_time": "2023-05-24T10:54:20.964Z"
   },
   {
    "duration": 16,
    "start_time": "2023-05-24T10:54:27.359Z"
   },
   {
    "duration": 15,
    "start_time": "2023-05-24T10:55:37.670Z"
   },
   {
    "duration": 16,
    "start_time": "2023-05-24T10:55:41.319Z"
   },
   {
    "duration": 16,
    "start_time": "2023-05-24T10:55:52.164Z"
   },
   {
    "duration": 18,
    "start_time": "2023-05-24T10:57:18.558Z"
   },
   {
    "duration": 25,
    "start_time": "2023-05-24T10:57:22.472Z"
   },
   {
    "duration": 29,
    "start_time": "2023-05-24T10:58:48.767Z"
   },
   {
    "duration": 5,
    "start_time": "2023-05-24T10:59:23.088Z"
   },
   {
    "duration": 5,
    "start_time": "2023-05-24T10:59:35.626Z"
   },
   {
    "duration": 5,
    "start_time": "2023-05-24T10:59:43.520Z"
   },
   {
    "duration": 4,
    "start_time": "2023-05-24T11:03:00.563Z"
   },
   {
    "duration": 5,
    "start_time": "2023-05-24T11:03:00.898Z"
   },
   {
    "duration": 7,
    "start_time": "2023-05-24T11:03:01.358Z"
   },
   {
    "duration": 137,
    "start_time": "2023-05-24T11:47:11.595Z"
   },
   {
    "duration": 10,
    "start_time": "2023-05-24T11:47:55.108Z"
   },
   {
    "duration": 91,
    "start_time": "2023-05-24T11:49:28.250Z"
   },
   {
    "duration": 5,
    "start_time": "2023-05-24T11:49:42.556Z"
   },
   {
    "duration": 10,
    "start_time": "2023-05-24T11:50:22.015Z"
   },
   {
    "duration": 43,
    "start_time": "2023-05-24T11:50:38.014Z"
   },
   {
    "duration": 20,
    "start_time": "2023-05-24T11:51:00.661Z"
   },
   {
    "duration": 50,
    "start_time": "2023-05-24T11:51:22.112Z"
   },
   {
    "duration": 18,
    "start_time": "2023-05-24T11:51:23.098Z"
   },
   {
    "duration": 10,
    "start_time": "2023-05-24T11:51:34.211Z"
   },
   {
    "duration": 6,
    "start_time": "2023-05-24T11:51:44.674Z"
   },
   {
    "duration": 9,
    "start_time": "2023-05-24T11:52:09.818Z"
   },
   {
    "duration": 6,
    "start_time": "2023-05-24T11:52:23.654Z"
   },
   {
    "duration": 6,
    "start_time": "2023-05-24T11:52:30.650Z"
   },
   {
    "duration": 6,
    "start_time": "2023-05-24T11:57:01.651Z"
   },
   {
    "duration": 380,
    "start_time": "2023-05-24T11:57:07.353Z"
   },
   {
    "duration": 406,
    "start_time": "2023-05-24T11:57:37.022Z"
   },
   {
    "duration": 8,
    "start_time": "2023-05-24T12:00:58.651Z"
   },
   {
    "duration": 233,
    "start_time": "2023-05-24T12:00:59.905Z"
   },
   {
    "duration": 214,
    "start_time": "2023-05-24T12:02:01.212Z"
   },
   {
    "duration": 7,
    "start_time": "2023-05-24T12:15:27.383Z"
   },
   {
    "duration": 205,
    "start_time": "2023-05-24T12:15:28.274Z"
   },
   {
    "duration": 10,
    "start_time": "2023-05-24T12:17:28.824Z"
   },
   {
    "duration": 218,
    "start_time": "2023-05-24T12:17:29.276Z"
   },
   {
    "duration": 7,
    "start_time": "2023-05-24T12:18:24.104Z"
   },
   {
    "duration": 220,
    "start_time": "2023-05-24T12:18:24.698Z"
   },
   {
    "duration": 5,
    "start_time": "2023-05-24T12:20:05.980Z"
   },
   {
    "duration": 243,
    "start_time": "2023-05-24T12:20:06.499Z"
   },
   {
    "duration": 10,
    "start_time": "2023-05-24T12:30:51.097Z"
   },
   {
    "duration": 25,
    "start_time": "2023-05-24T12:30:58.652Z"
   },
   {
    "duration": 13,
    "start_time": "2023-05-24T12:31:04.897Z"
   },
   {
    "duration": 12,
    "start_time": "2023-05-24T12:31:52.952Z"
   },
   {
    "duration": 62,
    "start_time": "2023-05-24T12:33:20.354Z"
   },
   {
    "duration": 1395,
    "start_time": "2023-05-24T12:33:21.058Z"
   },
   {
    "duration": 34,
    "start_time": "2023-05-24T12:35:44.151Z"
   },
   {
    "duration": 16,
    "start_time": "2023-05-24T12:37:22.153Z"
   },
   {
    "duration": 6,
    "start_time": "2023-05-24T12:40:41.115Z"
   },
   {
    "duration": 1634,
    "start_time": "2023-05-24T12:40:50.982Z"
   },
   {
    "duration": 60,
    "start_time": "2023-05-24T12:41:58.103Z"
   },
   {
    "duration": 57,
    "start_time": "2023-05-24T12:42:43.491Z"
   },
   {
    "duration": 81,
    "start_time": "2023-05-24T12:43:38.784Z"
   },
   {
    "duration": 65,
    "start_time": "2023-05-24T12:43:53.580Z"
   },
   {
    "duration": 54,
    "start_time": "2023-05-24T12:44:01.084Z"
   },
   {
    "duration": 67,
    "start_time": "2023-05-24T12:44:14.559Z"
   },
   {
    "duration": 85,
    "start_time": "2023-05-24T12:44:18.360Z"
   },
   {
    "duration": 102,
    "start_time": "2023-05-24T12:44:22.185Z"
   },
   {
    "duration": 62,
    "start_time": "2023-05-24T12:45:40.451Z"
   },
   {
    "duration": 6,
    "start_time": "2023-05-24T12:47:35.560Z"
   },
   {
    "duration": 25,
    "start_time": "2023-05-24T12:47:36.918Z"
   },
   {
    "duration": 5,
    "start_time": "2023-05-24T12:49:47.115Z"
   },
   {
    "duration": 17,
    "start_time": "2023-05-24T12:49:57.690Z"
   },
   {
    "duration": 76,
    "start_time": "2023-05-24T12:54:57.901Z"
   },
   {
    "duration": 95,
    "start_time": "2023-05-24T12:56:33.164Z"
   },
   {
    "duration": 86,
    "start_time": "2023-05-24T12:56:45.971Z"
   },
   {
    "duration": 51,
    "start_time": "2023-05-24T12:57:25.367Z"
   },
   {
    "duration": 7,
    "start_time": "2023-05-24T12:57:52.410Z"
   },
   {
    "duration": 186,
    "start_time": "2023-05-24T12:57:54.858Z"
   },
   {
    "duration": 71,
    "start_time": "2023-05-24T12:57:57.579Z"
   },
   {
    "duration": 203,
    "start_time": "2023-05-24T12:58:02.609Z"
   },
   {
    "duration": 212,
    "start_time": "2023-05-24T12:58:12.802Z"
   },
   {
    "duration": 86,
    "start_time": "2023-05-24T12:58:19.074Z"
   },
   {
    "duration": 192,
    "start_time": "2023-05-24T12:58:38.181Z"
   },
   {
    "duration": 202,
    "start_time": "2023-05-24T12:59:40.598Z"
   },
   {
    "duration": 190,
    "start_time": "2023-05-24T12:59:58.563Z"
   },
   {
    "duration": 10,
    "start_time": "2023-05-24T13:10:53.663Z"
   },
   {
    "duration": 11,
    "start_time": "2023-05-24T13:11:05.184Z"
   },
   {
    "duration": 17,
    "start_time": "2023-05-24T13:19:27.472Z"
   },
   {
    "duration": 26,
    "start_time": "2023-05-24T13:20:34.667Z"
   },
   {
    "duration": 43,
    "start_time": "2023-05-24T13:20:38.114Z"
   },
   {
    "duration": 31,
    "start_time": "2023-05-24T13:20:42.163Z"
   },
   {
    "duration": 55,
    "start_time": "2023-05-24T13:20:58.491Z"
   },
   {
    "duration": 11,
    "start_time": "2023-05-24T13:21:10.389Z"
   },
   {
    "duration": 101,
    "start_time": "2023-05-24T13:27:03.925Z"
   },
   {
    "duration": 147,
    "start_time": "2023-05-24T13:27:31.207Z"
   },
   {
    "duration": 11,
    "start_time": "2023-05-24T13:35:59.161Z"
   },
   {
    "duration": 1637,
    "start_time": "2023-05-24T13:36:21.993Z"
   },
   {
    "duration": 1570,
    "start_time": "2023-05-24T13:36:32.281Z"
   },
   {
    "duration": 1637,
    "start_time": "2023-05-24T13:36:38.485Z"
   },
   {
    "duration": 11,
    "start_time": "2023-05-24T13:36:44.607Z"
   },
   {
    "duration": 19,
    "start_time": "2023-05-24T13:37:28.122Z"
   },
   {
    "duration": 102,
    "start_time": "2023-05-24T13:39:03.162Z"
   },
   {
    "duration": 101,
    "start_time": "2023-05-24T13:39:08.274Z"
   },
   {
    "duration": 14,
    "start_time": "2023-05-24T13:40:29.418Z"
   },
   {
    "duration": 6,
    "start_time": "2023-05-24T13:46:45.979Z"
   },
   {
    "duration": 56,
    "start_time": "2023-05-24T13:47:27.291Z"
   },
   {
    "duration": 5,
    "start_time": "2023-05-24T13:49:44.620Z"
   },
   {
    "duration": 41,
    "start_time": "2023-05-24T13:49:45.563Z"
   },
   {
    "duration": 9,
    "start_time": "2023-05-24T13:50:46.414Z"
   },
   {
    "duration": 29,
    "start_time": "2023-05-24T13:50:47.078Z"
   },
   {
    "duration": 8,
    "start_time": "2023-05-24T13:51:59.795Z"
   },
   {
    "duration": 54,
    "start_time": "2023-05-24T13:52:01.111Z"
   },
   {
    "duration": 12,
    "start_time": "2023-05-24T13:52:33.519Z"
   },
   {
    "duration": 46,
    "start_time": "2023-05-24T13:52:34.876Z"
   },
   {
    "duration": 23,
    "start_time": "2023-05-24T13:53:22.519Z"
   },
   {
    "duration": 63,
    "start_time": "2023-05-24T13:53:23.024Z"
   },
   {
    "duration": 120,
    "start_time": "2023-05-24T13:53:58.115Z"
   },
   {
    "duration": 8,
    "start_time": "2023-05-24T13:54:01.961Z"
   },
   {
    "duration": 44,
    "start_time": "2023-05-24T13:54:02.360Z"
   },
   {
    "duration": 6,
    "start_time": "2023-05-24T13:55:05.087Z"
   },
   {
    "duration": 65,
    "start_time": "2023-05-24T13:55:07.204Z"
   },
   {
    "duration": 15,
    "start_time": "2023-05-24T13:55:33.634Z"
   },
   {
    "duration": 48,
    "start_time": "2023-05-24T13:55:34.386Z"
   },
   {
    "duration": 189,
    "start_time": "2023-05-24T13:56:21.998Z"
   },
   {
    "duration": 206,
    "start_time": "2023-05-24T13:57:09.984Z"
   },
   {
    "duration": 224,
    "start_time": "2023-05-24T13:57:29.688Z"
   },
   {
    "duration": 195,
    "start_time": "2023-05-24T14:04:30.519Z"
   },
   {
    "duration": 197,
    "start_time": "2023-05-24T14:04:58.864Z"
   },
   {
    "duration": 164,
    "start_time": "2023-05-24T14:05:59.092Z"
   },
   {
    "duration": 158,
    "start_time": "2023-05-24T14:06:16.621Z"
   },
   {
    "duration": 110,
    "start_time": "2023-05-24T14:13:58.970Z"
   },
   {
    "duration": 96,
    "start_time": "2023-05-24T14:14:27.779Z"
   },
   {
    "duration": 87,
    "start_time": "2023-05-24T14:14:58.410Z"
   },
   {
    "duration": 93,
    "start_time": "2023-05-24T14:15:08.902Z"
   },
   {
    "duration": 9,
    "start_time": "2023-05-24T14:15:55.970Z"
   },
   {
    "duration": 7,
    "start_time": "2023-05-24T14:16:01.171Z"
   },
   {
    "duration": 12,
    "start_time": "2023-05-24T14:16:24.301Z"
   },
   {
    "duration": 11,
    "start_time": "2023-05-24T14:16:39.148Z"
   },
   {
    "duration": 54,
    "start_time": "2023-05-24T14:16:39.687Z"
   },
   {
    "duration": 12,
    "start_time": "2023-05-24T14:16:53.019Z"
   },
   {
    "duration": 65,
    "start_time": "2023-05-24T14:16:53.591Z"
   },
   {
    "duration": 9,
    "start_time": "2023-05-24T14:17:37.699Z"
   },
   {
    "duration": 46,
    "start_time": "2023-05-24T14:17:38.470Z"
   },
   {
    "duration": 185,
    "start_time": "2023-05-24T14:18:07.670Z"
   },
   {
    "duration": 234,
    "start_time": "2023-05-24T14:18:19.846Z"
   },
   {
    "duration": 7,
    "start_time": "2023-05-24T14:21:11.890Z"
   },
   {
    "duration": 216,
    "start_time": "2023-05-24T14:21:13.675Z"
   },
   {
    "duration": 176,
    "start_time": "2023-05-24T14:21:17.379Z"
   },
   {
    "duration": 164,
    "start_time": "2023-05-24T14:21:21.371Z"
   },
   {
    "duration": 13,
    "start_time": "2023-05-24T14:21:45.034Z"
   },
   {
    "duration": 155,
    "start_time": "2023-05-24T14:21:45.971Z"
   },
   {
    "duration": 4,
    "start_time": "2023-05-24T14:21:50.482Z"
   },
   {
    "duration": 850,
    "start_time": "2023-05-24T14:21:50.489Z"
   },
   {
    "duration": 11,
    "start_time": "2023-05-24T14:21:51.341Z"
   },
   {
    "duration": 242,
    "start_time": "2023-05-24T14:21:51.354Z"
   },
   {
    "duration": 58,
    "start_time": "2023-05-24T14:21:51.599Z"
   },
   {
    "duration": 42,
    "start_time": "2023-05-24T14:21:51.660Z"
   },
   {
    "duration": 136,
    "start_time": "2023-05-24T14:21:51.704Z"
   },
   {
    "duration": 14,
    "start_time": "2023-05-24T14:21:51.844Z"
   },
   {
    "duration": 94,
    "start_time": "2023-05-24T14:21:51.860Z"
   },
   {
    "duration": 174,
    "start_time": "2023-05-24T14:21:51.956Z"
   },
   {
    "duration": 82,
    "start_time": "2023-05-24T14:21:52.138Z"
   },
   {
    "duration": 12,
    "start_time": "2023-05-24T14:21:52.222Z"
   },
   {
    "duration": 55,
    "start_time": "2023-05-24T14:21:52.236Z"
   },
   {
    "duration": 11,
    "start_time": "2023-05-24T14:21:52.294Z"
   },
   {
    "duration": 65,
    "start_time": "2023-05-24T14:21:52.306Z"
   },
   {
    "duration": 30,
    "start_time": "2023-05-24T14:21:52.373Z"
   },
   {
    "duration": 34,
    "start_time": "2023-05-24T14:21:52.405Z"
   },
   {
    "duration": 282,
    "start_time": "2023-05-24T14:21:52.447Z"
   },
   {
    "duration": 19,
    "start_time": "2023-05-24T14:21:52.735Z"
   },
   {
    "duration": 70,
    "start_time": "2023-05-24T14:21:52.758Z"
   },
   {
    "duration": 55,
    "start_time": "2023-05-24T14:21:52.835Z"
   },
   {
    "duration": 52,
    "start_time": "2023-05-24T14:21:52.892Z"
   },
   {
    "duration": 61,
    "start_time": "2023-05-24T14:21:52.948Z"
   },
   {
    "duration": 24,
    "start_time": "2023-05-24T14:21:53.011Z"
   },
   {
    "duration": 18,
    "start_time": "2023-05-24T14:21:53.037Z"
   },
   {
    "duration": 45,
    "start_time": "2023-05-24T14:21:53.057Z"
   },
   {
    "duration": 9,
    "start_time": "2023-05-24T14:21:53.103Z"
   },
   {
    "duration": 175,
    "start_time": "2023-05-24T14:21:53.114Z"
   },
   {
    "duration": 194,
    "start_time": "2023-05-24T14:21:53.291Z"
   },
   {
    "duration": 188,
    "start_time": "2023-05-24T14:21:53.487Z"
   },
   {
    "duration": 6,
    "start_time": "2023-05-24T14:21:53.677Z"
   },
   {
    "duration": 184,
    "start_time": "2023-05-24T14:21:53.685Z"
   },
   {
    "duration": 3,
    "start_time": "2023-05-24T14:24:21.685Z"
   },
   {
    "duration": 217,
    "start_time": "2023-05-24T14:24:21.690Z"
   },
   {
    "duration": 33,
    "start_time": "2023-05-24T14:24:21.909Z"
   },
   {
    "duration": 3,
    "start_time": "2023-05-24T14:24:21.944Z"
   },
   {
    "duration": 39,
    "start_time": "2023-05-24T14:24:21.950Z"
   },
   {
    "duration": 16,
    "start_time": "2023-05-24T14:24:21.991Z"
   },
   {
    "duration": 148,
    "start_time": "2023-05-24T14:24:22.008Z"
   },
   {
    "duration": 9,
    "start_time": "2023-05-24T14:24:22.158Z"
   },
   {
    "duration": 94,
    "start_time": "2023-05-24T14:24:22.168Z"
   },
   {
    "duration": 112,
    "start_time": "2023-05-24T14:24:22.264Z"
   },
   {
    "duration": 101,
    "start_time": "2023-05-24T14:24:22.378Z"
   },
   {
    "duration": 6,
    "start_time": "2023-05-24T14:24:22.481Z"
   },
   {
    "duration": 64,
    "start_time": "2023-05-24T14:24:22.489Z"
   },
   {
    "duration": 14,
    "start_time": "2023-05-24T14:24:22.557Z"
   },
   {
    "duration": 75,
    "start_time": "2023-05-24T14:24:22.573Z"
   },
   {
    "duration": 20,
    "start_time": "2023-05-24T14:24:22.650Z"
   },
   {
    "duration": 7,
    "start_time": "2023-05-24T14:24:22.672Z"
   },
   {
    "duration": 291,
    "start_time": "2023-05-24T14:24:22.681Z"
   },
   {
    "duration": 15,
    "start_time": "2023-05-24T14:24:22.973Z"
   },
   {
    "duration": 71,
    "start_time": "2023-05-24T14:24:22.990Z"
   },
   {
    "duration": 73,
    "start_time": "2023-05-24T14:24:23.063Z"
   },
   {
    "duration": 38,
    "start_time": "2023-05-24T14:24:23.138Z"
   },
   {
    "duration": 85,
    "start_time": "2023-05-24T14:24:23.179Z"
   },
   {
    "duration": 10,
    "start_time": "2023-05-24T14:24:23.265Z"
   },
   {
    "duration": 18,
    "start_time": "2023-05-24T14:24:23.277Z"
   },
   {
    "duration": 12,
    "start_time": "2023-05-24T14:24:23.297Z"
   },
   {
    "duration": 14,
    "start_time": "2023-05-24T14:24:23.327Z"
   },
   {
    "duration": 168,
    "start_time": "2023-05-24T14:24:23.343Z"
   },
   {
    "duration": 175,
    "start_time": "2023-05-24T14:24:23.513Z"
   },
   {
    "duration": 178,
    "start_time": "2023-05-24T14:24:23.690Z"
   },
   {
    "duration": 7,
    "start_time": "2023-05-24T14:24:23.871Z"
   },
   {
    "duration": 203,
    "start_time": "2023-05-24T14:24:23.881Z"
   },
   {
    "duration": 7,
    "start_time": "2023-05-24T14:24:37.065Z"
   },
   {
    "duration": 156,
    "start_time": "2023-05-24T14:24:37.589Z"
   },
   {
    "duration": 139,
    "start_time": "2023-05-24T14:24:40.579Z"
   },
   {
    "duration": 180,
    "start_time": "2023-05-24T14:24:47.838Z"
   },
   {
    "duration": 7,
    "start_time": "2023-05-24T14:24:53.179Z"
   },
   {
    "duration": 164,
    "start_time": "2023-05-24T14:24:54.001Z"
   },
   {
    "duration": 4,
    "start_time": "2023-05-24T14:25:16.775Z"
   },
   {
    "duration": 204,
    "start_time": "2023-05-24T14:25:16.781Z"
   },
   {
    "duration": 12,
    "start_time": "2023-05-24T14:25:16.987Z"
   },
   {
    "duration": 18,
    "start_time": "2023-05-24T14:25:17.001Z"
   },
   {
    "duration": 35,
    "start_time": "2023-05-24T14:25:17.026Z"
   },
   {
    "duration": 29,
    "start_time": "2023-05-24T14:25:17.063Z"
   },
   {
    "duration": 139,
    "start_time": "2023-05-24T14:25:17.094Z"
   },
   {
    "duration": 14,
    "start_time": "2023-05-24T14:25:17.236Z"
   },
   {
    "duration": 102,
    "start_time": "2023-05-24T14:25:17.254Z"
   },
   {
    "duration": 105,
    "start_time": "2023-05-24T14:25:17.358Z"
   },
   {
    "duration": 91,
    "start_time": "2023-05-24T14:25:17.465Z"
   },
   {
    "duration": 5,
    "start_time": "2023-05-24T14:25:17.558Z"
   },
   {
    "duration": 48,
    "start_time": "2023-05-24T14:25:17.565Z"
   },
   {
    "duration": 26,
    "start_time": "2023-05-24T14:25:17.616Z"
   },
   {
    "duration": 96,
    "start_time": "2023-05-24T14:25:17.644Z"
   },
   {
    "duration": 20,
    "start_time": "2023-05-24T14:25:17.742Z"
   },
   {
    "duration": 40,
    "start_time": "2023-05-24T14:25:17.763Z"
   },
   {
    "duration": 295,
    "start_time": "2023-05-24T14:25:17.804Z"
   },
   {
    "duration": 32,
    "start_time": "2023-05-24T14:25:18.101Z"
   },
   {
    "duration": 112,
    "start_time": "2023-05-24T14:25:18.143Z"
   },
   {
    "duration": 57,
    "start_time": "2023-05-24T14:25:18.258Z"
   },
   {
    "duration": 51,
    "start_time": "2023-05-24T14:25:18.317Z"
   },
   {
    "duration": 87,
    "start_time": "2023-05-24T14:25:18.370Z"
   },
   {
    "duration": 9,
    "start_time": "2023-05-24T14:25:18.458Z"
   },
   {
    "duration": 19,
    "start_time": "2023-05-24T14:25:18.469Z"
   },
   {
    "duration": 29,
    "start_time": "2023-05-24T14:25:18.490Z"
   },
   {
    "duration": 37,
    "start_time": "2023-05-24T14:25:18.520Z"
   },
   {
    "duration": 196,
    "start_time": "2023-05-24T14:25:18.559Z"
   },
   {
    "duration": 164,
    "start_time": "2023-05-24T14:25:18.757Z"
   },
   {
    "duration": 167,
    "start_time": "2023-05-24T14:25:18.925Z"
   },
   {
    "duration": 6,
    "start_time": "2023-05-24T14:25:19.094Z"
   },
   {
    "duration": 185,
    "start_time": "2023-05-24T14:25:19.102Z"
   },
   {
    "duration": 3,
    "start_time": "2023-05-24T14:50:35.646Z"
   },
   {
    "duration": 191,
    "start_time": "2023-05-24T14:50:35.651Z"
   },
   {
    "duration": 11,
    "start_time": "2023-05-24T14:50:35.845Z"
   },
   {
    "duration": 12,
    "start_time": "2023-05-24T14:50:35.858Z"
   },
   {
    "duration": 31,
    "start_time": "2023-05-24T14:50:35.873Z"
   },
   {
    "duration": 35,
    "start_time": "2023-05-24T14:50:35.906Z"
   },
   {
    "duration": 147,
    "start_time": "2023-05-24T14:50:35.943Z"
   },
   {
    "duration": 10,
    "start_time": "2023-05-24T14:50:36.091Z"
   },
   {
    "duration": 93,
    "start_time": "2023-05-24T14:50:36.102Z"
   },
   {
    "duration": 100,
    "start_time": "2023-05-24T14:50:36.196Z"
   },
   {
    "duration": 84,
    "start_time": "2023-05-24T14:50:36.298Z"
   },
   {
    "duration": 6,
    "start_time": "2023-05-24T14:50:36.383Z"
   },
   {
    "duration": 54,
    "start_time": "2023-05-24T14:50:36.391Z"
   },
   {
    "duration": 8,
    "start_time": "2023-05-24T14:50:36.448Z"
   },
   {
    "duration": 41,
    "start_time": "2023-05-24T14:50:36.457Z"
   },
   {
    "duration": 43,
    "start_time": "2023-05-24T14:50:36.500Z"
   },
   {
    "duration": 5,
    "start_time": "2023-05-24T14:50:36.545Z"
   },
   {
    "duration": 238,
    "start_time": "2023-05-24T14:50:36.552Z"
   },
   {
    "duration": 14,
    "start_time": "2023-05-24T14:50:36.791Z"
   },
   {
    "duration": 69,
    "start_time": "2023-05-24T14:50:36.807Z"
   },
   {
    "duration": 53,
    "start_time": "2023-05-24T14:50:36.878Z"
   },
   {
    "duration": 24,
    "start_time": "2023-05-24T14:50:36.941Z"
   },
   {
    "duration": 69,
    "start_time": "2023-05-24T14:50:36.966Z"
   },
   {
    "duration": 12,
    "start_time": "2023-05-24T14:50:37.038Z"
   },
   {
    "duration": 26,
    "start_time": "2023-05-24T14:50:37.051Z"
   },
   {
    "duration": 7,
    "start_time": "2023-05-24T14:50:37.080Z"
   },
   {
    "duration": 11,
    "start_time": "2023-05-24T14:50:37.089Z"
   },
   {
    "duration": 171,
    "start_time": "2023-05-24T14:50:37.102Z"
   },
   {
    "duration": 171,
    "start_time": "2023-05-24T14:50:37.275Z"
   },
   {
    "duration": 153,
    "start_time": "2023-05-24T14:50:37.448Z"
   },
   {
    "duration": 6,
    "start_time": "2023-05-24T14:50:37.603Z"
   },
   {
    "duration": 154,
    "start_time": "2023-05-24T14:50:37.628Z"
   },
   {
    "duration": 4,
    "start_time": "2023-05-24T14:58:10.260Z"
   },
   {
    "duration": 180,
    "start_time": "2023-05-24T14:58:10.266Z"
   },
   {
    "duration": 14,
    "start_time": "2023-05-24T14:58:10.448Z"
   },
   {
    "duration": 4,
    "start_time": "2023-05-24T14:58:10.464Z"
   },
   {
    "duration": 33,
    "start_time": "2023-05-24T14:58:10.471Z"
   },
   {
    "duration": 47,
    "start_time": "2023-05-24T14:58:10.506Z"
   },
   {
    "duration": 139,
    "start_time": "2023-05-24T14:58:10.556Z"
   },
   {
    "duration": 10,
    "start_time": "2023-05-24T14:58:10.698Z"
   },
   {
    "duration": 123,
    "start_time": "2023-05-24T14:58:10.711Z"
   },
   {
    "duration": 117,
    "start_time": "2023-05-24T14:58:10.836Z"
   },
   {
    "duration": 86,
    "start_time": "2023-05-24T14:58:10.954Z"
   },
   {
    "duration": 7,
    "start_time": "2023-05-24T14:58:11.042Z"
   },
   {
    "duration": 36,
    "start_time": "2023-05-24T14:58:11.051Z"
   },
   {
    "duration": 38,
    "start_time": "2023-05-24T14:58:11.091Z"
   },
   {
    "duration": 63,
    "start_time": "2023-05-24T14:58:11.131Z"
   },
   {
    "duration": 35,
    "start_time": "2023-05-24T14:58:11.196Z"
   },
   {
    "duration": 10,
    "start_time": "2023-05-24T14:58:11.233Z"
   },
   {
    "duration": 292,
    "start_time": "2023-05-24T14:58:11.249Z"
   },
   {
    "duration": 16,
    "start_time": "2023-05-24T14:58:11.544Z"
   },
   {
    "duration": 64,
    "start_time": "2023-05-24T14:58:11.562Z"
   },
   {
    "duration": 54,
    "start_time": "2023-05-24T14:58:11.633Z"
   },
   {
    "duration": 61,
    "start_time": "2023-05-24T14:58:11.689Z"
   },
   {
    "duration": 82,
    "start_time": "2023-05-24T14:58:11.752Z"
   },
   {
    "duration": 17,
    "start_time": "2023-05-24T14:58:11.836Z"
   },
   {
    "duration": 25,
    "start_time": "2023-05-24T14:58:11.855Z"
   },
   {
    "duration": 8,
    "start_time": "2023-05-24T14:58:11.883Z"
   },
   {
    "duration": 102,
    "start_time": "2023-05-24T14:58:11.894Z"
   },
   {
    "duration": 155,
    "start_time": "2023-05-24T14:58:11.999Z"
   },
   {
    "duration": 188,
    "start_time": "2023-05-24T14:58:12.157Z"
   },
   {
    "duration": 215,
    "start_time": "2023-05-24T14:58:12.349Z"
   },
   {
    "duration": 12,
    "start_time": "2023-05-24T14:58:12.567Z"
   },
   {
    "duration": 231,
    "start_time": "2023-05-24T14:58:12.583Z"
   },
   {
    "duration": 4,
    "start_time": "2023-05-24T14:58:40.205Z"
   },
   {
    "duration": 187,
    "start_time": "2023-05-24T14:58:40.212Z"
   },
   {
    "duration": 13,
    "start_time": "2023-05-24T14:58:40.402Z"
   },
   {
    "duration": 7,
    "start_time": "2023-05-24T14:58:40.428Z"
   },
   {
    "duration": 42,
    "start_time": "2023-05-24T14:58:40.441Z"
   },
   {
    "duration": 40,
    "start_time": "2023-05-24T14:58:40.486Z"
   },
   {
    "duration": 161,
    "start_time": "2023-05-24T14:58:40.533Z"
   },
   {
    "duration": 11,
    "start_time": "2023-05-24T14:58:40.696Z"
   },
   {
    "duration": 131,
    "start_time": "2023-05-24T14:58:40.708Z"
   },
   {
    "duration": 143,
    "start_time": "2023-05-24T14:58:40.841Z"
   },
   {
    "duration": 115,
    "start_time": "2023-05-24T14:58:40.986Z"
   },
   {
    "duration": 8,
    "start_time": "2023-05-24T14:58:41.103Z"
   },
   {
    "duration": 56,
    "start_time": "2023-05-24T14:58:41.113Z"
   },
   {
    "duration": 16,
    "start_time": "2023-05-24T14:58:41.172Z"
   },
   {
    "duration": 67,
    "start_time": "2023-05-24T14:58:41.190Z"
   },
   {
    "duration": 22,
    "start_time": "2023-05-24T14:58:41.259Z"
   },
   {
    "duration": 7,
    "start_time": "2023-05-24T14:58:41.283Z"
   },
   {
    "duration": 286,
    "start_time": "2023-05-24T14:58:41.293Z"
   },
   {
    "duration": 16,
    "start_time": "2023-05-24T14:58:41.582Z"
   },
   {
    "duration": 71,
    "start_time": "2023-05-24T14:58:41.600Z"
   },
   {
    "duration": 58,
    "start_time": "2023-05-24T14:58:41.672Z"
   },
   {
    "duration": 35,
    "start_time": "2023-05-24T14:58:41.736Z"
   },
   {
    "duration": 91,
    "start_time": "2023-05-24T14:58:41.773Z"
   },
   {
    "duration": 13,
    "start_time": "2023-05-24T14:58:41.866Z"
   },
   {
    "duration": 18,
    "start_time": "2023-05-24T14:58:41.881Z"
   },
   {
    "duration": 34,
    "start_time": "2023-05-24T14:58:41.901Z"
   },
   {
    "duration": 11,
    "start_time": "2023-05-24T14:58:41.937Z"
   },
   {
    "duration": 183,
    "start_time": "2023-05-24T14:58:41.952Z"
   },
   {
    "duration": 157,
    "start_time": "2023-05-24T14:58:42.144Z"
   },
   {
    "duration": 185,
    "start_time": "2023-05-24T14:58:42.303Z"
   },
   {
    "duration": 8,
    "start_time": "2023-05-24T14:58:42.490Z"
   },
   {
    "duration": 244,
    "start_time": "2023-05-24T14:58:42.500Z"
   },
   {
    "duration": 1263,
    "start_time": "2023-05-24T15:06:40.955Z"
   },
   {
    "duration": 159,
    "start_time": "2023-05-24T15:06:42.221Z"
   },
   {
    "duration": 16,
    "start_time": "2023-05-24T15:06:42.382Z"
   },
   {
    "duration": 5,
    "start_time": "2023-05-24T15:06:42.400Z"
   },
   {
    "duration": 27,
    "start_time": "2023-05-24T15:06:42.409Z"
   },
   {
    "duration": 18,
    "start_time": "2023-05-24T15:06:42.456Z"
   },
   {
    "duration": 128,
    "start_time": "2023-05-24T15:06:42.476Z"
   },
   {
    "duration": 10,
    "start_time": "2023-05-24T15:06:42.606Z"
   },
   {
    "duration": 105,
    "start_time": "2023-05-24T15:06:42.617Z"
   },
   {
    "duration": 110,
    "start_time": "2023-05-24T15:06:42.723Z"
   },
   {
    "duration": 86,
    "start_time": "2023-05-24T15:06:42.835Z"
   },
   {
    "duration": 5,
    "start_time": "2023-05-24T15:06:42.922Z"
   },
   {
    "duration": 55,
    "start_time": "2023-05-24T15:06:42.928Z"
   },
   {
    "duration": 12,
    "start_time": "2023-05-24T15:06:42.988Z"
   },
   {
    "duration": 40,
    "start_time": "2023-05-24T15:06:43.002Z"
   },
   {
    "duration": 21,
    "start_time": "2023-05-24T15:06:43.060Z"
   },
   {
    "duration": 7,
    "start_time": "2023-05-24T15:06:43.082Z"
   },
   {
    "duration": 330,
    "start_time": "2023-05-24T15:06:43.091Z"
   },
   {
    "duration": 16,
    "start_time": "2023-05-24T15:06:43.423Z"
   },
   {
    "duration": 68,
    "start_time": "2023-05-24T15:06:43.440Z"
   },
   {
    "duration": 61,
    "start_time": "2023-05-24T15:06:43.509Z"
   },
   {
    "duration": 27,
    "start_time": "2023-05-24T15:06:43.572Z"
   },
   {
    "duration": 73,
    "start_time": "2023-05-24T15:06:43.601Z"
   },
   {
    "duration": 9,
    "start_time": "2023-05-24T15:06:43.675Z"
   },
   {
    "duration": 27,
    "start_time": "2023-05-24T15:06:43.686Z"
   },
   {
    "duration": 21,
    "start_time": "2023-05-24T15:06:43.714Z"
   },
   {
    "duration": 7,
    "start_time": "2023-05-24T15:06:43.737Z"
   },
   {
    "duration": 166,
    "start_time": "2023-05-24T15:06:43.745Z"
   },
   {
    "duration": 176,
    "start_time": "2023-05-24T15:06:43.913Z"
   },
   {
    "duration": 175,
    "start_time": "2023-05-24T15:06:44.091Z"
   },
   {
    "duration": 8,
    "start_time": "2023-05-24T15:06:44.267Z"
   },
   {
    "duration": 192,
    "start_time": "2023-05-24T15:06:44.278Z"
   },
   {
    "duration": 56,
    "start_time": "2023-05-24T19:07:50.173Z"
   },
   {
    "duration": 1276,
    "start_time": "2023-05-24T19:07:53.707Z"
   },
   {
    "duration": 467,
    "start_time": "2023-05-24T19:07:54.985Z"
   },
   {
    "duration": 14,
    "start_time": "2023-05-24T19:07:55.453Z"
   },
   {
    "duration": 28,
    "start_time": "2023-05-24T19:07:55.469Z"
   },
   {
    "duration": 23,
    "start_time": "2023-05-24T19:07:55.499Z"
   },
   {
    "duration": 12,
    "start_time": "2023-05-24T19:07:55.524Z"
   },
   {
    "duration": 106,
    "start_time": "2023-05-24T19:07:55.538Z"
   },
   {
    "duration": 8,
    "start_time": "2023-05-24T19:07:55.646Z"
   },
   {
    "duration": 88,
    "start_time": "2023-05-24T19:07:55.656Z"
   },
   {
    "duration": 89,
    "start_time": "2023-05-24T19:07:55.745Z"
   },
   {
    "duration": 70,
    "start_time": "2023-05-24T19:07:55.835Z"
   },
   {
    "duration": 5,
    "start_time": "2023-05-24T19:07:55.917Z"
   },
   {
    "duration": 58,
    "start_time": "2023-05-24T19:07:55.923Z"
   },
   {
    "duration": 16,
    "start_time": "2023-05-24T19:07:55.983Z"
   },
   {
    "duration": 85,
    "start_time": "2023-05-24T19:07:56.000Z"
   },
   {
    "duration": 16,
    "start_time": "2023-05-24T19:07:56.086Z"
   },
   {
    "duration": 13,
    "start_time": "2023-05-24T19:07:56.103Z"
   },
   {
    "duration": 301,
    "start_time": "2023-05-24T19:07:56.117Z"
   },
   {
    "duration": 13,
    "start_time": "2023-05-24T19:07:56.419Z"
   },
   {
    "duration": 48,
    "start_time": "2023-05-24T19:07:56.434Z"
   },
   {
    "duration": 82,
    "start_time": "2023-05-24T19:07:56.483Z"
   },
   {
    "duration": 7,
    "start_time": "2023-05-24T19:07:59.552Z"
   },
   {
    "duration": 48,
    "start_time": "2023-05-24T19:08:16.176Z"
   },
   {
    "duration": 52,
    "start_time": "2023-05-24T19:08:20.897Z"
   },
   {
    "duration": 8,
    "start_time": "2023-05-24T19:08:43.284Z"
   },
   {
    "duration": 75,
    "start_time": "2023-05-24T19:10:35.555Z"
   },
   {
    "duration": 79,
    "start_time": "2023-05-24T19:10:41.458Z"
   },
   {
    "duration": 4,
    "start_time": "2023-05-24T19:12:16.888Z"
   },
   {
    "duration": 141,
    "start_time": "2023-05-24T19:12:16.894Z"
   },
   {
    "duration": 9,
    "start_time": "2023-05-24T19:12:17.037Z"
   },
   {
    "duration": 13,
    "start_time": "2023-05-24T19:12:17.048Z"
   },
   {
    "duration": 23,
    "start_time": "2023-05-24T19:12:17.063Z"
   },
   {
    "duration": 17,
    "start_time": "2023-05-24T19:12:17.088Z"
   },
   {
    "duration": 101,
    "start_time": "2023-05-24T19:12:17.117Z"
   },
   {
    "duration": 10,
    "start_time": "2023-05-24T19:12:17.221Z"
   },
   {
    "duration": 77,
    "start_time": "2023-05-24T19:12:17.233Z"
   },
   {
    "duration": 67,
    "start_time": "2023-05-24T19:12:17.317Z"
   },
   {
    "duration": 83,
    "start_time": "2023-05-24T19:12:17.386Z"
   },
   {
    "duration": 7,
    "start_time": "2023-05-24T19:12:17.471Z"
   },
   {
    "duration": 66,
    "start_time": "2023-05-24T19:12:17.480Z"
   },
   {
    "duration": 9,
    "start_time": "2023-05-24T19:12:17.548Z"
   },
   {
    "duration": 63,
    "start_time": "2023-05-24T19:12:17.559Z"
   },
   {
    "duration": 19,
    "start_time": "2023-05-24T19:12:17.624Z"
   },
   {
    "duration": 11,
    "start_time": "2023-05-24T19:12:17.645Z"
   },
   {
    "duration": 238,
    "start_time": "2023-05-24T19:12:17.658Z"
   },
   {
    "duration": 13,
    "start_time": "2023-05-24T19:12:21.084Z"
   },
   {
    "duration": 4,
    "start_time": "2023-05-24T19:12:27.370Z"
   },
   {
    "duration": 165,
    "start_time": "2023-05-24T19:12:27.376Z"
   },
   {
    "duration": 10,
    "start_time": "2023-05-24T19:12:27.542Z"
   },
   {
    "duration": 4,
    "start_time": "2023-05-24T19:12:27.554Z"
   },
   {
    "duration": 19,
    "start_time": "2023-05-24T19:12:27.560Z"
   },
   {
    "duration": 38,
    "start_time": "2023-05-24T19:12:27.581Z"
   },
   {
    "duration": 110,
    "start_time": "2023-05-24T19:12:27.621Z"
   },
   {
    "duration": 9,
    "start_time": "2023-05-24T19:12:27.733Z"
   },
   {
    "duration": 76,
    "start_time": "2023-05-24T19:12:27.744Z"
   },
   {
    "duration": 79,
    "start_time": "2023-05-24T19:12:27.821Z"
   },
   {
    "duration": 76,
    "start_time": "2023-05-24T19:12:27.902Z"
   },
   {
    "duration": 5,
    "start_time": "2023-05-24T19:12:27.979Z"
   },
   {
    "duration": 46,
    "start_time": "2023-05-24T19:12:27.986Z"
   },
   {
    "duration": 9,
    "start_time": "2023-05-24T19:12:28.034Z"
   },
   {
    "duration": 41,
    "start_time": "2023-05-24T19:12:28.044Z"
   },
   {
    "duration": 46,
    "start_time": "2023-05-24T19:12:28.086Z"
   },
   {
    "duration": 6,
    "start_time": "2023-05-24T19:12:28.134Z"
   },
   {
    "duration": 216,
    "start_time": "2023-05-24T19:12:28.142Z"
   },
   {
    "duration": 3,
    "start_time": "2023-05-24T19:12:30.252Z"
   },
   {
    "duration": 12,
    "start_time": "2023-05-24T19:12:32.482Z"
   },
   {
    "duration": 62,
    "start_time": "2023-05-24T19:12:36.025Z"
   },
   {
    "duration": 13,
    "start_time": "2023-05-24T19:12:41.975Z"
   },
   {
    "duration": 65,
    "start_time": "2023-05-24T19:13:08.690Z"
   },
   {
    "duration": 96,
    "start_time": "2023-05-24T19:13:13.670Z"
   },
   {
    "duration": 39,
    "start_time": "2023-05-24T19:15:09.368Z"
   },
   {
    "duration": 44,
    "start_time": "2023-05-24T19:15:47.014Z"
   },
   {
    "duration": 3,
    "start_time": "2023-05-24T19:16:24.545Z"
   },
   {
    "duration": 190,
    "start_time": "2023-05-24T19:16:24.550Z"
   },
   {
    "duration": 12,
    "start_time": "2023-05-24T19:16:24.742Z"
   },
   {
    "duration": 11,
    "start_time": "2023-05-24T19:16:24.756Z"
   },
   {
    "duration": 38,
    "start_time": "2023-05-24T19:16:24.769Z"
   },
   {
    "duration": 18,
    "start_time": "2023-05-24T19:16:24.818Z"
   },
   {
    "duration": 112,
    "start_time": "2023-05-24T19:16:24.837Z"
   },
   {
    "duration": 9,
    "start_time": "2023-05-24T19:16:24.950Z"
   },
   {
    "duration": 82,
    "start_time": "2023-05-24T19:16:24.960Z"
   },
   {
    "duration": 88,
    "start_time": "2023-05-24T19:16:25.043Z"
   },
   {
    "duration": 66,
    "start_time": "2023-05-24T19:16:25.133Z"
   },
   {
    "duration": 4,
    "start_time": "2023-05-24T19:16:25.201Z"
   },
   {
    "duration": 31,
    "start_time": "2023-05-24T19:16:25.217Z"
   },
   {
    "duration": 8,
    "start_time": "2023-05-24T19:16:25.251Z"
   },
   {
    "duration": 60,
    "start_time": "2023-05-24T19:16:25.262Z"
   },
   {
    "duration": 14,
    "start_time": "2023-05-24T19:16:25.324Z"
   },
   {
    "duration": 5,
    "start_time": "2023-05-24T19:16:25.340Z"
   },
   {
    "duration": 202,
    "start_time": "2023-05-24T19:16:25.346Z"
   },
   {
    "duration": 2,
    "start_time": "2023-05-24T19:16:25.550Z"
   },
   {
    "duration": 15,
    "start_time": "2023-05-24T19:16:25.554Z"
   },
   {
    "duration": 62,
    "start_time": "2023-05-24T19:16:25.570Z"
   },
   {
    "duration": 47,
    "start_time": "2023-05-24T19:16:27.998Z"
   },
   {
    "duration": 34,
    "start_time": "2023-05-24T19:16:32.061Z"
   },
   {
    "duration": 43,
    "start_time": "2023-05-24T19:16:39.499Z"
   },
   {
    "duration": 44,
    "start_time": "2023-05-24T19:17:36.214Z"
   },
   {
    "duration": 3,
    "start_time": "2023-05-24T19:17:54.500Z"
   },
   {
    "duration": 139,
    "start_time": "2023-05-24T19:17:54.506Z"
   },
   {
    "duration": 11,
    "start_time": "2023-05-24T19:17:54.647Z"
   },
   {
    "duration": 7,
    "start_time": "2023-05-24T19:17:54.660Z"
   },
   {
    "duration": 24,
    "start_time": "2023-05-24T19:17:54.670Z"
   },
   {
    "duration": 24,
    "start_time": "2023-05-24T19:17:54.696Z"
   },
   {
    "duration": 130,
    "start_time": "2023-05-24T19:17:54.721Z"
   },
   {
    "duration": 15,
    "start_time": "2023-05-24T19:17:54.852Z"
   },
   {
    "duration": 92,
    "start_time": "2023-05-24T19:17:54.869Z"
   },
   {
    "duration": 101,
    "start_time": "2023-05-24T19:17:54.962Z"
   },
   {
    "duration": 81,
    "start_time": "2023-05-24T19:17:55.065Z"
   },
   {
    "duration": 6,
    "start_time": "2023-05-24T19:17:55.149Z"
   },
   {
    "duration": 41,
    "start_time": "2023-05-24T19:17:55.158Z"
   },
   {
    "duration": 18,
    "start_time": "2023-05-24T19:17:55.202Z"
   },
   {
    "duration": 41,
    "start_time": "2023-05-24T19:17:55.222Z"
   },
   {
    "duration": 15,
    "start_time": "2023-05-24T19:17:55.265Z"
   },
   {
    "duration": 7,
    "start_time": "2023-05-24T19:17:55.282Z"
   },
   {
    "duration": 221,
    "start_time": "2023-05-24T19:17:55.291Z"
   },
   {
    "duration": 5,
    "start_time": "2023-05-24T19:17:55.513Z"
   },
   {
    "duration": 15,
    "start_time": "2023-05-24T19:17:55.519Z"
   },
   {
    "duration": 43,
    "start_time": "2023-05-24T19:17:55.536Z"
   },
   {
    "duration": 46,
    "start_time": "2023-05-24T19:17:58.155Z"
   },
   {
    "duration": 3,
    "start_time": "2023-05-24T19:19:04.777Z"
   },
   {
    "duration": 161,
    "start_time": "2023-05-24T19:19:04.782Z"
   },
   {
    "duration": 12,
    "start_time": "2023-05-24T19:19:04.945Z"
   },
   {
    "duration": 7,
    "start_time": "2023-05-24T19:19:04.958Z"
   },
   {
    "duration": 22,
    "start_time": "2023-05-24T19:19:04.969Z"
   },
   {
    "duration": 34,
    "start_time": "2023-05-24T19:19:04.993Z"
   },
   {
    "duration": 127,
    "start_time": "2023-05-24T19:19:05.029Z"
   },
   {
    "duration": 12,
    "start_time": "2023-05-24T19:19:05.157Z"
   },
   {
    "duration": 94,
    "start_time": "2023-05-24T19:19:05.171Z"
   },
   {
    "duration": 93,
    "start_time": "2023-05-24T19:19:05.267Z"
   },
   {
    "duration": 95,
    "start_time": "2023-05-24T19:19:05.362Z"
   },
   {
    "duration": 5,
    "start_time": "2023-05-24T19:19:05.459Z"
   },
   {
    "duration": 30,
    "start_time": "2023-05-24T19:19:05.466Z"
   },
   {
    "duration": 9,
    "start_time": "2023-05-24T19:19:05.520Z"
   },
   {
    "duration": 50,
    "start_time": "2023-05-24T19:19:05.531Z"
   },
   {
    "duration": 16,
    "start_time": "2023-05-24T19:19:05.583Z"
   },
   {
    "duration": 23,
    "start_time": "2023-05-24T19:19:05.601Z"
   },
   {
    "duration": 214,
    "start_time": "2023-05-24T19:19:05.626Z"
   },
   {
    "duration": 13,
    "start_time": "2023-05-24T19:19:05.842Z"
   },
   {
    "duration": 45,
    "start_time": "2023-05-24T19:19:05.857Z"
   },
   {
    "duration": 35,
    "start_time": "2023-05-24T19:19:05.918Z"
   },
   {
    "duration": 38,
    "start_time": "2023-05-24T19:19:05.956Z"
   },
   {
    "duration": 105,
    "start_time": "2023-05-24T19:19:05.996Z"
   },
   {
    "duration": 21,
    "start_time": "2023-05-24T19:19:06.103Z"
   },
   {
    "duration": 25,
    "start_time": "2023-05-24T19:19:06.125Z"
   },
   {
    "duration": 12,
    "start_time": "2023-05-24T19:19:06.152Z"
   },
   {
    "duration": 7,
    "start_time": "2023-05-24T19:19:06.165Z"
   },
   {
    "duration": 146,
    "start_time": "2023-05-24T19:19:06.174Z"
   },
   {
    "duration": 149,
    "start_time": "2023-05-24T19:19:06.322Z"
   },
   {
    "duration": 148,
    "start_time": "2023-05-24T19:19:06.473Z"
   },
   {
    "duration": 6,
    "start_time": "2023-05-24T19:19:06.623Z"
   },
   {
    "duration": 165,
    "start_time": "2023-05-24T19:19:06.631Z"
   },
   {
    "duration": 3,
    "start_time": "2023-05-24T19:20:33.439Z"
   },
   {
    "duration": 196,
    "start_time": "2023-05-24T19:20:33.444Z"
   },
   {
    "duration": 10,
    "start_time": "2023-05-24T19:20:33.642Z"
   },
   {
    "duration": 27,
    "start_time": "2023-05-24T19:20:33.653Z"
   },
   {
    "duration": 30,
    "start_time": "2023-05-24T19:20:33.682Z"
   },
   {
    "duration": 31,
    "start_time": "2023-05-24T19:20:33.714Z"
   },
   {
    "duration": 107,
    "start_time": "2023-05-24T19:20:33.747Z"
   },
   {
    "duration": 9,
    "start_time": "2023-05-24T19:20:33.856Z"
   },
   {
    "duration": 82,
    "start_time": "2023-05-24T19:20:33.866Z"
   },
   {
    "duration": 90,
    "start_time": "2023-05-24T19:20:33.949Z"
   },
   {
    "duration": 77,
    "start_time": "2023-05-24T19:20:34.041Z"
   },
   {
    "duration": 8,
    "start_time": "2023-05-24T19:20:34.120Z"
   },
   {
    "duration": 60,
    "start_time": "2023-05-24T19:20:34.129Z"
   },
   {
    "duration": 21,
    "start_time": "2023-05-24T19:20:34.193Z"
   },
   {
    "duration": 69,
    "start_time": "2023-05-24T19:20:34.216Z"
   },
   {
    "duration": 22,
    "start_time": "2023-05-24T19:20:34.287Z"
   },
   {
    "duration": 48,
    "start_time": "2023-05-24T19:20:34.311Z"
   },
   {
    "duration": 279,
    "start_time": "2023-05-24T19:20:34.361Z"
   },
   {
    "duration": 14,
    "start_time": "2023-05-24T19:20:34.642Z"
   },
   {
    "duration": 49,
    "start_time": "2023-05-24T19:20:36.308Z"
   },
   {
    "duration": 3,
    "start_time": "2023-05-24T19:21:17.054Z"
   },
   {
    "duration": 155,
    "start_time": "2023-05-24T19:21:17.060Z"
   },
   {
    "duration": 10,
    "start_time": "2023-05-24T19:21:17.216Z"
   },
   {
    "duration": 5,
    "start_time": "2023-05-24T19:21:17.228Z"
   },
   {
    "duration": 35,
    "start_time": "2023-05-24T19:21:17.235Z"
   },
   {
    "duration": 13,
    "start_time": "2023-05-24T19:21:17.272Z"
   },
   {
    "duration": 124,
    "start_time": "2023-05-24T19:21:17.287Z"
   },
   {
    "duration": 11,
    "start_time": "2023-05-24T19:21:17.413Z"
   },
   {
    "duration": 103,
    "start_time": "2023-05-24T19:21:17.426Z"
   },
   {
    "duration": 92,
    "start_time": "2023-05-24T19:21:17.531Z"
   },
   {
    "duration": 67,
    "start_time": "2023-05-24T19:21:17.625Z"
   },
   {
    "duration": 6,
    "start_time": "2023-05-24T19:21:17.694Z"
   },
   {
    "duration": 30,
    "start_time": "2023-05-24T19:21:17.718Z"
   },
   {
    "duration": 9,
    "start_time": "2023-05-24T19:21:17.752Z"
   },
   {
    "duration": 66,
    "start_time": "2023-05-24T19:21:17.763Z"
   },
   {
    "duration": 16,
    "start_time": "2023-05-24T19:21:17.831Z"
   },
   {
    "duration": 6,
    "start_time": "2023-05-24T19:21:17.849Z"
   },
   {
    "duration": 223,
    "start_time": "2023-05-24T19:21:17.857Z"
   },
   {
    "duration": 3,
    "start_time": "2023-05-24T19:21:22.076Z"
   },
   {
    "duration": 14,
    "start_time": "2023-05-24T19:21:24.616Z"
   },
   {
    "duration": 50,
    "start_time": "2023-05-24T19:21:26.154Z"
   },
   {
    "duration": 21,
    "start_time": "2023-05-24T19:21:51.261Z"
   },
   {
    "duration": 12,
    "start_time": "2023-05-24T19:23:36.124Z"
   },
   {
    "duration": 40,
    "start_time": "2023-05-24T19:24:37.091Z"
   },
   {
    "duration": 10,
    "start_time": "2023-05-24T19:24:43.182Z"
   },
   {
    "duration": 15,
    "start_time": "2023-05-24T19:25:40.548Z"
   },
   {
    "duration": 20,
    "start_time": "2023-05-24T19:25:56.900Z"
   },
   {
    "duration": 21,
    "start_time": "2023-05-24T19:26:02.755Z"
   },
   {
    "duration": 20,
    "start_time": "2023-05-24T19:26:21.346Z"
   },
   {
    "duration": 15,
    "start_time": "2023-05-24T19:28:00.608Z"
   },
   {
    "duration": 30,
    "start_time": "2023-05-24T19:28:19.158Z"
   },
   {
    "duration": 21,
    "start_time": "2023-05-24T19:28:30.958Z"
   },
   {
    "duration": 9,
    "start_time": "2023-05-24T19:29:21.347Z"
   },
   {
    "duration": 14,
    "start_time": "2023-05-24T19:30:28.176Z"
   },
   {
    "duration": 9,
    "start_time": "2023-05-24T19:31:02.953Z"
   },
   {
    "duration": 11,
    "start_time": "2023-05-24T19:32:01.288Z"
   },
   {
    "duration": 14,
    "start_time": "2023-05-24T19:32:41.211Z"
   },
   {
    "duration": 10,
    "start_time": "2023-05-24T19:32:42.685Z"
   },
   {
    "duration": 11,
    "start_time": "2023-05-24T19:34:21.475Z"
   },
   {
    "duration": 3,
    "start_time": "2023-05-24T19:37:36.270Z"
   },
   {
    "duration": 144,
    "start_time": "2023-05-24T19:37:36.276Z"
   },
   {
    "duration": 10,
    "start_time": "2023-05-24T19:37:36.421Z"
   },
   {
    "duration": 4,
    "start_time": "2023-05-24T19:37:36.432Z"
   },
   {
    "duration": 24,
    "start_time": "2023-05-24T19:37:36.438Z"
   },
   {
    "duration": 23,
    "start_time": "2023-05-24T19:37:36.463Z"
   },
   {
    "duration": 172,
    "start_time": "2023-05-24T19:37:36.488Z"
   },
   {
    "duration": 9,
    "start_time": "2023-05-24T19:37:36.662Z"
   },
   {
    "duration": 83,
    "start_time": "2023-05-24T19:37:36.672Z"
   },
   {
    "duration": 93,
    "start_time": "2023-05-24T19:37:36.757Z"
   },
   {
    "duration": 72,
    "start_time": "2023-05-24T19:37:36.852Z"
   },
   {
    "duration": 6,
    "start_time": "2023-05-24T19:37:36.926Z"
   },
   {
    "duration": 31,
    "start_time": "2023-05-24T19:37:36.933Z"
   },
   {
    "duration": 9,
    "start_time": "2023-05-24T19:37:36.968Z"
   },
   {
    "duration": 67,
    "start_time": "2023-05-24T19:37:36.979Z"
   },
   {
    "duration": 16,
    "start_time": "2023-05-24T19:37:37.048Z"
   },
   {
    "duration": 4,
    "start_time": "2023-05-24T19:37:37.066Z"
   },
   {
    "duration": 213,
    "start_time": "2023-05-24T19:37:37.072Z"
   },
   {
    "duration": 3,
    "start_time": "2023-05-24T19:37:37.286Z"
   },
   {
    "duration": 28,
    "start_time": "2023-05-24T19:37:37.290Z"
   },
   {
    "duration": 39,
    "start_time": "2023-05-24T19:37:37.319Z"
   },
   {
    "duration": 17,
    "start_time": "2023-05-24T19:37:37.359Z"
   },
   {
    "duration": 40,
    "start_time": "2023-05-24T19:37:37.378Z"
   },
   {
    "duration": 34,
    "start_time": "2023-05-24T19:37:37.419Z"
   },
   {
    "duration": 25,
    "start_time": "2023-05-24T19:37:37.454Z"
   },
   {
    "duration": 78,
    "start_time": "2023-05-24T19:37:37.480Z"
   },
   {
    "duration": 8,
    "start_time": "2023-05-24T19:37:37.560Z"
   },
   {
    "duration": 9,
    "start_time": "2023-05-24T19:37:37.570Z"
   },
   {
    "duration": 36,
    "start_time": "2023-05-24T19:37:37.581Z"
   },
   {
    "duration": 7,
    "start_time": "2023-05-24T19:37:37.619Z"
   },
   {
    "duration": 141,
    "start_time": "2023-05-24T19:37:37.627Z"
   },
   {
    "duration": 148,
    "start_time": "2023-05-24T19:37:37.770Z"
   },
   {
    "duration": 138,
    "start_time": "2023-05-24T19:37:37.920Z"
   },
   {
    "duration": 6,
    "start_time": "2023-05-24T19:37:38.060Z"
   },
   {
    "duration": 191,
    "start_time": "2023-05-24T19:37:38.068Z"
   },
   {
    "duration": 84,
    "start_time": "2023-05-24T19:43:09.366Z"
   },
   {
    "duration": 32,
    "start_time": "2023-05-24T19:43:51.174Z"
   },
   {
    "duration": 9,
    "start_time": "2023-05-24T19:44:06.654Z"
   },
   {
    "duration": 403,
    "start_time": "2023-05-24T19:44:13.613Z"
   },
   {
    "duration": 96,
    "start_time": "2023-05-24T19:45:41.363Z"
   },
   {
    "duration": 132,
    "start_time": "2023-05-24T19:48:25.964Z"
   },
   {
    "duration": 42,
    "start_time": "2023-05-24T19:48:48.876Z"
   },
   {
    "duration": 40,
    "start_time": "2023-05-24T19:52:39.004Z"
   },
   {
    "duration": 19,
    "start_time": "2023-05-24T19:55:00.875Z"
   },
   {
    "duration": 40,
    "start_time": "2023-05-24T19:55:38.624Z"
   },
   {
    "duration": 104,
    "start_time": "2023-05-24T19:57:23.885Z"
   },
   {
    "duration": 41,
    "start_time": "2023-05-24T19:57:38.917Z"
   },
   {
    "duration": 41,
    "start_time": "2023-05-24T19:57:49.400Z"
   },
   {
    "duration": 53,
    "start_time": "2023-05-24T19:59:13.776Z"
   },
   {
    "duration": 49,
    "start_time": "2023-05-24T19:59:26.071Z"
   },
   {
    "duration": 43,
    "start_time": "2023-05-24T19:59:35.696Z"
   },
   {
    "duration": 45,
    "start_time": "2023-05-24T19:59:42.774Z"
   },
   {
    "duration": 3,
    "start_time": "2023-05-24T20:00:41.222Z"
   },
   {
    "duration": 155,
    "start_time": "2023-05-24T20:00:41.227Z"
   },
   {
    "duration": 10,
    "start_time": "2023-05-24T20:00:41.384Z"
   },
   {
    "duration": 10,
    "start_time": "2023-05-24T20:00:41.395Z"
   },
   {
    "duration": 27,
    "start_time": "2023-05-24T20:00:41.407Z"
   },
   {
    "duration": 22,
    "start_time": "2023-05-24T20:00:41.435Z"
   },
   {
    "duration": 110,
    "start_time": "2023-05-24T20:00:41.459Z"
   },
   {
    "duration": 8,
    "start_time": "2023-05-24T20:00:41.570Z"
   },
   {
    "duration": 77,
    "start_time": "2023-05-24T20:00:41.580Z"
   },
   {
    "duration": 81,
    "start_time": "2023-05-24T20:00:41.658Z"
   },
   {
    "duration": 65,
    "start_time": "2023-05-24T20:00:41.741Z"
   },
   {
    "duration": 14,
    "start_time": "2023-05-24T20:00:41.807Z"
   },
   {
    "duration": 42,
    "start_time": "2023-05-24T20:00:41.822Z"
   },
   {
    "duration": 9,
    "start_time": "2023-05-24T20:00:41.867Z"
   },
   {
    "duration": 47,
    "start_time": "2023-05-24T20:00:41.878Z"
   },
   {
    "duration": 15,
    "start_time": "2023-05-24T20:00:41.926Z"
   },
   {
    "duration": 6,
    "start_time": "2023-05-24T20:00:41.942Z"
   },
   {
    "duration": 205,
    "start_time": "2023-05-24T20:00:41.949Z"
   },
   {
    "duration": 3,
    "start_time": "2023-05-24T20:00:42.156Z"
   },
   {
    "duration": 14,
    "start_time": "2023-05-24T20:00:42.160Z"
   },
   {
    "duration": 46,
    "start_time": "2023-05-24T20:00:42.175Z"
   },
   {
    "duration": 15,
    "start_time": "2023-05-24T20:00:42.223Z"
   },
   {
    "duration": 10,
    "start_time": "2023-05-24T20:00:42.239Z"
   },
   {
    "duration": 41,
    "start_time": "2023-05-24T20:00:42.250Z"
   },
   {
    "duration": 36,
    "start_time": "2023-05-24T20:00:42.292Z"
   },
   {
    "duration": 54,
    "start_time": "2023-05-24T20:00:42.330Z"
   },
   {
    "duration": 8,
    "start_time": "2023-05-24T20:00:42.385Z"
   },
   {
    "duration": 26,
    "start_time": "2023-05-24T20:00:42.395Z"
   },
   {
    "duration": 47,
    "start_time": "2023-05-24T20:00:42.423Z"
   },
   {
    "duration": 5,
    "start_time": "2023-05-24T20:00:42.472Z"
   },
   {
    "duration": 8,
    "start_time": "2023-05-24T20:00:42.479Z"
   },
   {
    "duration": 149,
    "start_time": "2023-05-24T20:00:42.488Z"
   },
   {
    "duration": 129,
    "start_time": "2023-05-24T20:00:42.639Z"
   },
   {
    "duration": 126,
    "start_time": "2023-05-24T20:00:42.769Z"
   },
   {
    "duration": 6,
    "start_time": "2023-05-24T20:00:42.896Z"
   },
   {
    "duration": 158,
    "start_time": "2023-05-24T20:00:42.904Z"
   },
   {
    "duration": 6,
    "start_time": "2023-05-24T20:24:16.680Z"
   },
   {
    "duration": 131,
    "start_time": "2023-05-24T20:24:17.381Z"
   },
   {
    "duration": 7,
    "start_time": "2023-05-24T20:25:00.844Z"
   },
   {
    "duration": 137,
    "start_time": "2023-05-24T20:25:01.555Z"
   },
   {
    "duration": 144,
    "start_time": "2023-05-24T20:25:22.014Z"
   },
   {
    "duration": 130,
    "start_time": "2023-05-24T20:25:25.515Z"
   },
   {
    "duration": 7,
    "start_time": "2023-05-24T20:25:48.618Z"
   },
   {
    "duration": 141,
    "start_time": "2023-05-24T20:25:50.288Z"
   },
   {
    "duration": 4,
    "start_time": "2023-05-24T20:27:28.675Z"
   },
   {
    "duration": 149,
    "start_time": "2023-05-24T20:27:28.681Z"
   },
   {
    "duration": 9,
    "start_time": "2023-05-24T20:27:28.832Z"
   },
   {
    "duration": 14,
    "start_time": "2023-05-24T20:27:28.843Z"
   },
   {
    "duration": 39,
    "start_time": "2023-05-24T20:27:28.859Z"
   },
   {
    "duration": 14,
    "start_time": "2023-05-24T20:27:28.900Z"
   },
   {
    "duration": 101,
    "start_time": "2023-05-24T20:27:28.916Z"
   },
   {
    "duration": 9,
    "start_time": "2023-05-24T20:27:29.018Z"
   },
   {
    "duration": 89,
    "start_time": "2023-05-24T20:27:29.029Z"
   },
   {
    "duration": 81,
    "start_time": "2023-05-24T20:27:29.120Z"
   },
   {
    "duration": 81,
    "start_time": "2023-05-24T20:27:29.203Z"
   },
   {
    "duration": 5,
    "start_time": "2023-05-24T20:27:29.286Z"
   },
   {
    "duration": 43,
    "start_time": "2023-05-24T20:27:29.293Z"
   },
   {
    "duration": 8,
    "start_time": "2023-05-24T20:27:29.339Z"
   },
   {
    "duration": 38,
    "start_time": "2023-05-24T20:27:29.349Z"
   },
   {
    "duration": 37,
    "start_time": "2023-05-24T20:27:29.389Z"
   },
   {
    "duration": 6,
    "start_time": "2023-05-24T20:27:29.427Z"
   },
   {
    "duration": 210,
    "start_time": "2023-05-24T20:27:29.434Z"
   },
   {
    "duration": 2,
    "start_time": "2023-05-24T20:27:29.646Z"
   },
   {
    "duration": 16,
    "start_time": "2023-05-24T20:27:29.650Z"
   },
   {
    "duration": 51,
    "start_time": "2023-05-24T20:27:29.667Z"
   },
   {
    "duration": 17,
    "start_time": "2023-05-24T20:27:29.720Z"
   },
   {
    "duration": 11,
    "start_time": "2023-05-24T20:27:29.739Z"
   },
   {
    "duration": 35,
    "start_time": "2023-05-24T20:27:29.751Z"
   },
   {
    "duration": 51,
    "start_time": "2023-05-24T20:27:29.787Z"
   },
   {
    "duration": 56,
    "start_time": "2023-05-24T20:27:29.840Z"
   },
   {
    "duration": 26,
    "start_time": "2023-05-24T20:27:29.898Z"
   },
   {
    "duration": 13,
    "start_time": "2023-05-24T20:27:29.926Z"
   },
   {
    "duration": 45,
    "start_time": "2023-05-24T20:27:29.940Z"
   },
   {
    "duration": 6,
    "start_time": "2023-05-24T20:27:29.987Z"
   },
   {
    "duration": 26,
    "start_time": "2023-05-24T20:27:29.995Z"
   },
   {
    "duration": 212,
    "start_time": "2023-05-24T20:27:30.023Z"
   },
   {
    "duration": 146,
    "start_time": "2023-05-24T20:27:30.236Z"
   },
   {
    "duration": 153,
    "start_time": "2023-05-24T20:27:30.384Z"
   },
   {
    "duration": 6,
    "start_time": "2023-05-24T20:27:30.539Z"
   },
   {
    "duration": 190,
    "start_time": "2023-05-24T20:27:30.546Z"
   },
   {
    "duration": 6,
    "start_time": "2023-05-24T20:36:26.744Z"
   },
   {
    "duration": 15,
    "start_time": "2023-05-24T20:36:27.630Z"
   },
   {
    "duration": 6,
    "start_time": "2023-05-24T20:37:29.086Z"
   },
   {
    "duration": 138,
    "start_time": "2023-05-24T20:37:30.713Z"
   },
   {
    "duration": 7,
    "start_time": "2023-05-24T20:38:02.345Z"
   },
   {
    "duration": 138,
    "start_time": "2023-05-24T20:38:02.996Z"
   },
   {
    "duration": 8,
    "start_time": "2023-05-24T20:38:13.699Z"
   },
   {
    "duration": 149,
    "start_time": "2023-05-24T20:38:15.728Z"
   },
   {
    "duration": 5,
    "start_time": "2023-05-24T20:39:18.902Z"
   },
   {
    "duration": 55,
    "start_time": "2023-05-24T20:46:53.956Z"
   },
   {
    "duration": 59,
    "start_time": "2023-05-24T20:46:59.933Z"
   },
   {
    "duration": 53,
    "start_time": "2023-05-24T20:47:11.154Z"
   },
   {
    "duration": 8,
    "start_time": "2023-05-24T20:47:16.993Z"
   },
   {
    "duration": 10,
    "start_time": "2023-05-24T20:47:26.153Z"
   },
   {
    "duration": 129,
    "start_time": "2023-05-24T20:47:45.344Z"
   },
   {
    "duration": 11,
    "start_time": "2023-05-24T20:48:07.492Z"
   },
   {
    "duration": 141,
    "start_time": "2023-05-24T20:48:23.005Z"
   },
   {
    "duration": 8,
    "start_time": "2023-05-24T20:49:35.952Z"
   },
   {
    "duration": 128,
    "start_time": "2023-05-24T20:49:38.869Z"
   },
   {
    "duration": 141,
    "start_time": "2023-05-24T20:49:43.955Z"
   },
   {
    "duration": 11,
    "start_time": "2023-05-24T20:50:40.298Z"
   },
   {
    "duration": 12,
    "start_time": "2023-05-24T20:50:47.570Z"
   },
   {
    "duration": 144,
    "start_time": "2023-05-24T20:50:48.407Z"
   },
   {
    "duration": 144,
    "start_time": "2023-05-24T20:50:51.087Z"
   },
   {
    "duration": 145,
    "start_time": "2023-05-24T20:51:08.168Z"
   },
   {
    "duration": 151,
    "start_time": "2023-05-24T20:51:11.288Z"
   },
   {
    "duration": 5,
    "start_time": "2023-05-24T20:51:19.654Z"
   },
   {
    "duration": 167,
    "start_time": "2023-05-24T20:51:19.661Z"
   },
   {
    "duration": 9,
    "start_time": "2023-05-24T20:51:19.831Z"
   },
   {
    "duration": 12,
    "start_time": "2023-05-24T20:51:19.842Z"
   },
   {
    "duration": 27,
    "start_time": "2023-05-24T20:51:19.857Z"
   },
   {
    "duration": 20,
    "start_time": "2023-05-24T20:51:19.886Z"
   },
   {
    "duration": 106,
    "start_time": "2023-05-24T20:51:19.917Z"
   },
   {
    "duration": 10,
    "start_time": "2023-05-24T20:51:20.025Z"
   },
   {
    "duration": 127,
    "start_time": "2023-05-24T20:51:20.037Z"
   },
   {
    "duration": 88,
    "start_time": "2023-05-24T20:51:20.166Z"
   },
   {
    "duration": 101,
    "start_time": "2023-05-24T20:51:20.256Z"
   },
   {
    "duration": 7,
    "start_time": "2023-05-24T20:51:20.359Z"
   },
   {
    "duration": 34,
    "start_time": "2023-05-24T20:51:20.367Z"
   },
   {
    "duration": 23,
    "start_time": "2023-05-24T20:51:20.404Z"
   },
   {
    "duration": 46,
    "start_time": "2023-05-24T20:51:20.429Z"
   },
   {
    "duration": 43,
    "start_time": "2023-05-24T20:51:20.477Z"
   },
   {
    "duration": 7,
    "start_time": "2023-05-24T20:51:20.521Z"
   },
   {
    "duration": 222,
    "start_time": "2023-05-24T20:51:20.531Z"
   },
   {
    "duration": 3,
    "start_time": "2023-05-24T20:51:20.754Z"
   },
   {
    "duration": 70,
    "start_time": "2023-05-24T20:51:20.759Z"
   },
   {
    "duration": 74,
    "start_time": "2023-05-24T20:51:20.832Z"
   },
   {
    "duration": 26,
    "start_time": "2023-05-24T20:51:20.908Z"
   },
   {
    "duration": 41,
    "start_time": "2023-05-24T20:51:20.936Z"
   },
   {
    "duration": 70,
    "start_time": "2023-05-24T20:51:20.979Z"
   },
   {
    "duration": 28,
    "start_time": "2023-05-24T20:51:21.051Z"
   },
   {
    "duration": 91,
    "start_time": "2023-05-24T20:51:21.081Z"
   },
   {
    "duration": 11,
    "start_time": "2023-05-24T20:51:21.174Z"
   },
   {
    "duration": 48,
    "start_time": "2023-05-24T20:51:21.187Z"
   },
   {
    "duration": 64,
    "start_time": "2023-05-24T20:51:21.237Z"
   },
   {
    "duration": 10,
    "start_time": "2023-05-24T20:51:21.303Z"
   },
   {
    "duration": 12,
    "start_time": "2023-05-24T20:51:21.314Z"
   },
   {
    "duration": 148,
    "start_time": "2023-05-24T20:51:21.328Z"
   },
   {
    "duration": 147,
    "start_time": "2023-05-24T20:51:21.477Z"
   },
   {
    "duration": 153,
    "start_time": "2023-05-24T20:51:21.626Z"
   },
   {
    "duration": 171,
    "start_time": "2023-05-24T20:51:21.780Z"
   },
   {
    "duration": 1271,
    "start_time": "2023-05-25T07:09:01.028Z"
   },
   {
    "duration": 153,
    "start_time": "2023-05-25T07:09:02.302Z"
   },
   {
    "duration": 17,
    "start_time": "2023-05-25T07:09:02.457Z"
   },
   {
    "duration": 4,
    "start_time": "2023-05-25T07:09:02.476Z"
   },
   {
    "duration": 41,
    "start_time": "2023-05-25T07:09:02.483Z"
   },
   {
    "duration": 34,
    "start_time": "2023-05-25T07:09:02.526Z"
   },
   {
    "duration": 131,
    "start_time": "2023-05-25T07:09:02.561Z"
   },
   {
    "duration": 10,
    "start_time": "2023-05-25T07:09:02.693Z"
   },
   {
    "duration": 102,
    "start_time": "2023-05-25T07:09:02.704Z"
   },
   {
    "duration": 99,
    "start_time": "2023-05-25T07:09:02.808Z"
   },
   {
    "duration": 82,
    "start_time": "2023-05-25T07:09:02.909Z"
   },
   {
    "duration": 5,
    "start_time": "2023-05-25T07:09:02.993Z"
   },
   {
    "duration": 30,
    "start_time": "2023-05-25T07:09:02.999Z"
   },
   {
    "duration": 8,
    "start_time": "2023-05-25T07:09:03.052Z"
   },
   {
    "duration": 36,
    "start_time": "2023-05-25T07:09:03.062Z"
   },
   {
    "duration": 14,
    "start_time": "2023-05-25T07:09:03.100Z"
   },
   {
    "duration": 37,
    "start_time": "2023-05-25T07:09:03.116Z"
   },
   {
    "duration": 306,
    "start_time": "2023-05-25T07:09:03.155Z"
   },
   {
    "duration": 3,
    "start_time": "2023-05-25T07:09:03.463Z"
   },
   {
    "duration": 21,
    "start_time": "2023-05-25T07:09:03.468Z"
   },
   {
    "duration": 60,
    "start_time": "2023-05-25T07:09:03.492Z"
   },
   {
    "duration": 17,
    "start_time": "2023-05-25T07:09:03.553Z"
   },
   {
    "duration": 10,
    "start_time": "2023-05-25T07:09:03.572Z"
   },
   {
    "duration": 33,
    "start_time": "2023-05-25T07:09:03.583Z"
   },
   {
    "duration": 47,
    "start_time": "2023-05-25T07:09:03.617Z"
   },
   {
    "duration": 56,
    "start_time": "2023-05-25T07:09:03.666Z"
   },
   {
    "duration": 28,
    "start_time": "2023-05-25T07:09:03.723Z"
   },
   {
    "duration": 10,
    "start_time": "2023-05-25T07:09:03.753Z"
   },
   {
    "duration": 686,
    "start_time": "2023-05-25T07:09:03.765Z"
   },
   {
    "duration": 7,
    "start_time": "2023-05-25T07:09:04.453Z"
   },
   {
    "duration": 16,
    "start_time": "2023-05-25T07:09:04.462Z"
   },
   {
    "duration": 220,
    "start_time": "2023-05-25T07:09:04.480Z"
   },
   {
    "duration": 138,
    "start_time": "2023-05-25T07:09:04.702Z"
   },
   {
    "duration": 139,
    "start_time": "2023-05-25T07:09:04.842Z"
   },
   {
    "duration": 147,
    "start_time": "2023-05-25T07:09:04.983Z"
   },
   {
    "duration": 44,
    "start_time": "2023-05-25T07:43:55.221Z"
   },
   {
    "duration": 1225,
    "start_time": "2023-05-25T07:43:58.087Z"
   },
   {
    "duration": 694,
    "start_time": "2023-05-25T07:43:59.314Z"
   },
   {
    "duration": 15,
    "start_time": "2023-05-25T07:44:00.009Z"
   },
   {
    "duration": 50,
    "start_time": "2023-05-25T07:44:00.026Z"
   },
   {
    "duration": 47,
    "start_time": "2023-05-25T07:44:00.078Z"
   },
   {
    "duration": 32,
    "start_time": "2023-05-25T07:44:00.127Z"
   },
   {
    "duration": 136,
    "start_time": "2023-05-25T07:44:00.161Z"
   },
   {
    "duration": 9,
    "start_time": "2023-05-25T07:44:00.299Z"
   },
   {
    "duration": 98,
    "start_time": "2023-05-25T07:44:00.309Z"
   },
   {
    "duration": 98,
    "start_time": "2023-05-25T07:44:00.409Z"
   },
   {
    "duration": 74,
    "start_time": "2023-05-25T07:44:00.509Z"
   },
   {
    "duration": 21,
    "start_time": "2023-05-25T07:44:00.585Z"
   },
   {
    "duration": 44,
    "start_time": "2023-05-25T07:44:00.609Z"
   },
   {
    "duration": 42,
    "start_time": "2023-05-25T07:44:00.656Z"
   },
   {
    "duration": 72,
    "start_time": "2023-05-25T07:44:00.699Z"
   },
   {
    "duration": 33,
    "start_time": "2023-05-25T07:44:00.773Z"
   },
   {
    "duration": 54,
    "start_time": "2023-05-25T07:44:00.808Z"
   },
   {
    "duration": 343,
    "start_time": "2023-05-25T07:44:00.865Z"
   },
   {
    "duration": 2,
    "start_time": "2023-05-25T07:44:01.210Z"
   },
   {
    "duration": 38,
    "start_time": "2023-05-25T07:44:01.214Z"
   },
   {
    "duration": 66,
    "start_time": "2023-05-25T07:44:01.254Z"
   },
   {
    "duration": 23,
    "start_time": "2023-05-25T07:44:01.322Z"
   },
   {
    "duration": 37,
    "start_time": "2023-05-25T07:44:01.347Z"
   },
   {
    "duration": 57,
    "start_time": "2023-05-25T07:44:01.386Z"
   },
   {
    "duration": 27,
    "start_time": "2023-05-25T07:44:01.446Z"
   },
   {
    "duration": 71,
    "start_time": "2023-05-25T07:44:01.475Z"
   },
   {
    "duration": 10,
    "start_time": "2023-05-25T07:44:01.548Z"
   },
   {
    "duration": 32,
    "start_time": "2023-05-25T07:44:01.560Z"
   },
   {
    "duration": 438,
    "start_time": "2023-05-25T07:44:01.594Z"
   },
   {
    "duration": 7,
    "start_time": "2023-05-25T07:44:02.034Z"
   },
   {
    "duration": 40,
    "start_time": "2023-05-25T07:44:02.042Z"
   },
   {
    "duration": 166,
    "start_time": "2023-05-25T07:44:02.083Z"
   },
   {
    "duration": 146,
    "start_time": "2023-05-25T07:44:02.250Z"
   },
   {
    "duration": 162,
    "start_time": "2023-05-25T07:44:02.406Z"
   },
   {
    "duration": 138,
    "start_time": "2023-05-25T07:44:02.569Z"
   },
   {
    "duration": 3,
    "start_time": "2023-05-25T07:55:38.348Z"
   },
   {
    "duration": 131,
    "start_time": "2023-05-25T07:55:38.353Z"
   },
   {
    "duration": 8,
    "start_time": "2023-05-25T07:55:38.486Z"
   },
   {
    "duration": 15,
    "start_time": "2023-05-25T07:55:38.496Z"
   },
   {
    "duration": 26,
    "start_time": "2023-05-25T07:55:38.513Z"
   },
   {
    "duration": 18,
    "start_time": "2023-05-25T07:55:38.540Z"
   },
   {
    "duration": 111,
    "start_time": "2023-05-25T07:55:38.559Z"
   },
   {
    "duration": 8,
    "start_time": "2023-05-25T07:55:38.672Z"
   },
   {
    "duration": 99,
    "start_time": "2023-05-25T07:55:38.682Z"
   },
   {
    "duration": 72,
    "start_time": "2023-05-25T07:55:38.783Z"
   },
   {
    "duration": 59,
    "start_time": "2023-05-25T07:55:38.856Z"
   },
   {
    "duration": 4,
    "start_time": "2023-05-25T07:55:38.916Z"
   },
   {
    "duration": 25,
    "start_time": "2023-05-25T07:55:38.921Z"
   },
   {
    "duration": 8,
    "start_time": "2023-05-25T07:55:38.948Z"
   },
   {
    "duration": 57,
    "start_time": "2023-05-25T07:55:38.957Z"
   },
   {
    "duration": 13,
    "start_time": "2023-05-25T07:55:39.015Z"
   },
   {
    "duration": 19,
    "start_time": "2023-05-25T07:55:39.029Z"
   },
   {
    "duration": 180,
    "start_time": "2023-05-25T07:55:39.050Z"
   },
   {
    "duration": 3,
    "start_time": "2023-05-25T07:55:39.231Z"
   },
   {
    "duration": 32,
    "start_time": "2023-05-25T07:55:39.236Z"
   },
   {
    "duration": 18,
    "start_time": "2023-05-25T07:55:39.269Z"
   },
   {
    "duration": 18,
    "start_time": "2023-05-25T07:55:39.289Z"
   },
   {
    "duration": 32,
    "start_time": "2023-05-25T07:55:39.308Z"
   },
   {
    "duration": 20,
    "start_time": "2023-05-25T07:55:39.341Z"
   },
   {
    "duration": 66,
    "start_time": "2023-05-25T07:55:39.362Z"
   },
   {
    "duration": 7,
    "start_time": "2023-05-25T07:55:39.430Z"
   },
   {
    "duration": 14,
    "start_time": "2023-05-25T07:55:39.439Z"
   },
   {
    "duration": 47,
    "start_time": "2023-05-25T07:55:39.455Z"
   },
   {
    "duration": 6,
    "start_time": "2023-05-25T07:55:39.506Z"
   },
   {
    "duration": 8,
    "start_time": "2023-05-25T07:55:39.513Z"
   },
   {
    "duration": 134,
    "start_time": "2023-05-25T07:55:39.522Z"
   },
   {
    "duration": 118,
    "start_time": "2023-05-25T07:55:39.657Z"
   },
   {
    "duration": 130,
    "start_time": "2023-05-25T07:55:39.776Z"
   },
   {
    "duration": 136,
    "start_time": "2023-05-25T07:55:39.908Z"
   },
   {
    "duration": 4,
    "start_time": "2023-05-25T08:04:00.094Z"
   },
   {
    "duration": 173,
    "start_time": "2023-05-25T08:04:00.100Z"
   },
   {
    "duration": 10,
    "start_time": "2023-05-25T08:04:00.275Z"
   },
   {
    "duration": 45,
    "start_time": "2023-05-25T08:04:00.287Z"
   },
   {
    "duration": 38,
    "start_time": "2023-05-25T08:04:00.334Z"
   },
   {
    "duration": 37,
    "start_time": "2023-05-25T08:04:00.374Z"
   },
   {
    "duration": 110,
    "start_time": "2023-05-25T08:04:00.412Z"
   },
   {
    "duration": 8,
    "start_time": "2023-05-25T08:04:00.524Z"
   },
   {
    "duration": 110,
    "start_time": "2023-05-25T08:04:00.533Z"
   },
   {
    "duration": 90,
    "start_time": "2023-05-25T08:04:00.644Z"
   },
   {
    "duration": 71,
    "start_time": "2023-05-25T08:04:00.736Z"
   },
   {
    "duration": 4,
    "start_time": "2023-05-25T08:04:00.809Z"
   },
   {
    "duration": 61,
    "start_time": "2023-05-25T08:04:00.815Z"
   },
   {
    "duration": 28,
    "start_time": "2023-05-25T08:04:00.879Z"
   },
   {
    "duration": 69,
    "start_time": "2023-05-25T08:04:00.908Z"
   },
   {
    "duration": 14,
    "start_time": "2023-05-25T08:04:00.979Z"
   },
   {
    "duration": 29,
    "start_time": "2023-05-25T08:04:00.994Z"
   },
   {
    "duration": 218,
    "start_time": "2023-05-25T08:04:01.024Z"
   },
   {
    "duration": 3,
    "start_time": "2023-05-25T08:04:01.244Z"
   },
   {
    "duration": 40,
    "start_time": "2023-05-25T08:04:01.248Z"
   },
   {
    "duration": 26,
    "start_time": "2023-05-25T08:04:01.289Z"
   },
   {
    "duration": 51,
    "start_time": "2023-05-25T08:04:01.316Z"
   },
   {
    "duration": 52,
    "start_time": "2023-05-25T08:04:01.369Z"
   },
   {
    "duration": 21,
    "start_time": "2023-05-25T08:04:01.422Z"
   },
   {
    "duration": 83,
    "start_time": "2023-05-25T08:04:01.444Z"
   },
   {
    "duration": 38,
    "start_time": "2023-05-25T08:04:01.529Z"
   },
   {
    "duration": 40,
    "start_time": "2023-05-25T08:04:01.568Z"
   },
   {
    "duration": 96,
    "start_time": "2023-05-25T08:04:01.610Z"
   },
   {
    "duration": 22,
    "start_time": "2023-05-25T08:04:01.708Z"
   },
   {
    "duration": 32,
    "start_time": "2023-05-25T08:04:01.731Z"
   },
   {
    "duration": 173,
    "start_time": "2023-05-25T08:04:01.765Z"
   },
   {
    "duration": 123,
    "start_time": "2023-05-25T08:04:01.940Z"
   },
   {
    "duration": 129,
    "start_time": "2023-05-25T08:04:02.065Z"
   },
   {
    "duration": 146,
    "start_time": "2023-05-25T08:04:02.196Z"
   },
   {
    "duration": 1395,
    "start_time": "2023-05-25T10:35:43.275Z"
   },
   {
    "duration": 159,
    "start_time": "2023-05-25T10:35:44.672Z"
   },
   {
    "duration": 18,
    "start_time": "2023-05-25T10:35:44.833Z"
   },
   {
    "duration": 5,
    "start_time": "2023-05-25T10:35:44.858Z"
   },
   {
    "duration": 37,
    "start_time": "2023-05-25T10:35:44.867Z"
   },
   {
    "duration": 25,
    "start_time": "2023-05-25T10:35:44.907Z"
   },
   {
    "duration": 142,
    "start_time": "2023-05-25T10:35:44.958Z"
   },
   {
    "duration": 19,
    "start_time": "2023-05-25T10:35:45.102Z"
   },
   {
    "duration": 102,
    "start_time": "2023-05-25T10:35:45.122Z"
   },
   {
    "duration": 118,
    "start_time": "2023-05-25T10:35:45.226Z"
   },
   {
    "duration": 84,
    "start_time": "2023-05-25T10:35:45.346Z"
   },
   {
    "duration": 6,
    "start_time": "2023-05-25T10:35:45.433Z"
   },
   {
    "duration": 45,
    "start_time": "2023-05-25T10:35:45.458Z"
   },
   {
    "duration": 12,
    "start_time": "2023-05-25T10:35:45.507Z"
   },
   {
    "duration": 89,
    "start_time": "2023-05-25T10:35:45.521Z"
   },
   {
    "duration": 29,
    "start_time": "2023-05-25T10:35:45.612Z"
   },
   {
    "duration": 8,
    "start_time": "2023-05-25T10:35:45.658Z"
   },
   {
    "duration": 368,
    "start_time": "2023-05-25T10:35:45.667Z"
   },
   {
    "duration": 2,
    "start_time": "2023-05-25T10:35:46.038Z"
   },
   {
    "duration": 36,
    "start_time": "2023-05-25T10:35:46.042Z"
   },
   {
    "duration": 27,
    "start_time": "2023-05-25T10:35:46.080Z"
   },
   {
    "duration": 14,
    "start_time": "2023-05-25T10:35:46.110Z"
   },
   {
    "duration": 65,
    "start_time": "2023-05-25T10:35:46.158Z"
   },
   {
    "duration": 60,
    "start_time": "2023-05-25T10:35:46.225Z"
   },
   {
    "duration": 99,
    "start_time": "2023-05-25T10:35:46.287Z"
   },
   {
    "duration": 13,
    "start_time": "2023-05-25T10:35:46.388Z"
   },
   {
    "duration": 18,
    "start_time": "2023-05-25T10:35:46.403Z"
   },
   {
    "duration": 690,
    "start_time": "2023-05-25T10:35:46.422Z"
   },
   {
    "duration": 12,
    "start_time": "2023-05-25T10:35:47.114Z"
   },
   {
    "duration": 13,
    "start_time": "2023-05-25T10:35:47.159Z"
   },
   {
    "duration": 264,
    "start_time": "2023-05-25T10:35:47.174Z"
   },
   {
    "duration": 176,
    "start_time": "2023-05-25T10:35:47.440Z"
   },
   {
    "duration": 215,
    "start_time": "2023-05-25T10:35:47.618Z"
   },
   {
    "duration": 229,
    "start_time": "2023-05-25T10:35:47.835Z"
   },
   {
    "duration": 1209,
    "start_time": "2023-05-25T17:04:48.366Z"
   },
   {
    "duration": 150,
    "start_time": "2023-05-25T17:04:49.577Z"
   },
   {
    "duration": 21,
    "start_time": "2023-05-25T17:04:49.729Z"
   },
   {
    "duration": 3,
    "start_time": "2023-05-25T17:04:49.752Z"
   },
   {
    "duration": 20,
    "start_time": "2023-05-25T17:04:49.756Z"
   },
   {
    "duration": 12,
    "start_time": "2023-05-25T17:04:49.778Z"
   },
   {
    "duration": 127,
    "start_time": "2023-05-25T17:04:49.792Z"
   },
   {
    "duration": 8,
    "start_time": "2023-05-25T17:04:49.921Z"
   },
   {
    "duration": 86,
    "start_time": "2023-05-25T17:04:49.931Z"
   },
   {
    "duration": 101,
    "start_time": "2023-05-25T17:04:50.021Z"
   },
   {
    "duration": 79,
    "start_time": "2023-05-25T17:04:50.124Z"
   },
   {
    "duration": 6,
    "start_time": "2023-05-25T17:04:50.205Z"
   },
   {
    "duration": 42,
    "start_time": "2023-05-25T17:04:50.213Z"
   },
   {
    "duration": 8,
    "start_time": "2023-05-25T17:04:50.256Z"
   },
   {
    "duration": 39,
    "start_time": "2023-05-25T17:04:50.266Z"
   },
   {
    "duration": 15,
    "start_time": "2023-05-25T17:04:50.307Z"
   },
   {
    "duration": 29,
    "start_time": "2023-05-25T17:04:50.323Z"
   },
   {
    "duration": 312,
    "start_time": "2023-05-25T17:04:50.354Z"
   },
   {
    "duration": 3,
    "start_time": "2023-05-25T17:04:50.667Z"
   },
   {
    "duration": 42,
    "start_time": "2023-05-25T17:04:50.671Z"
   },
   {
    "duration": 24,
    "start_time": "2023-05-25T17:04:50.714Z"
   },
   {
    "duration": 18,
    "start_time": "2023-05-25T17:04:50.739Z"
   },
   {
    "duration": 37,
    "start_time": "2023-05-25T17:04:50.759Z"
   },
   {
    "duration": 23,
    "start_time": "2023-05-25T17:04:50.798Z"
   },
   {
    "duration": 83,
    "start_time": "2023-05-25T17:04:50.823Z"
   },
   {
    "duration": 9,
    "start_time": "2023-05-25T17:04:50.908Z"
   },
   {
    "duration": 22,
    "start_time": "2023-05-25T17:04:50.918Z"
   },
   {
    "duration": 634,
    "start_time": "2023-05-25T17:04:50.943Z"
   },
   {
    "duration": 8,
    "start_time": "2023-05-25T17:04:51.578Z"
   },
   {
    "duration": 18,
    "start_time": "2023-05-25T17:04:51.588Z"
   },
   {
    "duration": 219,
    "start_time": "2023-05-25T17:04:51.608Z"
   },
   {
    "duration": 145,
    "start_time": "2023-05-25T17:04:51.828Z"
   },
   {
    "duration": 147,
    "start_time": "2023-05-25T17:04:51.974Z"
   },
   {
    "duration": 192,
    "start_time": "2023-05-25T17:04:52.123Z"
   },
   {
    "duration": 1804,
    "start_time": "2023-05-25T17:23:53.548Z"
   },
   {
    "duration": 1660,
    "start_time": "2023-05-25T17:24:08.416Z"
   },
   {
    "duration": 21,
    "start_time": "2023-05-25T17:24:15.273Z"
   }
  ],
  "kernelspec": {
   "display_name": "Python 3 (ipykernel)",
   "language": "python",
   "name": "python3"
  },
  "language_info": {
   "codemirror_mode": {
    "name": "ipython",
    "version": 3
   },
   "file_extension": ".py",
   "mimetype": "text/x-python",
   "name": "python",
   "nbconvert_exporter": "python",
   "pygments_lexer": "ipython3",
   "version": "3.11.3"
  },
  "toc": {
   "base_numbering": 1,
   "nav_menu": {
    "height": "292.997px",
    "width": "626.989px"
   },
   "number_sections": true,
   "sideBar": true,
   "skip_h1_title": true,
   "title_cell": "Table of Contents",
   "title_sidebar": "Contents",
   "toc_cell": false,
   "toc_position": {},
   "toc_section_display": true,
   "toc_window_display": false
  }
 },
 "nbformat": 4,
 "nbformat_minor": 2
}
